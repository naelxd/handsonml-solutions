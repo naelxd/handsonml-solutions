{
  "cells": [
    {
      "cell_type": "markdown",
      "source": [
        "# MNIST Classification"
      ],
      "metadata": {
        "id": "5ahno1SqclnQ"
      },
      "id": "5ahno1SqclnQ"
    },
    {
      "cell_type": "markdown",
      "source": [
        "<td>\n",
        "    <a href=\"https://colab.research.google.com/github/nikitaosovskiy/hadnson_ml/blob/main/02-mnist_classification/mnist.ipynb\" target=\"_parent\"><img src=\"https://colab.research.google.com/assets/colab-badge.svg\" alt=\"Open In Colab\"/></a>\n",
        "</td>"
      ],
      "metadata": {
        "id": "7YyLdNuFcdBB"
      },
      "id": "7YyLdNuFcdBB"
    },
    {
      "cell_type": "code",
      "execution_count": 1,
      "id": "f531b7d2",
      "metadata": {
        "id": "f531b7d2"
      },
      "outputs": [],
      "source": [
        "import numpy as np\n",
        "import pandas as pd\n",
        "from sklearn.datasets import fetch_openml\n",
        "import matplotlib as mpl\n",
        "import matplotlib.pyplot as plt\n",
        "from sklearn.neighbors import KNeighborsClassifier\n",
        "from sklearn.model_selection import cross_val_predict, cross_val_score, GridSearchCV\n",
        "from sklearn.metrics import confusion_matrix, precision_score, \\\n",
        "                            recall_score, f1_score, accuracy_score\n",
        "from scipy.ndimage.interpolation import shift"
      ]
    },
    {
      "cell_type": "markdown",
      "id": "89c5aa78",
      "metadata": {
        "id": "89c5aa78"
      },
      "source": [
        "# Load data"
      ]
    },
    {
      "cell_type": "code",
      "execution_count": 2,
      "id": "43e0d34b",
      "metadata": {
        "colab": {
          "base_uri": "https://localhost:8080/"
        },
        "id": "43e0d34b",
        "outputId": "c0e9c2e3-809a-4213-8d69-7b2bfdfd9fed"
      },
      "outputs": [
        {
          "output_type": "execute_result",
          "data": {
            "text/plain": [
              "dict_keys(['data', 'target', 'frame', 'categories', 'feature_names', 'target_names', 'DESCR', 'details', 'url'])"
            ]
          },
          "metadata": {},
          "execution_count": 2
        }
      ],
      "source": [
        "mnist = fetch_openml('mnist_784', version=1, as_frame = False)\n",
        "mnist.keys()"
      ]
    },
    {
      "cell_type": "code",
      "execution_count": 3,
      "id": "e188dd4b",
      "metadata": {
        "colab": {
          "base_uri": "https://localhost:8080/"
        },
        "id": "e188dd4b",
        "outputId": "ac340db0-48ec-4aec-9a0b-d51d80e3cc51"
      },
      "outputs": [
        {
          "output_type": "execute_result",
          "data": {
            "text/plain": [
              "(70000, 784)"
            ]
          },
          "metadata": {},
          "execution_count": 3
        }
      ],
      "source": [
        "X, y = mnist['data'], mnist['target']\n",
        "\n",
        "X.shape"
      ]
    },
    {
      "cell_type": "markdown",
      "id": "57e6d667",
      "metadata": {
        "id": "57e6d667"
      },
      "source": [
        "# Looking for data"
      ]
    },
    {
      "cell_type": "code",
      "execution_count": 4,
      "id": "fd77a7c8",
      "metadata": {
        "colab": {
          "base_uri": "https://localhost:8080/",
          "height": 266
        },
        "id": "fd77a7c8",
        "outputId": "2237b5fe-354d-4b11-94d7-c8f573395843"
      },
      "outputs": [
        {
          "output_type": "execute_result",
          "data": {
            "text/plain": [
              "(-0.5, 27.5, 27.5, -0.5)"
            ]
          },
          "metadata": {},
          "execution_count": 4
        },
        {
          "output_type": "display_data",
          "data": {
            "image/png": "[encoded data removed]",
            "text/plain": [
              "<Figure size 432x288 with 1 Axes>"
            ]
          },
          "metadata": {
            "needs_background": "light"
          }
        }
      ],
      "source": [
        "some_digit = X[0]\n",
        "some_digit_image = some_digit.reshape(28, 28)\n",
        "\n",
        "plt.imshow(some_digit_image, cmap='binary')\n",
        "plt.axis('off')"
      ]
    },
    {
      "cell_type": "code",
      "execution_count": 5,
      "id": "1c8ea889",
      "metadata": {
        "colab": {
          "base_uri": "https://localhost:8080/",
          "height": 35
        },
        "id": "1c8ea889",
        "outputId": "552bf173-f3ae-470e-fe28-35237565138d"
      },
      "outputs": [
        {
          "output_type": "execute_result",
          "data": {
            "application/vnd.google.colaboratory.intrinsic+json": {
              "type": "string"
            },
            "text/plain": [
              "'5'"
            ]
          },
          "metadata": {},
          "execution_count": 5
        }
      ],
      "source": [
        "y[0]"
      ]
    },
    {
      "cell_type": "code",
      "execution_count": 6,
      "id": "9e9ac1b3",
      "metadata": {
        "id": "9e9ac1b3"
      },
      "outputs": [],
      "source": [
        "y = y.astype(np.uint8)"
      ]
    },
    {
      "cell_type": "code",
      "execution_count": 7,
      "id": "e7abc5a3",
      "metadata": {
        "id": "e7abc5a3"
      },
      "outputs": [],
      "source": [
        "X_train, X_test, y_train, y_test = X[:60000], X[60000:], y[:60000], y[60000:]"
      ]
    },
    {
      "cell_type": "markdown",
      "id": "3351efb6",
      "metadata": {
        "id": "3351efb6"
      },
      "source": [
        "# Training our model"
      ]
    },
    {
      "cell_type": "code",
      "execution_count": 8,
      "id": "8303c844",
      "metadata": {
        "colab": {
          "base_uri": "https://localhost:8080/"
        },
        "id": "8303c844",
        "outputId": "10d91df0-566d-4996-a226-4a3379d3c9e6"
      },
      "outputs": [
        {
          "output_type": "execute_result",
          "data": {
            "text/plain": [
              "KNeighborsClassifier()"
            ]
          },
          "metadata": {},
          "execution_count": 8
        }
      ],
      "source": [
        "knf_clf = KNeighborsClassifier()\n",
        "knf_clf.fit(X_train, y_train)"
      ]
    },
    {
      "cell_type": "code",
      "execution_count": 9,
      "id": "4045efd0",
      "metadata": {
        "colab": {
          "base_uri": "https://localhost:8080/"
        },
        "id": "4045efd0",
        "outputId": "cc04b3c7-b9e2-4448-e22a-35f7852020d6"
      },
      "outputs": [
        {
          "output_type": "execute_result",
          "data": {
            "text/plain": [
              "array([5], dtype=uint8)"
            ]
          },
          "metadata": {},
          "execution_count": 9
        }
      ],
      "source": [
        "knf_clf.predict([some_digit])"
      ]
    },
    {
      "cell_type": "code",
      "execution_count": 10,
      "id": "b6bd3586",
      "metadata": {
        "id": "b6bd3586"
      },
      "outputs": [],
      "source": [
        "y_train_pred = cross_val_predict(knf_clf, X_train, y_train, cv=3)"
      ]
    },
    {
      "cell_type": "code",
      "execution_count": 11,
      "id": "55c0a7d7",
      "metadata": {
        "colab": {
          "base_uri": "https://localhost:8080/"
        },
        "id": "55c0a7d7",
        "outputId": "099fb0a4-a13a-4bdc-a69b-ef37f0caf84f"
      },
      "outputs": [
        {
          "output_type": "execute_result",
          "data": {
            "text/plain": [
              "array([[5882,    4,    5,    0,    1,    5,   19,    1,    2,    4],\n",
              "       [   2, 6705,   10,    2,    1,    1,    3,   11,    2,    5],\n",
              "       [  51,   60, 5695,   15,   11,    4,    9,   87,   17,    9],\n",
              "       [   8,   16,   39, 5903,    1,   63,    4,   40,   33,   24],\n",
              "       [   3,   53,    1,    1, 5628,    0,   13,   11,    2,  130],\n",
              "       [  14,   18,    4,   67,    6, 5211,   58,    7,   11,   25],\n",
              "       [  24,   13,    1,    0,    5,   27, 5846,    0,    2,    0],\n",
              "       [   4,   68,   14,    3,   20,    1,    0, 6083,    3,   69],\n",
              "       [  25,   85,   15,   87,   35,  111,   26,   19, 5382,   66],\n",
              "       [  19,   13,    5,   45,   46,   12,    5,   79,   15, 5710]])"
            ]
          },
          "metadata": {},
          "execution_count": 11
        }
      ],
      "source": [
        "conf_mx = confusion_matrix(y_train, y_train_pred)\n",
        "conf_mx"
      ]
    },
    {
      "cell_type": "code",
      "execution_count": 12,
      "id": "70c2ee77",
      "metadata": {
        "colab": {
          "base_uri": "https://localhost:8080/",
          "height": 292
        },
        "id": "70c2ee77",
        "outputId": "0b6f70a0-6ac5-4f38-b775-6030b2386e46"
      },
      "outputs": [
        {
          "output_type": "execute_result",
          "data": {
            "text/plain": [
              "<matplotlib.image.AxesImage at 0x7f25f0b4b950>"
            ]
          },
          "metadata": {},
          "execution_count": 12
        },
        {
          "output_type": "display_data",
          "data": {
            "image/png": "[encoded data removed]",
            "text/plain": [
              "<Figure size 288x288 with 1 Axes>"
            ]
          },
          "metadata": {
            "needs_background": "light"
          }
        }
      ],
      "source": [
        "plt.matshow(conf_mx, cmap=plt.cm.gray)"
      ]
    },
    {
      "cell_type": "code",
      "execution_count": 13,
      "id": "f8dc861b",
      "metadata": {
        "colab": {
          "base_uri": "https://localhost:8080/",
          "height": 292
        },
        "id": "f8dc861b",
        "outputId": "2421ccc3-cf38-483f-c15f-f17e550ee520"
      },
      "outputs": [
        {
          "output_type": "execute_result",
          "data": {
            "text/plain": [
              "<matplotlib.image.AxesImage at 0x7f25f0b72390>"
            ]
          },
          "metadata": {},
          "execution_count": 13
        },
        {
          "output_type": "display_data",
          "data": {
            "image/png": "[encoded data removed]",
            "text/plain": [
              "<Figure size 288x288 with 1 Axes>"
            ]
          },
          "metadata": {
            "needs_background": "light"
          }
        }
      ],
      "source": [
        "row_sums = conf_mx.sum(axis=1, keepdims=True)\n",
        "norm_conf_mx = conf_mx / row_sums\n",
        "np.fill_diagonal(norm_conf_mx, 0)\n",
        "plt.matshow(norm_conf_mx, cmap=plt.cm.gray)"
      ]
    },
    {
      "cell_type": "code",
      "execution_count": 14,
      "id": "d059163d",
      "metadata": {
        "colab": {
          "base_uri": "https://localhost:8080/"
        },
        "id": "d059163d",
        "outputId": "c95a714d-12d2-4e6e-dd39-7bb5174d08d8"
      },
      "outputs": [
        {
          "output_type": "execute_result",
          "data": {
            "text/plain": [
              "0.9676755320854337"
            ]
          },
          "metadata": {},
          "execution_count": 14
        }
      ],
      "source": [
        "precision_score(y_train, y_train_pred, average='weighted')"
      ]
    },
    {
      "cell_type": "code",
      "execution_count": 15,
      "id": "4e3198c4",
      "metadata": {
        "colab": {
          "base_uri": "https://localhost:8080/"
        },
        "id": "4e3198c4",
        "outputId": "94ba9c51-e772-448e-c77a-8278f9117ea0"
      },
      "outputs": [
        {
          "output_type": "execute_result",
          "data": {
            "text/plain": [
              "0.9674166666666667"
            ]
          },
          "metadata": {},
          "execution_count": 15
        }
      ],
      "source": [
        "recall_score(y_train, y_train_pred, average='weighted')"
      ]
    },
    {
      "cell_type": "code",
      "execution_count": 16,
      "id": "2a88a02a",
      "metadata": {
        "colab": {
          "base_uri": "https://localhost:8080/"
        },
        "id": "2a88a02a",
        "outputId": "e21ab879-b271-4520-eeca-f267ed69fc08"
      },
      "outputs": [
        {
          "output_type": "execute_result",
          "data": {
            "text/plain": [
              "0.9673453023960278"
            ]
          },
          "metadata": {},
          "execution_count": 16
        }
      ],
      "source": [
        "f1_score(y_train, y_train_pred, average='weighted')"
      ]
    },
    {
      "cell_type": "code",
      "execution_count": 17,
      "id": "9f05a764",
      "metadata": {
        "colab": {
          "base_uri": "https://localhost:8080/"
        },
        "id": "9f05a764",
        "outputId": "1b8461b8-350f-4e23-d2dd-6af416f5cb74"
      },
      "outputs": [
        {
          "output_type": "execute_result",
          "data": {
            "text/plain": [
              "GridSearchCV(cv=3, estimator=KNeighborsClassifier(),\n",
              "             param_grid=[{'n_neighbors': [4, 10, 20, 100],\n",
              "                          'weights': ['uniform', 'distance']}],\n",
              "             scoring='f1_weighted')"
            ]
          },
          "metadata": {},
          "execution_count": 17
        }
      ],
      "source": [
        "grid_params = [\n",
        "    {'n_neighbors': [4, 10, 20, 100], 'weights': ['uniform', 'distance']}\n",
        "]\n",
        "\n",
        "grid_search = GridSearchCV(knf_clf, grid_params, cv=3, \n",
        "                          scoring='f1_weighted')\n",
        "grid_search.fit(X_train, y_train)"
      ]
    },
    {
      "cell_type": "code",
      "execution_count": 18,
      "id": "wPZctGq6CYcC",
      "metadata": {
        "colab": {
          "base_uri": "https://localhost:8080/"
        },
        "id": "wPZctGq6CYcC",
        "outputId": "95a9bd51-c63f-4576-c7d2-335ddd361f75"
      },
      "outputs": [
        {
          "output_type": "execute_result",
          "data": {
            "text/plain": [
              "0.9703049836034223"
            ]
          },
          "metadata": {},
          "execution_count": 18
        }
      ],
      "source": [
        "grid_search.best_score_"
      ]
    },
    {
      "cell_type": "markdown",
      "id": "3fde4d98",
      "metadata": {
        "id": "3fde4d98"
      },
      "source": [
        "# 1 exercise"
      ]
    },
    {
      "cell_type": "code",
      "execution_count": 19,
      "id": "5f4a5NVZCfTs",
      "metadata": {
        "colab": {
          "base_uri": "https://localhost:8080/"
        },
        "id": "5f4a5NVZCfTs",
        "outputId": "35fa538c-5c50-413b-fed3-f1b8862ce9a8"
      },
      "outputs": [
        {
          "output_type": "execute_result",
          "data": {
            "text/plain": [
              "KNeighborsClassifier(n_neighbors=4, weights='distance')"
            ]
          },
          "metadata": {},
          "execution_count": 19
        }
      ],
      "source": [
        "knf_clf = KNeighborsClassifier(n_neighbors=4, weights='distance')\n",
        "knf_clf.fit(X_train, y_train)"
      ]
    },
    {
      "cell_type": "code",
      "execution_count": 20,
      "id": "d2cb118c",
      "metadata": {
        "id": "d2cb118c",
        "outputId": "3b4d3754-419e-4607-efdd-f186117afe02",
        "colab": {
          "base_uri": "https://localhost:8080/"
        }
      },
      "outputs": [
        {
          "output_type": "execute_result",
          "data": {
            "text/plain": [
              "array([0.9709 , 0.9698 , 0.97035])"
            ]
          },
          "metadata": {},
          "execution_count": 20
        }
      ],
      "source": [
        "cross_val_score(knf_clf, X_train, y_train, cv=3, scoring='accuracy')"
      ]
    },
    {
      "cell_type": "code",
      "execution_count": 21,
      "id": "9e04248d",
      "metadata": {
        "id": "9e04248d"
      },
      "outputs": [],
      "source": [
        "y_pred = knf_clf.predict(X_test)"
      ]
    },
    {
      "cell_type": "code",
      "execution_count": 22,
      "id": "c9a0e46c",
      "metadata": {
        "id": "c9a0e46c",
        "outputId": "3f975355-186f-492e-addf-7a01d6531572",
        "colab": {
          "base_uri": "https://localhost:8080/"
        }
      },
      "outputs": [
        {
          "output_type": "execute_result",
          "data": {
            "text/plain": [
              "0.9714"
            ]
          },
          "metadata": {},
          "execution_count": 22
        }
      ],
      "source": [
        "accuracy_score(y_test, y_pred)"
      ]
    },
    {
      "cell_type": "code",
      "execution_count": 23,
      "id": "002ab041",
      "metadata": {
        "scrolled": true,
        "id": "002ab041",
        "outputId": "f8304450-8f2f-4d56-e0e2-2fb4b2b91672",
        "colab": {
          "base_uri": "https://localhost:8080/"
        }
      },
      "outputs": [
        {
          "output_type": "execute_result",
          "data": {
            "text/plain": [
              "0.9715166824529755"
            ]
          },
          "metadata": {},
          "execution_count": 23
        }
      ],
      "source": [
        "precision_score(y_test, y_pred, average='weighted')"
      ]
    },
    {
      "cell_type": "markdown",
      "id": "a2b4d5c1",
      "metadata": {
        "id": "a2b4d5c1"
      },
      "source": [
        "# 2 exercise"
      ]
    },
    {
      "cell_type": "code",
      "execution_count": 24,
      "id": "30773bde",
      "metadata": {
        "id": "30773bde"
      },
      "outputs": [],
      "source": [
        "def shift_image(img, x, y):\n",
        "    img_reshaped = img.reshape(28, 28)\n",
        "    return shift(img_reshaped, [x, y], cval=100).reshape(784)"
      ]
    },
    {
      "cell_type": "code",
      "execution_count": 25,
      "id": "b759f9f8",
      "metadata": {
        "id": "b759f9f8",
        "outputId": "f1deecdf-c2cf-4a90-a19f-1fa26e1603a8",
        "colab": {
          "base_uri": "https://localhost:8080/",
          "height": 282
        }
      },
      "outputs": [
        {
          "output_type": "execute_result",
          "data": {
            "text/plain": [
              "<matplotlib.image.AxesImage at 0x7f25f0b1d490>"
            ]
          },
          "metadata": {},
          "execution_count": 25
        },
        {
          "output_type": "display_data",
          "data": {
            "image/png": "[encoded data removed]",
            "text/plain": [
              "<Figure size 432x288 with 1 Axes>"
            ]
          },
          "metadata": {
            "needs_background": "light"
          }
        }
      ],
      "source": [
        "test_func_img = X_train[5]\n",
        "test_func_img_reshaped = test_func_img.reshape(28, 28)\n",
        "\n",
        "plt.imshow(test_func_img_reshaped, cmap='binary')"
      ]
    },
    {
      "cell_type": "code",
      "execution_count": 26,
      "id": "ca261c57",
      "metadata": {
        "id": "ca261c57",
        "outputId": "c31637c1-b304-4b58-d4ea-f9d6960f3ef4",
        "colab": {
          "base_uri": "https://localhost:8080/",
          "height": 282
        }
      },
      "outputs": [
        {
          "output_type": "execute_result",
          "data": {
            "text/plain": [
              "<matplotlib.image.AxesImage at 0x7f25f0aeb850>"
            ]
          },
          "metadata": {},
          "execution_count": 26
        },
        {
          "output_type": "display_data",
          "data": {
            "image/png": "[encoded data removed]",
            "text/plain": [
              "<Figure size 432x288 with 1 Axes>"
            ]
          },
          "metadata": {
            "needs_background": "light"
          }
        }
      ],
      "source": [
        "test_func_img_shifted = shift_image(test_func_img, 5, 2)\n",
        "test_func_img_shifted_res = test_func_img_shifted.reshape(28, 28)\n",
        "\n",
        "plt.imshow(test_func_img_shifted_res, cmap='binary')"
      ]
    },
    {
      "cell_type": "code",
      "execution_count": 27,
      "id": "2f767218",
      "metadata": {
        "id": "2f767218"
      },
      "outputs": [],
      "source": [
        "big_X_train = [X_train]\n",
        "big_y_train = [y_train]\n",
        "\n",
        "for x, y in ((1, 0), (-1, 0), (0, 1), (0, -1)):\n",
        "    shifted_images = np.apply_along_axis(shift_image, axis=1, arr=X_train, x=x, y=y)\n",
        "    big_X_train.append(shifted_images)\n",
        "    big_y_train.append(y_train)\n",
        "    \n",
        "big_X_train = np.concatenate(big_X_train)\n",
        "big_y_train = np.concatenate(big_y_train)"
      ]
    },
    {
      "cell_type": "code",
      "execution_count": 28,
      "id": "2cd4cb86",
      "metadata": {
        "id": "2cd4cb86",
        "outputId": "bbfd34a7-9026-4cd2-aaf1-7530d3a8a9f9",
        "colab": {
          "base_uri": "https://localhost:8080/"
        }
      },
      "outputs": [
        {
          "output_type": "execute_result",
          "data": {
            "text/plain": [
              "((300000, 784), (300000,))"
            ]
          },
          "metadata": {},
          "execution_count": 28
        }
      ],
      "source": [
        "big_X_train.shape, big_y_train.shape"
      ]
    },
    {
      "cell_type": "code",
      "execution_count": 29,
      "id": "0fb1c27f",
      "metadata": {
        "id": "0fb1c27f",
        "outputId": "87110d18-7c1d-4374-e15f-abcbc479d5a0",
        "colab": {
          "base_uri": "https://localhost:8080/"
        }
      },
      "outputs": [
        {
          "output_type": "execute_result",
          "data": {
            "text/plain": [
              "KNeighborsClassifier(n_neighbors=4, weights='distance')"
            ]
          },
          "metadata": {},
          "execution_count": 29
        }
      ],
      "source": [
        "knf_clf = KNeighborsClassifier(n_neighbors=4, weights='distance')\n",
        "knf_clf.fit(big_X_train, big_y_train)"
      ]
    },
    {
      "cell_type": "code",
      "execution_count": 30,
      "id": "ce19eb31",
      "metadata": {
        "id": "ce19eb31"
      },
      "outputs": [],
      "source": [
        "y_pred_big = knf_clf.predict(X_test)"
      ]
    },
    {
      "cell_type": "code",
      "execution_count": 31,
      "id": "c52db373",
      "metadata": {
        "id": "c52db373",
        "outputId": "578bea4b-374b-4496-8ca9-c62c60345112",
        "colab": {
          "base_uri": "https://localhost:8080/"
        }
      },
      "outputs": [
        {
          "output_type": "execute_result",
          "data": {
            "text/plain": [
              "0.9765"
            ]
          },
          "metadata": {},
          "execution_count": 31
        }
      ],
      "source": [
        "accuracy_score(y_test, y_pred_big)"
      ]
    },
    {
      "cell_type": "code",
      "execution_count": 32,
      "id": "546a876b",
      "metadata": {
        "id": "546a876b",
        "outputId": "ac767ffa-ab09-449c-8e29-4db4824ce491",
        "colab": {
          "base_uri": "https://localhost:8080/"
        }
      },
      "outputs": [
        {
          "output_type": "execute_result",
          "data": {
            "text/plain": [
              "0.9765940205299186"
            ]
          },
          "metadata": {},
          "execution_count": 32
        }
      ],
      "source": [
        "precision_score(y_test, y_pred_big, average='weighted')"
      ]
    }
  ],
  "metadata": {
    "accelerator": "GPU",
    "colab": {
      "name": "mnist.ipynb",
      "provenance": []
    },
    "kernelspec": {
      "display_name": "env",
      "language": "python",
      "name": "env"
    },
    "language_info": {
      "codemirror_mode": {
        "name": "ipython",
        "version": 3
      },
      "file_extension": ".py",
      "mimetype": "text/x-python",
      "name": "python",
      "nbconvert_exporter": "python",
      "pygments_lexer": "ipython3",
      "version": "3.9.2"
    }
  },
  "nbformat": 4,
  "nbformat_minor": 5
}