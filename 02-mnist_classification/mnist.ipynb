{
  "cells": [
    {
      "cell_type": "code",
      "execution_count": 28,
      "id": "f531b7d2",
      "metadata": {
        "id": "f531b7d2"
      },
      "outputs": [],
      "source": [
        "import numpy as np\n",
        "import pandas as pd\n",
        "from sklearn.datasets import fetch_openml\n",
        "import matplotlib as mpl\n",
        "import matplotlib.pyplot as plt\n",
        "from sklearn.neighbors import KNeighborsClassifier\n",
        "from sklearn.model_selection import cross_val_predict, GridSearchCV\n",
        "from sklearn.metrics import confusion_matrix, precision_score, \\\n",
        "                            recall_score, f1_score, precision_recall_curve, \\\n",
        "                            roc_auc_score\n",
        "from scipy.ndimage.interpolation import shift"
      ]
    },
    {
      "cell_type": "markdown",
      "id": "89c5aa78",
      "metadata": {
        "id": "89c5aa78"
      },
      "source": [
        "# Load data"
      ]
    },
    {
      "cell_type": "code",
      "execution_count": 2,
      "id": "43e0d34b",
      "metadata": {
        "id": "43e0d34b",
        "outputId": "248e406e-f1ea-4de0-cb37-542a426677a1",
        "colab": {
          "base_uri": "https://localhost:8080/"
        }
      },
      "outputs": [
        {
          "output_type": "execute_result",
          "data": {
            "text/plain": [
              "dict_keys(['data', 'target', 'frame', 'categories', 'feature_names', 'target_names', 'DESCR', 'details', 'url'])"
            ]
          },
          "metadata": {},
          "execution_count": 2
        }
      ],
      "source": [
        "mnist = fetch_openml('mnist_784', version=1, as_frame = False)\n",
        "mnist.keys()"
      ]
    },
    {
      "cell_type": "code",
      "execution_count": 3,
      "id": "e188dd4b",
      "metadata": {
        "id": "e188dd4b",
        "outputId": "765eeef3-3ba3-4a26-dc41-dfebb7405d30",
        "colab": {
          "base_uri": "https://localhost:8080/"
        }
      },
      "outputs": [
        {
          "output_type": "execute_result",
          "data": {
            "text/plain": [
              "(70000, 784)"
            ]
          },
          "metadata": {},
          "execution_count": 3
        }
      ],
      "source": [
        "X, y = mnist['data'], mnist['target']\n",
        "\n",
        "X.shape"
      ]
    },
    {
      "cell_type": "markdown",
      "id": "57e6d667",
      "metadata": {
        "id": "57e6d667"
      },
      "source": [
        "# Looking for data"
      ]
    },
    {
      "cell_type": "code",
      "execution_count": 4,
      "id": "fd77a7c8",
      "metadata": {
        "id": "fd77a7c8",
        "outputId": "28b3908c-8760-44eb-8868-e5267b1c7057",
        "colab": {
          "base_uri": "https://localhost:8080/",
          "height": 266
        }
      },
      "outputs": [
        {
          "output_type": "execute_result",
          "data": {
            "text/plain": [
              "(-0.5, 27.5, 27.5, -0.5)"
            ]
          },
          "metadata": {},
          "execution_count": 4
        },
        {
          "output_type": "display_data",
          "data": {
            "image/png": "[encoded data removed]",
            "text/plain": [
              "<Figure size 432x288 with 1 Axes>"
            ]
          },
          "metadata": {
            "needs_background": "light"
          }
        }
      ],
      "source": [
        "some_digit = X[0]\n",
        "some_digit_image = some_digit.reshape(28, 28)\n",
        "\n",
        "plt.imshow(some_digit_image, cmap='binary')\n",
        "plt.axis('off')"
      ]
    },
    {
      "cell_type": "code",
      "execution_count": 5,
      "id": "1c8ea889",
      "metadata": {
        "id": "1c8ea889",
        "outputId": "b0d8d4b8-7443-45df-ca33-84b5a1c77005",
        "colab": {
          "base_uri": "https://localhost:8080/",
          "height": 35
        }
      },
      "outputs": [
        {
          "output_type": "execute_result",
          "data": {
            "application/vnd.google.colaboratory.intrinsic+json": {
              "type": "string"
            },
            "text/plain": [
              "'5'"
            ]
          },
          "metadata": {},
          "execution_count": 5
        }
      ],
      "source": [
        "y[0]"
      ]
    },
    {
      "cell_type": "code",
      "execution_count": 6,
      "id": "9e9ac1b3",
      "metadata": {
        "id": "9e9ac1b3"
      },
      "outputs": [],
      "source": [
        "y = y.astype(np.uint8)"
      ]
    },
    {
      "cell_type": "code",
      "execution_count": 7,
      "id": "e7abc5a3",
      "metadata": {
        "id": "e7abc5a3"
      },
      "outputs": [],
      "source": [
        "X_train, X_test, y_train, y_test = X[:60000], X[60000:], y[:60000], y[60000:]"
      ]
    },
    {
      "cell_type": "markdown",
      "id": "3351efb6",
      "metadata": {
        "id": "3351efb6"
      },
      "source": [
        "# Training our model"
      ]
    },
    {
      "cell_type": "code",
      "execution_count": 8,
      "id": "8303c844",
      "metadata": {
        "id": "8303c844",
        "outputId": "c5429b66-bce9-4ce0-b490-5c48bc94c37d",
        "colab": {
          "base_uri": "https://localhost:8080/"
        }
      },
      "outputs": [
        {
          "output_type": "execute_result",
          "data": {
            "text/plain": [
              "KNeighborsClassifier()"
            ]
          },
          "metadata": {},
          "execution_count": 8
        }
      ],
      "source": [
        "knf_clf = KNeighborsClassifier()\n",
        "knf_clf.fit(X_train, y_train)"
      ]
    },
    {
      "cell_type": "code",
      "execution_count": 9,
      "id": "4045efd0",
      "metadata": {
        "id": "4045efd0",
        "outputId": "de14dbeb-92e0-49dc-9ae9-91a707906b5b",
        "colab": {
          "base_uri": "https://localhost:8080/"
        }
      },
      "outputs": [
        {
          "output_type": "execute_result",
          "data": {
            "text/plain": [
              "array([5], dtype=uint8)"
            ]
          },
          "metadata": {},
          "execution_count": 9
        }
      ],
      "source": [
        "knf_clf.predict([some_digit])"
      ]
    },
    {
      "cell_type": "code",
      "execution_count": 10,
      "id": "b6bd3586",
      "metadata": {
        "id": "b6bd3586"
      },
      "outputs": [],
      "source": [
        "y_train_pred = cross_val_predict(knf_clf, X_train, y_train, cv=3)"
      ]
    },
    {
      "cell_type": "code",
      "execution_count": 11,
      "id": "55c0a7d7",
      "metadata": {
        "id": "55c0a7d7",
        "outputId": "e47ee956-b215-44c9-d559-8f9130fd9c7b",
        "colab": {
          "base_uri": "https://localhost:8080/"
        }
      },
      "outputs": [
        {
          "output_type": "execute_result",
          "data": {
            "text/plain": [
              "array([[5882,    4,    5,    0,    1,    5,   19,    1,    2,    4],\n",
              "       [   2, 6705,   10,    2,    1,    1,    3,   11,    2,    5],\n",
              "       [  51,   60, 5695,   15,   11,    4,    9,   87,   17,    9],\n",
              "       [   8,   16,   39, 5903,    1,   63,    4,   40,   33,   24],\n",
              "       [   3,   53,    1,    1, 5628,    0,   13,   11,    2,  130],\n",
              "       [  14,   18,    4,   67,    6, 5211,   58,    7,   11,   25],\n",
              "       [  24,   13,    1,    0,    5,   27, 5846,    0,    2,    0],\n",
              "       [   4,   68,   14,    3,   20,    1,    0, 6083,    3,   69],\n",
              "       [  25,   85,   15,   87,   35,  111,   26,   19, 5382,   66],\n",
              "       [  19,   13,    5,   45,   46,   12,    5,   79,   15, 5710]])"
            ]
          },
          "metadata": {},
          "execution_count": 11
        }
      ],
      "source": [
        "conf_mx = confusion_matrix(y_train, y_train_pred)\n",
        "conf_mx"
      ]
    },
    {
      "cell_type": "code",
      "execution_count": 12,
      "id": "70c2ee77",
      "metadata": {
        "id": "70c2ee77",
        "outputId": "62aeea96-6b7a-4d16-c2cb-3b175398f27c",
        "colab": {
          "base_uri": "https://localhost:8080/",
          "height": 292
        }
      },
      "outputs": [
        {
          "output_type": "execute_result",
          "data": {
            "text/plain": [
              "<matplotlib.image.AxesImage at 0x7f1234ff5f50>"
            ]
          },
          "metadata": {},
          "execution_count": 12
        },
        {
          "output_type": "display_data",
          "data": {
            "image/png": "[encoded data removed]",
            "text/plain": [
              "<Figure size 288x288 with 1 Axes>"
            ]
          },
          "metadata": {
            "needs_background": "light"
          }
        }
      ],
      "source": [
        "plt.matshow(conf_mx, cmap=plt.cm.gray)"
      ]
    },
    {
      "cell_type": "code",
      "execution_count": 13,
      "id": "f8dc861b",
      "metadata": {
        "id": "f8dc861b",
        "outputId": "c7f23659-267d-464a-df67-c4f75e848f44",
        "colab": {
          "base_uri": "https://localhost:8080/",
          "height": 292
        }
      },
      "outputs": [
        {
          "output_type": "execute_result",
          "data": {
            "text/plain": [
              "<matplotlib.image.AxesImage at 0x7f1235022110>"
            ]
          },
          "metadata": {},
          "execution_count": 13
        },
        {
          "output_type": "display_data",
          "data": {
            "image/png": "[encoded data removed]",
            "text/plain": [
              "<Figure size 288x288 with 1 Axes>"
            ]
          },
          "metadata": {
            "needs_background": "light"
          }
        }
      ],
      "source": [
        "row_sums = conf_mx.sum(axis=1, keepdims=True)\n",
        "norm_conf_mx = conf_mx / row_sums\n",
        "np.fill_diagonal(norm_conf_mx, 0)\n",
        "plt.matshow(norm_conf_mx, cmap=plt.cm.gray)"
      ]
    },
    {
      "cell_type": "code",
      "execution_count": 14,
      "id": "d059163d",
      "metadata": {
        "id": "d059163d",
        "outputId": "8ba762d3-dd49-4496-8b0c-fe4192616a1a",
        "colab": {
          "base_uri": "https://localhost:8080/"
        }
      },
      "outputs": [
        {
          "output_type": "execute_result",
          "data": {
            "text/plain": [
              "0.9676755320854337"
            ]
          },
          "metadata": {},
          "execution_count": 14
        }
      ],
      "source": [
        "precision_score(y_train, y_train_pred, average='weighted')"
      ]
    },
    {
      "cell_type": "code",
      "execution_count": 15,
      "id": "4e3198c4",
      "metadata": {
        "id": "4e3198c4",
        "outputId": "fcbc5387-97d9-495f-9297-b5649b7843c7",
        "colab": {
          "base_uri": "https://localhost:8080/"
        }
      },
      "outputs": [
        {
          "output_type": "execute_result",
          "data": {
            "text/plain": [
              "0.9674166666666667"
            ]
          },
          "metadata": {},
          "execution_count": 15
        }
      ],
      "source": [
        "recall_score(y_train, y_train_pred, average='weighted')"
      ]
    },
    {
      "cell_type": "code",
      "execution_count": 16,
      "id": "2a88a02a",
      "metadata": {
        "id": "2a88a02a",
        "outputId": "a8c1f990-e29f-4cc5-d8bd-b49a69be429f",
        "colab": {
          "base_uri": "https://localhost:8080/"
        }
      },
      "outputs": [
        {
          "output_type": "execute_result",
          "data": {
            "text/plain": [
              "0.9673453023960278"
            ]
          },
          "metadata": {},
          "execution_count": 16
        }
      ],
      "source": [
        "f1_score(y_train, y_train_pred, average='weighted')"
      ]
    },
    {
      "cell_type": "code",
      "execution_count": 20,
      "id": "9f05a764",
      "metadata": {
        "id": "9f05a764",
        "outputId": "eca43634-a9a9-46a6-92ec-4543a62400c9",
        "colab": {
          "base_uri": "https://localhost:8080/"
        }
      },
      "outputs": [
        {
          "output_type": "execute_result",
          "data": {
            "text/plain": [
              "GridSearchCV(cv=3, estimator=KNeighborsClassifier(),\n",
              "             param_grid=[{'n_neighbors': [10, 20, 100, 200, 1000, 2000],\n",
              "                          'weights': ['uniform', 'distance']}],\n",
              "             scoring='f1_weighted')"
            ]
          },
          "metadata": {},
          "execution_count": 20
        }
      ],
      "source": [
        "grid_params = [\n",
        "    {'n_neighbors': [4, 10, 20, 100, 200, 1000, 2000], 'weights': ['uniform', 'distance']}\n",
        "]\n",
        "\n",
        "grid_search = GridSearchCV(knf_clf, grid_params, cv=3, \n",
        "                          scoring='f1_weighted')\n",
        "grid_search.fit(X_train, y_train)"
      ]
    },
    {
      "cell_type": "code",
      "source": [
        "grid_search.best_score_"
      ],
      "metadata": {
        "id": "wPZctGq6CYcC",
        "outputId": "2c640323-13a9-4a33-fbf2-7a3ea8d0321d",
        "colab": {
          "base_uri": "https://localhost:8080/"
        }
      },
      "id": "wPZctGq6CYcC",
      "execution_count": 25,
      "outputs": [
        {
          "output_type": "execute_result",
          "data": {
            "text/plain": [
              "0.964950317952541"
            ]
          },
          "metadata": {},
          "execution_count": 25
        }
      ]
    },
    {
      "cell_type": "code",
      "source": [
        "knf_clf = KNeighborsClassifier(n_neighbors=4, weights='distance')\n",
        "knf_clf.fit(X_train, y_train)"
      ],
      "metadata": {
        "id": "5f4a5NVZCfTs",
        "outputId": "b1935076-7123-4009-aa58-75a8c53f923c",
        "colab": {
          "base_uri": "https://localhost:8080/"
        }
      },
      "id": "5f4a5NVZCfTs",
      "execution_count": 26,
      "outputs": [
        {
          "output_type": "execute_result",
          "data": {
            "text/plain": [
              "KNeighborsClassifier(n_neighbors=4, weights='distance')"
            ]
          },
          "metadata": {},
          "execution_count": 26
        }
      ]
    },
    {
      "cell_type": "code",
      "source": [
        "y_train_pred = cross_val_predict(knf_clf, X_train, y_train, cv=3, method='predict_proba')"
      ],
      "metadata": {
        "id": "c7p8nARWfNWN"
      },
      "id": "c7p8nARWfNWN",
      "execution_count": 31,
      "outputs": []
    }
  ],
  "metadata": {
    "kernelspec": {
      "display_name": "env",
      "language": "python",
      "name": "env"
    },
    "language_info": {
      "codemirror_mode": {
        "name": "ipython",
        "version": 3
      },
      "file_extension": ".py",
      "mimetype": "text/x-python",
      "name": "python",
      "nbconvert_exporter": "python",
      "pygments_lexer": "ipython3",
      "version": "3.9.2"
    },
    "colab": {
      "name": "mnist.ipynb",
      "provenance": []
    },
    "accelerator": "GPU"
  },
  "nbformat": 4,
  "nbformat_minor": 5
}