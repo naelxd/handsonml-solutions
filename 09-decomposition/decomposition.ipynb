{
 "cells": [
  {
   "cell_type": "markdown",
   "id": "7dafc6b7",
   "metadata": {},
   "source": [
    "**Chapter 8 - Decomposition**"
   ]
  },
  {
   "cell_type": "markdown",
   "id": "c01e6519",
   "metadata": {},
   "source": [
    "My solutions for exercises"
   ]
  },
  {
   "cell_type": "markdown",
   "id": "faf8eb0b",
   "metadata": {},
   "source": [
    "<td>\n",
    "    <a href=\"\" target=\"_parent\"><img src=\"https://colab.research.google.com/assets/colab-badge.svg\" alt=\"Open In Colab\"/></a>\n",
    "</td>"
   ]
  },
  {
   "cell_type": "code",
   "execution_count": 33,
   "id": "4f157dc9",
   "metadata": {},
   "outputs": [],
   "source": [
    "import time\n",
    "\n",
    "import numpy as np\n",
    "import pandas as pd\n",
    "from sklearn.datasets import fetch_openml\n",
    "from sklearn.ensemble import RandomForestClassifier\n",
    "from sklearn.decomposition import PCA\n",
    "from sklearn.metrics import accuracy_score\n",
    "\n",
    "%matplotlib inline\n",
    "import matplotlib.pyplot as plt"
   ]
  },
  {
   "cell_type": "markdown",
   "id": "c6146383",
   "metadata": {},
   "source": [
    "# Ex 9"
   ]
  },
  {
   "cell_type": "markdown",
   "id": "def6d9a2",
   "metadata": {},
   "source": [
    "## Load data"
   ]
  },
  {
   "cell_type": "code",
   "execution_count": 2,
   "id": "4f23ff26",
   "metadata": {},
   "outputs": [],
   "source": [
    "mnist = fetch_openml('mnist_784', version=1, as_frame=False)"
   ]
  },
  {
   "cell_type": "code",
   "execution_count": 4,
   "id": "10559da8",
   "metadata": {},
   "outputs": [],
   "source": [
    "X = mnist['data']\n",
    "y = mnist['target']"
   ]
  },
  {
   "cell_type": "code",
   "execution_count": 6,
   "id": "6c80043c",
   "metadata": {},
   "outputs": [],
   "source": [
    "X_train, X_test, y_train, y_test = X[:60000], X[60000:], y[:60000], y[60000:]"
   ]
  },
  {
   "cell_type": "markdown",
   "id": "6462de5e",
   "metadata": {},
   "source": [
    "## Trainin Random Forest"
   ]
  },
  {
   "cell_type": "code",
   "execution_count": 27,
   "id": "f8a1df5f",
   "metadata": {},
   "outputs": [],
   "source": [
    "rnd_clf = RandomForestClassifier(random_state=42, max_depth=100)"
   ]
  },
  {
   "cell_type": "code",
   "execution_count": 29,
   "id": "a3e371bb",
   "metadata": {},
   "outputs": [
    {
     "name": "stdout",
     "output_type": "stream",
     "text": [
      "36.29458141326904 sec\n"
     ]
    }
   ],
   "source": [
    "start = time.time()\n",
    "rnd_clf.fit(X_train, y_train)\n",
    "end = time.time()\n",
    "\n",
    "print(f'{end - start} sec')"
   ]
  },
  {
   "cell_type": "code",
   "execution_count": 30,
   "id": "531366a1",
   "metadata": {},
   "outputs": [],
   "source": [
    "y_pred = rnd_clf.predict(X_test)"
   ]
  },
  {
   "cell_type": "code",
   "execution_count": 32,
   "id": "1eed887c",
   "metadata": {},
   "outputs": [
    {
     "data": {
      "text/plain": [
       "0.9705"
      ]
     },
     "execution_count": 32,
     "metadata": {},
     "output_type": "execute_result"
    }
   ],
   "source": [
    "accuracy_score(y_test, y_pred)"
   ]
  },
  {
   "cell_type": "markdown",
   "id": "754f0ffc",
   "metadata": {},
   "source": [
    "## Decomposing"
   ]
  },
  {
   "cell_type": "code",
   "execution_count": 39,
   "id": "693406bd",
   "metadata": {},
   "outputs": [],
   "source": [
    "pca = PCA(n_components=0.95)"
   ]
  },
  {
   "cell_type": "code",
   "execution_count": 40,
   "id": "6cf92065",
   "metadata": {},
   "outputs": [],
   "source": [
    "X_train_dec = pca.fit_transform(X_train)"
   ]
  },
  {
   "cell_type": "code",
   "execution_count": 41,
   "id": "6e8b8651",
   "metadata": {},
   "outputs": [],
   "source": [
    "rnd_clf = RandomForestClassifier(random_state=42, max_depth=100)"
   ]
  },
  {
   "cell_type": "code",
   "execution_count": 42,
   "id": "5b7eef61",
   "metadata": {},
   "outputs": [
    {
     "name": "stdout",
     "output_type": "stream",
     "text": [
      "77.45472431182861 sec\n"
     ]
    }
   ],
   "source": [
    "start = time.time()\n",
    "rnd_clf.fit(X_train_dec, y_train)\n",
    "end = time.time()\n",
    "\n",
    "print(f'{end - start} sec')"
   ]
  },
  {
   "cell_type": "code",
   "execution_count": 43,
   "id": "a35ad2a3",
   "metadata": {},
   "outputs": [],
   "source": [
    "X_test_dec = pca.transform(X_test)"
   ]
  },
  {
   "cell_type": "code",
   "execution_count": 44,
   "id": "ee368bec",
   "metadata": {},
   "outputs": [],
   "source": [
    "y_pred = rnd_clf.predict(X_test_dec)"
   ]
  },
  {
   "cell_type": "code",
   "execution_count": 45,
   "id": "cccd114f",
   "metadata": {},
   "outputs": [
    {
     "data": {
      "text/plain": [
       "0.9481"
      ]
     },
     "execution_count": 45,
     "metadata": {},
     "output_type": "execute_result"
    }
   ],
   "source": [
    "accuracy_score(y_test, y_pred)"
   ]
  },
  {
   "cell_type": "markdown",
   "id": "f07d8b18",
   "metadata": {},
   "source": [
    "Model with data after PCA took much more time than without it. Also accuracy score for second example is worser than in first."
   ]
  },
  {
   "cell_type": "markdown",
   "id": "cbe1bb85",
   "metadata": {},
   "source": [
    "# Ex 10"
   ]
  },
  {
   "cell_type": "code",
   "execution_count": null,
   "id": "e1aedb35",
   "metadata": {},
   "outputs": [],
   "source": []
  }
 ],
 "metadata": {
  "kernelspec": {
   "display_name": "env",
   "language": "python",
   "name": "env"
  },
  "language_info": {
   "codemirror_mode": {
    "name": "ipython",
    "version": 3
   },
   "file_extension": ".py",
   "mimetype": "text/x-python",
   "name": "python",
   "nbconvert_exporter": "python",
   "pygments_lexer": "ipython3",
   "version": "3.9.11"
  }
 },
 "nbformat": 4,
 "nbformat_minor": 5
}
