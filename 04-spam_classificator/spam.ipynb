{
 "cells": [
  {
   "cell_type": "markdown",
   "id": "177548b2",
   "metadata": {},
   "source": [
    "# Spam Classification"
   ]
  },
  {
   "cell_type": "markdown",
   "id": "e77d2328",
   "metadata": {},
   "source": [
    "<td>\n",
    "    <a href=\"#\" target=\"_parent\"><img src=\"https://colab.research.google.com/assets/colab-badge.svg\" alt=\"Open In Colab\"/></a>\n",
    "  </td>"
   ]
  },
  {
   "cell_type": "code",
   "execution_count": 3,
   "id": "0d762b84",
   "metadata": {},
   "outputs": [],
   "source": [
    "import os\n",
    "import tarfile\n",
    "import urllib.request\n",
    "import numpy as np\n",
    "import pandas as pd\n",
    "import matplotlib.pyplot as plt"
   ]
  },
  {
   "cell_type": "markdown",
   "id": "22cb918c",
   "metadata": {},
   "source": [
    "## Downloading data"
   ]
  },
  {
   "cell_type": "code",
   "execution_count": 8,
   "id": "ed3e92e9",
   "metadata": {},
   "outputs": [],
   "source": [
    "DATA_URL = 'https://spamassassin.apache.org/old/publiccorpus/'\n",
    "HAM_URL = DATA_URL + '20030228_easy_ham.tar.bz2'\n",
    "SPAM_URL = DATA_URL + '20030228_spam.tar.bz2'\n",
    "DATA_PATH = 'data'\n",
    "\n",
    "def download_data(ham_url=HAM_URL, spam_url=SPAM_URL, data_path=DATA_PATH):\n",
    "    if not os.path.isdir(data_path):\n",
    "        os.makedirs(data_path)\n",
    "    for filename, url in ((\"ham.tar.bz2\", ham_url), (\"spam.tar.bz2\", spam_url)):\n",
    "        path = os.path.join(data_path, filename)\n",
    "        if not os.path.isfile(path):\n",
    "            urllib.request.urlretrieve(url, path)\n",
    "        tar_bz2_file = tarfile.open(path)\n",
    "        tar_bz2_file.extractall(path=data_path)\n",
    "        tar_bz2_file.close()"
   ]
  },
  {
   "cell_type": "code",
   "execution_count": 9,
   "id": "c5c63cda",
   "metadata": {},
   "outputs": [],
   "source": [
    "download_data()"
   ]
  },
  {
   "cell_type": "markdown",
   "id": "ad12de4e",
   "metadata": {},
   "source": [
    "## Looking for data"
   ]
  },
  {
   "cell_type": "code",
   "execution_count": null,
   "id": "2d8a8c75",
   "metadata": {},
   "outputs": [],
   "source": []
  }
 ],
 "metadata": {
  "kernelspec": {
   "display_name": "env",
   "language": "python",
   "name": "env"
  },
  "language_info": {
   "codemirror_mode": {
    "name": "ipython",
    "version": 3
   },
   "file_extension": ".py",
   "mimetype": "text/x-python",
   "name": "python",
   "nbconvert_exporter": "python",
   "pygments_lexer": "ipython3",
   "version": "3.9.2"
  }
 },
 "nbformat": 4,
 "nbformat_minor": 5
}
