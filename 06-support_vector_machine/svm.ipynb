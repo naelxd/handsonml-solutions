{
 "cells": [
  {
   "cell_type": "markdown",
   "id": "64d48ecf",
   "metadata": {},
   "source": [
    "# SVM"
   ]
  },
  {
   "cell_type": "markdown",
   "id": "285f18c4",
   "metadata": {},
   "source": [
    "<td>\n",
    "    <a href=\"https://colab.research.google.com/github/nikitaosovskiy/hadnson_ml/blob/main/06-support_vector_machine/svm.ipynb\" target=\"_parent\"><img src=\"https://colab.research.google.com/assets/colab-badge.svg\" alt=\"Open In Colab\"/></a>\n",
    "</td>"
   ]
  },
  {
   "cell_type": "code",
   "execution_count": 78,
   "id": "a587e736",
   "metadata": {},
   "outputs": [],
   "source": [
    "import numpy as np\n",
    "import matplotlib.pyplot as plt\n",
    "from sklearn import datasets\n",
    "from sklearn.datasets import fetch_openml, fetch_california_housing\n",
    "from sklearn.pipeline import Pipeline\n",
    "from sklearn.preprocessing import StandardScaler\n",
    "from sklearn.svm import LinearSVC, SVC, LinearSVR, SVR\n",
    "from sklearn.linear_model import SGDClassifier\n",
    "from sklearn.multiclass import OneVsRestClassifier\n",
    "from sklearn.metrics import accuracy_score, mean_squared_error\n",
    "from sklearn.model_selection import GridSearchCV, train_test_split, RandomizedSearchCV\n",
    "from scipy.stats import reciprocal, uniform \n",
    "\n",
    "%matplotlib inline"
   ]
  },
  {
   "cell_type": "markdown",
   "id": "0346362d",
   "metadata": {},
   "source": [
    "# 1 Task"
   ]
  },
  {
   "cell_type": "markdown",
   "id": "598b8ffd",
   "metadata": {},
   "source": [
    "## Load data"
   ]
  },
  {
   "cell_type": "code",
   "execution_count": 2,
   "id": "7be8a448",
   "metadata": {},
   "outputs": [],
   "source": [
    "iris = datasets.load_iris()"
   ]
  },
  {
   "cell_type": "code",
   "execution_count": 3,
   "id": "7c9e171b",
   "metadata": {},
   "outputs": [],
   "source": [
    "X = iris['data'][:, (2, 3)]"
   ]
  },
  {
   "cell_type": "code",
   "execution_count": 4,
   "id": "70b0aedd",
   "metadata": {},
   "outputs": [],
   "source": [
    "y = (iris['target'] == 2).astype(np.float64)"
   ]
  },
  {
   "cell_type": "markdown",
   "id": "01db6570",
   "metadata": {},
   "source": [
    "## Looking for data"
   ]
  },
  {
   "cell_type": "code",
   "execution_count": 5,
   "id": "27115e5e",
   "metadata": {},
   "outputs": [
    {
     "data": {
      "text/plain": [
       "<matplotlib.collections.PathCollection at 0x7f4c40bb1a30>"
      ]
     },
     "execution_count": 5,
     "metadata": {},
     "output_type": "execute_result"
    },
    {
     "data": {
      "image/png": "[encoded data removed]",
      "text/plain": [
       "<Figure size 432x288 with 1 Axes>"
      ]
     },
     "metadata": {
      "needs_background": "light"
     },
     "output_type": "display_data"
    }
   ],
   "source": [
    "plt.scatter(X[:, 0], X[:, 1])"
   ]
  },
  {
   "cell_type": "markdown",
   "id": "bda253e9",
   "metadata": {},
   "source": [
    "## Training Models"
   ]
  },
  {
   "cell_type": "markdown",
   "id": "c7bb8bb7",
   "metadata": {},
   "source": [
    "### LinearSVC"
   ]
  },
  {
   "cell_type": "code",
   "execution_count": 6,
   "id": "e4ebc48e",
   "metadata": {},
   "outputs": [],
   "source": [
    "lin_svc = Pipeline([\n",
    "    ('scaler', StandardScaler()),\n",
    "    ('model', LinearSVC(C=1, loss='hinge'))\n",
    "])"
   ]
  },
  {
   "cell_type": "code",
   "execution_count": 7,
   "id": "f6808dcf",
   "metadata": {},
   "outputs": [
    {
     "data": {
      "text/plain": [
       "Pipeline(steps=[('scaler', StandardScaler()),\n",
       "                ('model', LinearSVC(C=1, loss='hinge'))])"
      ]
     },
     "execution_count": 7,
     "metadata": {},
     "output_type": "execute_result"
    }
   ],
   "source": [
    "lin_svc.fit(X, y)"
   ]
  },
  {
   "cell_type": "code",
   "execution_count": 8,
   "id": "38b69465",
   "metadata": {},
   "outputs": [],
   "source": [
    "lin_svc_pred = lin_svc.predict(X)"
   ]
  },
  {
   "cell_type": "code",
   "execution_count": 9,
   "id": "47202116",
   "metadata": {},
   "outputs": [
    {
     "data": {
      "text/plain": [
       "0.96"
      ]
     },
     "execution_count": 9,
     "metadata": {},
     "output_type": "execute_result"
    }
   ],
   "source": [
    "accuracy_score(y, lin_svc_pred)"
   ]
  },
  {
   "cell_type": "markdown",
   "id": "92b92115",
   "metadata": {},
   "source": [
    "### SVC"
   ]
  },
  {
   "cell_type": "code",
   "execution_count": 10,
   "id": "83548cff",
   "metadata": {},
   "outputs": [],
   "source": [
    "svc_clf = Pipeline([\n",
    "    ('scaler', StandardScaler()),\n",
    "    ('model', SVC(kernel='linear', C=1)),\n",
    "])"
   ]
  },
  {
   "cell_type": "code",
   "execution_count": 11,
   "id": "97737fc8",
   "metadata": {},
   "outputs": [
    {
     "data": {
      "text/plain": [
       "Pipeline(steps=[('scaler', StandardScaler()),\n",
       "                ('model', SVC(C=1, kernel='linear'))])"
      ]
     },
     "execution_count": 11,
     "metadata": {},
     "output_type": "execute_result"
    }
   ],
   "source": [
    "svc_clf.fit(X, y)"
   ]
  },
  {
   "cell_type": "code",
   "execution_count": 12,
   "id": "ca355ba2",
   "metadata": {},
   "outputs": [],
   "source": [
    "svc_clf_pred = svc_clf.predict(X)"
   ]
  },
  {
   "cell_type": "code",
   "execution_count": 13,
   "id": "04eca43f",
   "metadata": {},
   "outputs": [
    {
     "data": {
      "text/plain": [
       "0.9533333333333334"
      ]
     },
     "execution_count": 13,
     "metadata": {},
     "output_type": "execute_result"
    }
   ],
   "source": [
    "accuracy_score(y, svc_clf_pred)"
   ]
  },
  {
   "cell_type": "markdown",
   "id": "77bee9a2",
   "metadata": {},
   "source": [
    "### SGDClassifier"
   ]
  },
  {
   "cell_type": "code",
   "execution_count": 14,
   "id": "045bbb09",
   "metadata": {},
   "outputs": [],
   "source": [
    "m = len(X)\n",
    "C = 1\n",
    "\n",
    "sgd_clf = Pipeline([\n",
    "    ('scaler', StandardScaler()),\n",
    "    ('model', SGDClassifier(loss='hinge', alpha=1 / (m * C)))\n",
    "])"
   ]
  },
  {
   "cell_type": "code",
   "execution_count": 15,
   "id": "c91e723d",
   "metadata": {},
   "outputs": [
    {
     "data": {
      "text/plain": [
       "Pipeline(steps=[('scaler', StandardScaler()),\n",
       "                ('model', SGDClassifier(alpha=0.006666666666666667))])"
      ]
     },
     "execution_count": 15,
     "metadata": {},
     "output_type": "execute_result"
    }
   ],
   "source": [
    "sgd_clf.fit(X, y)"
   ]
  },
  {
   "cell_type": "code",
   "execution_count": 16,
   "id": "1785eacd",
   "metadata": {},
   "outputs": [],
   "source": [
    "sgd_clf_pred = sgd_clf.predict(X)"
   ]
  },
  {
   "cell_type": "code",
   "execution_count": 17,
   "id": "caf93db5",
   "metadata": {},
   "outputs": [
    {
     "data": {
      "text/plain": [
       "0.96"
      ]
     },
     "execution_count": 17,
     "metadata": {},
     "output_type": "execute_result"
    }
   ],
   "source": [
    "accuracy_score(y, sgd_clf_pred)"
   ]
  },
  {
   "cell_type": "markdown",
   "id": "845da439",
   "metadata": {},
   "source": [
    "# 2 Task"
   ]
  },
  {
   "cell_type": "markdown",
   "id": "30fd6584",
   "metadata": {},
   "source": [
    "## Load data"
   ]
  },
  {
   "cell_type": "code",
   "execution_count": 2,
   "id": "43d6a401",
   "metadata": {},
   "outputs": [
    {
     "data": {
      "text/plain": [
       "dict_keys(['data', 'target', 'frame', 'categories', 'feature_names', 'target_names', 'DESCR', 'details', 'url'])"
      ]
     },
     "execution_count": 2,
     "metadata": {},
     "output_type": "execute_result"
    }
   ],
   "source": [
    "mnist = fetch_openml('mnist_784', version=1)\n",
    "mnist.keys()"
   ]
  },
  {
   "cell_type": "code",
   "execution_count": 3,
   "id": "2ca31e0b",
   "metadata": {},
   "outputs": [],
   "source": [
    "X, y = mnist['data'], mnist['target']"
   ]
  },
  {
   "cell_type": "code",
   "execution_count": 4,
   "id": "d314cbc1",
   "metadata": {},
   "outputs": [],
   "source": [
    "X_train, X_test = X[:60000], X[60000:]\n",
    "y_train, y_test = y[:60000], y[60000:]"
   ]
  },
  {
   "cell_type": "markdown",
   "id": "83beb686",
   "metadata": {},
   "source": [
    "## Training model"
   ]
  },
  {
   "cell_type": "code",
   "execution_count": 5,
   "id": "078c37c4",
   "metadata": {},
   "outputs": [],
   "source": [
    "mini_X_train = X_train[:10000]\n",
    "mini_y_train = y_train[:10000]"
   ]
  },
  {
   "cell_type": "markdown",
   "id": "196081ab",
   "metadata": {},
   "source": [
    "### OvR"
   ]
  },
  {
   "cell_type": "code",
   "execution_count": 6,
   "id": "738c7d79",
   "metadata": {},
   "outputs": [],
   "source": [
    "ovr_clf = OneVsRestClassifier(SVC())"
   ]
  },
  {
   "cell_type": "code",
   "execution_count": 7,
   "id": "11662fea",
   "metadata": {},
   "outputs": [
    {
     "data": {
      "text/plain": [
       "OneVsRestClassifier(estimator=SVC())"
      ]
     },
     "execution_count": 7,
     "metadata": {},
     "output_type": "execute_result"
    }
   ],
   "source": [
    "ovr_clf.fit(mini_X_train, mini_y_train)"
   ]
  },
  {
   "cell_type": "code",
   "execution_count": 8,
   "id": "d5c65905",
   "metadata": {},
   "outputs": [],
   "source": [
    "y_predicted = ovr_clf.predict(mini_X_train)"
   ]
  },
  {
   "cell_type": "code",
   "execution_count": 9,
   "id": "66664345",
   "metadata": {},
   "outputs": [
    {
     "data": {
      "text/plain": [
       "0.9841"
      ]
     },
     "execution_count": 9,
     "metadata": {},
     "output_type": "execute_result"
    }
   ],
   "source": [
    "accuracy_score(mini_y_train, y_predicted)"
   ]
  },
  {
   "cell_type": "markdown",
   "id": "bb8accad",
   "metadata": {},
   "source": [
    "### SGDClassifier"
   ]
  },
  {
   "cell_type": "code",
   "execution_count": 10,
   "id": "2c2c7409",
   "metadata": {},
   "outputs": [],
   "source": [
    "sgd_clf = SGDClassifier()"
   ]
  },
  {
   "cell_type": "code",
   "execution_count": 11,
   "id": "095eca8d",
   "metadata": {},
   "outputs": [
    {
     "data": {
      "text/plain": [
       "SGDClassifier()"
      ]
     },
     "execution_count": 11,
     "metadata": {},
     "output_type": "execute_result"
    }
   ],
   "source": [
    "sgd_clf.fit(mini_X_train, mini_y_train)"
   ]
  },
  {
   "cell_type": "code",
   "execution_count": 12,
   "id": "1e0716db",
   "metadata": {},
   "outputs": [],
   "source": [
    "y_predicted = sgd_clf.predict(mini_X_train)"
   ]
  },
  {
   "cell_type": "code",
   "execution_count": 13,
   "id": "fde4ab34",
   "metadata": {},
   "outputs": [
    {
     "data": {
      "text/plain": [
       "0.9356"
      ]
     },
     "execution_count": 13,
     "metadata": {},
     "output_type": "execute_result"
    }
   ],
   "source": [
    "accuracy_score(mini_y_train, y_predicted)"
   ]
  },
  {
   "cell_type": "markdown",
   "id": "0feb4f10",
   "metadata": {},
   "source": [
    "## Tuning model"
   ]
  },
  {
   "cell_type": "code",
   "execution_count": 14,
   "id": "4c162fce",
   "metadata": {},
   "outputs": [],
   "source": [
    "ovr_clf = OneVsRestClassifier(SVC())"
   ]
  },
  {
   "cell_type": "code",
   "execution_count": 21,
   "id": "622bf6be",
   "metadata": {},
   "outputs": [
    {
     "data": {
      "text/plain": [
       "GridSearchCV(cv=5, estimator=OneVsRestClassifier(estimator=SVC()),\n",
       "             param_grid=[{'estimator__C': [1, 10, 30, 100, 300, 1000, 3000],\n",
       "                          'estimator__kernel': ['linear']},\n",
       "                         {'estimator__C': [0.0001, 0.001, 0.01, 0.1, 1, 3, 10,\n",
       "                                           30, 100],\n",
       "                          'estimator__gamma': [1, 5, 10, 15, 50, 100],\n",
       "                          'estimator__kernel': ['rbf']},\n",
       "                         {'estimator__C': [1, 10, 30, 100, 300, 1000, 3000],\n",
       "                          'estimator__coef0': [0.1, 0.3, 1.0, 3.0],\n",
       "                          'estimator__degree': [2, 3, 4],\n",
       "                          'estimator__kernel': ['poly']}],\n",
       "             return_train_score=True, scoring='accuracy')"
      ]
     },
     "execution_count": 21,
     "metadata": {},
     "output_type": "execute_result"
    }
   ],
   "source": [
    "param_grid = [\n",
    "    {'estimator__kernel':['linear'], 'estimator__C': [1, 10, 30, 100, 300, 1000, 3000]},\n",
    "    {'estimator__kernel':['rbf'], 'estimator__C': [0.0001, 0.001, 0.01, 0.1, 1, 3, 10, 30, 100],\n",
    "    'estimator__gamma':[1, 5, 10, 15, 50, 100]},\n",
    "    {'estimator__kernel':['poly'], 'estimator__C': [1, 10, 30, 100, 300, 1000, 3000], \n",
    "    'estimator__degree':[2, 3, 4], 'estimator__coef0':[0.1, 0.3, 1., 3.]}\n",
    "]\n",
    "\n",
    "grid_search = GridSearchCV(ovr_clf, param_grid, cv=5, \n",
    "                           scoring='accuracy',\n",
    "                          return_train_score=True)\n",
    "\n",
    "grid_search.fit(mini_X_train[:1000], mini_y_train[:1000])"
   ]
  },
  {
   "cell_type": "code",
   "execution_count": 31,
   "id": "a0b2bab1",
   "metadata": {},
   "outputs": [
    {
     "data": {
      "text/plain": [
       "0.908"
      ]
     },
     "execution_count": 31,
     "metadata": {},
     "output_type": "execute_result"
    }
   ],
   "source": [
    "grid_search.best_score_"
   ]
  },
  {
   "cell_type": "code",
   "execution_count": 32,
   "id": "1155f756",
   "metadata": {},
   "outputs": [],
   "source": [
    "best_model = grid_search.best_estimator_"
   ]
  },
  {
   "cell_type": "code",
   "execution_count": 34,
   "id": "ef7d4824",
   "metadata": {},
   "outputs": [
    {
     "data": {
      "text/plain": [
       "OneVsRestClassifier(estimator=SVC(C=1, coef0=0.3, kernel='poly'))"
      ]
     },
     "execution_count": 34,
     "metadata": {},
     "output_type": "execute_result"
    }
   ],
   "source": [
    "best_model.fit(mini_X_train, mini_y_train)"
   ]
  },
  {
   "cell_type": "code",
   "execution_count": 35,
   "id": "51bb744e",
   "metadata": {},
   "outputs": [],
   "source": [
    "y_predicted = best_model.predict(mini_X_train)"
   ]
  },
  {
   "cell_type": "code",
   "execution_count": 36,
   "id": "a5512b81",
   "metadata": {},
   "outputs": [
    {
     "data": {
      "text/plain": [
       "0.9963"
      ]
     },
     "execution_count": 36,
     "metadata": {},
     "output_type": "execute_result"
    }
   ],
   "source": [
    "accuracy_score(mini_y_train, y_predicted)"
   ]
  },
  {
   "cell_type": "markdown",
   "id": "ecc7eac3",
   "metadata": {},
   "source": [
    "## Evaluate model"
   ]
  },
  {
   "cell_type": "code",
   "execution_count": 37,
   "id": "24212d01",
   "metadata": {},
   "outputs": [],
   "source": [
    "best_model = grid_search.best_estimator_"
   ]
  },
  {
   "cell_type": "code",
   "execution_count": 38,
   "id": "96a2bd0d",
   "metadata": {},
   "outputs": [
    {
     "data": {
      "text/plain": [
       "OneVsRestClassifier(estimator=SVC(C=1, coef0=0.3, kernel='poly'))"
      ]
     },
     "execution_count": 38,
     "metadata": {},
     "output_type": "execute_result"
    }
   ],
   "source": [
    "best_model.fit(X_train, y_train)"
   ]
  },
  {
   "cell_type": "code",
   "execution_count": 39,
   "id": "93648190",
   "metadata": {},
   "outputs": [],
   "source": [
    "y_test_pred = best_model.predict(X_test)"
   ]
  },
  {
   "cell_type": "code",
   "execution_count": 40,
   "id": "1174237f",
   "metadata": {},
   "outputs": [
    {
     "data": {
      "text/plain": [
       "0.9832"
      ]
     },
     "execution_count": 40,
     "metadata": {},
     "output_type": "execute_result"
    }
   ],
   "source": [
    "accuracy_score(y_test, y_test_pred)"
   ]
  },
  {
   "cell_type": "markdown",
   "id": "fcbf4e2d",
   "metadata": {},
   "source": [
    "# 3 Task"
   ]
  },
  {
   "cell_type": "markdown",
   "id": "bb644c5e",
   "metadata": {},
   "source": [
    "## Load data"
   ]
  },
  {
   "cell_type": "code",
   "execution_count": 43,
   "id": "0b7e0f7f",
   "metadata": {},
   "outputs": [],
   "source": [
    "housing = fetch_california_housing()"
   ]
  },
  {
   "cell_type": "code",
   "execution_count": 45,
   "id": "8091f09d",
   "metadata": {},
   "outputs": [
    {
     "data": {
      "text/plain": [
       "dict_keys(['data', 'target', 'frame', 'target_names', 'feature_names', 'DESCR'])"
      ]
     },
     "execution_count": 45,
     "metadata": {},
     "output_type": "execute_result"
    }
   ],
   "source": [
    "housing.keys()"
   ]
  },
  {
   "cell_type": "code",
   "execution_count": 46,
   "id": "fbf68499",
   "metadata": {},
   "outputs": [],
   "source": [
    "X = housing['data']\n",
    "y = housing['target']"
   ]
  },
  {
   "cell_type": "code",
   "execution_count": 51,
   "id": "6c7b865d",
   "metadata": {},
   "outputs": [],
   "source": [
    "X_train, X_test, y_train, y_test = train_test_split(X, y, test_size=0.2, random_state=42)"
   ]
  },
  {
   "cell_type": "code",
   "execution_count": 52,
   "id": "100e26ce",
   "metadata": {},
   "outputs": [],
   "source": [
    "std_scaler = StandardScaler()\n",
    "\n",
    "X_train_scaled = std_scaler.fit_transform(X_train)\n",
    "X_test_scaled = std_scaler.transform(X_test)"
   ]
  },
  {
   "cell_type": "markdown",
   "id": "069a3515",
   "metadata": {},
   "source": [
    "## Model Training"
   ]
  },
  {
   "cell_type": "markdown",
   "id": "288063f9",
   "metadata": {},
   "source": [
    "### LinearSVR"
   ]
  },
  {
   "cell_type": "code",
   "execution_count": 55,
   "id": "7246d3b8",
   "metadata": {},
   "outputs": [
    {
     "name": "stderr",
     "output_type": "stream",
     "text": [
      "/mnt/d/Projects/handson_ml/env/lib/python3.9/site-packages/sklearn/svm/_base.py:1206: ConvergenceWarning: Liblinear failed to converge, increase the number of iterations.\n",
      "  warnings.warn(\n"
     ]
    },
    {
     "data": {
      "text/plain": [
       "LinearSVR(random_state=42)"
      ]
     },
     "execution_count": 55,
     "metadata": {},
     "output_type": "execute_result"
    }
   ],
   "source": [
    "lin_svr = LinearSVR(random_state=42)\n",
    "\n",
    "lin_svr.fit(X_train_scaled, y_train)"
   ]
  },
  {
   "cell_type": "code",
   "execution_count": 57,
   "id": "00b2817c",
   "metadata": {},
   "outputs": [],
   "source": [
    "y_pred = lin_svr.predict(X_train_scaled)"
   ]
  },
  {
   "cell_type": "code",
   "execution_count": 60,
   "id": "63c5c36d",
   "metadata": {},
   "outputs": [
    {
     "name": "stdout",
     "output_type": "stream",
     "text": [
      "RMSE:  0.9819256687727764\n"
     ]
    }
   ],
   "source": [
    "mse = mean_squared_error(y_train, y_pred)\n",
    "print('RMSE: ', np.sqrt(mse))"
   ]
  },
  {
   "cell_type": "markdown",
   "id": "2255c505",
   "metadata": {},
   "source": [
    "### SVR"
   ]
  },
  {
   "cell_type": "code",
   "execution_count": 69,
   "id": "6907d88a",
   "metadata": {},
   "outputs": [
    {
     "data": {
      "text/plain": [
       "SVR()"
      ]
     },
     "execution_count": 69,
     "metadata": {},
     "output_type": "execute_result"
    }
   ],
   "source": [
    "svr = SVR()\n",
    "\n",
    "svr.fit(X_train_scaled, y_train)"
   ]
  },
  {
   "cell_type": "code",
   "execution_count": 70,
   "id": "036310c6",
   "metadata": {},
   "outputs": [],
   "source": [
    "y_pred = svr.predict(X_train_scaled)"
   ]
  },
  {
   "cell_type": "code",
   "execution_count": 71,
   "id": "b9dd4752",
   "metadata": {},
   "outputs": [
    {
     "name": "stdout",
     "output_type": "stream",
     "text": [
      "RMSE:  0.5797673265358964\n"
     ]
    }
   ],
   "source": [
    "mse = mean_squared_error(y_train, y_pred)\n",
    "print('RMSE: ', np.sqrt(mse))"
   ]
  },
  {
   "cell_type": "markdown",
   "id": "72e85360",
   "metadata": {},
   "source": [
    "## Model Tuning"
   ]
  },
  {
   "cell_type": "code",
   "execution_count": 80,
   "id": "49a9e9a7",
   "metadata": {},
   "outputs": [
    {
     "name": "stdout",
     "output_type": "stream",
     "text": [
      "Fitting 3 folds for each of 15 candidates, totalling 45 fits\n",
      "[CV] END C=4.745401188473625, degree=2, epsilon=0.028470180255100654, gamma=0.03625617634576227; total time=   6.5s\n",
      "[CV] END C=4.745401188473625, degree=2, epsilon=0.028470180255100654, gamma=0.03625617634576227; total time=   6.5s\n",
      "[CV] END C=4.745401188473625, degree=2, epsilon=0.028470180255100654, gamma=0.03625617634576227; total time=   6.5s\n",
      "[CV] END C=6.96850157946487, degree=3, epsilon=0.02434542396201692, gamma=0.0013066739238053278; total time=   6.1s\n",
      "[CV] END C=6.96850157946487, degree=3, epsilon=0.02434542396201692, gamma=0.0013066739238053278; total time=   5.8s\n",
      "[CV] END C=6.96850157946487, degree=3, epsilon=0.02434542396201692, gamma=0.0013066739238053278; total time=   5.8s\n",
      "[CV] END C=9.661761457749352, degree=5, epsilon=0.022589074163015747, gamma=0.020034427927560723; total time=   6.4s\n",
      "[CV] END C=9.661761457749352, degree=5, epsilon=0.022589074163015747, gamma=0.020034427927560723; total time=   6.2s\n",
      "[CV] END C=9.661761457749352, degree=5, epsilon=0.022589074163015747, gamma=0.020034427927560723; total time=   6.2s\n",
      "[CV] END C=1.5641157902710026, degree=5, epsilon=1.153616233824139, gamma=0.0026587543983272693; total time=   0.7s\n",
      "[CV] END C=1.5641157902710026, degree=5, epsilon=1.153616233824139, gamma=0.0026587543983272693; total time=   0.7s\n",
      "[CV] END C=1.5641157902710026, degree=5, epsilon=1.153616233824139, gamma=0.0026587543983272693; total time=   0.7s\n",
      "[CV] END C=2.818249672071006, degree=2, epsilon=0.33851395111834925, gamma=0.016722697006183673; total time=   2.8s\n",
      "[CV] END C=2.818249672071006, degree=2, epsilon=0.33851395111834925, gamma=0.016722697006183673; total time=   2.9s\n",
      "[CV] END C=2.818249672071006, degree=2, epsilon=0.33851395111834925, gamma=0.016722697006183673; total time=   2.9s\n",
      "[CV] END C=1.070663052197174, degree=2, epsilon=0.05265139631677752, gamma=0.016738085788752122; total time=   5.6s\n",
      "[CV] END C=1.070663052197174, degree=2, epsilon=0.05265139631677752, gamma=0.016738085788752122; total time=   5.5s\n",
      "[CV] END C=1.070663052197174, degree=2, epsilon=0.05265139631677752, gamma=0.016738085788752122; total time=   5.5s\n",
      "[CV] END C=2.3949386065204186, degree=5, epsilon=2.582917249408111, gamma=0.002921074818565714; total time=   0.0s\n",
      "[CV] END C=2.3949386065204186, degree=5, epsilon=2.582917249408111, gamma=0.002921074818565714; total time=   0.0s\n",
      "[CV] END C=2.3949386065204186, degree=5, epsilon=2.582917249408111, gamma=0.002921074818565714; total time=   0.0s\n",
      "[CV] END C=1.906064345328208, degree=3, epsilon=0.031233177533764294, gamma=0.010677482709481347; total time=   5.8s\n",
      "[CV] END C=1.906064345328208, degree=3, epsilon=0.031233177533764294, gamma=0.010677482709481347; total time=   6.4s\n",
      "[CV] END C=1.906064345328208, degree=3, epsilon=0.031233177533764294, gamma=0.010677482709481347; total time=   6.2s\n",
      "[CV] END C=6.924145688620425, degree=4, epsilon=1.3495117160418988, gamma=0.022941144328643984; total time=   0.7s\n",
      "[CV] END C=6.924145688620425, degree=4, epsilon=1.3495117160418988, gamma=0.022941144328643984; total time=   0.7s\n",
      "[CV] END C=6.924145688620425, degree=4, epsilon=1.3495117160418988, gamma=0.022941144328643984; total time=   0.7s\n",
      "[CV] END C=5.5049925196954295, degree=3, epsilon=2.2413234378101135, gamma=0.08536189862866826; total time=   0.1s\n",
      "[CV] END C=5.5049925196954295, degree=3, epsilon=2.2413234378101135, gamma=0.08536189862866826; total time=   0.1s\n",
      "[CV] END C=5.5049925196954295, degree=3, epsilon=2.2413234378101135, gamma=0.08536189862866826; total time=   0.1s\n",
      "[CV] END C=9.08397348116461, degree=2, epsilon=0.010953435185048701, gamma=0.0028959272747088377; total time=   6.3s\n",
      "[CV] END C=9.08397348116461, degree=2, epsilon=0.010953435185048701, gamma=0.0028959272747088377; total time=   6.8s\n",
      "[CV] END C=9.08397348116461, degree=2, epsilon=0.010953435185048701, gamma=0.0028959272747088377; total time=   7.1s\n",
      "[CV] END C=3.410254660260117, degree=5, epsilon=0.020058733363444943, gamma=0.009780337016659405; total time=   6.3s\n",
      "[CV] END C=3.410254660260117, degree=5, epsilon=0.020058733363444943, gamma=0.009780337016659405; total time=   6.7s\n",
      "[CV] END C=3.410254660260117, degree=5, epsilon=0.020058733363444943, gamma=0.009780337016659405; total time=   6.5s\n",
      "[CV] END C=1.343885211152184, degree=3, epsilon=0.09304746441371434, gamma=0.002314579890520487; total time=   5.4s\n",
      "[CV] END C=1.343885211152184, degree=3, epsilon=0.09304746441371434, gamma=0.002314579890520487; total time=   5.9s\n",
      "[CV] END C=1.343885211152184, degree=3, epsilon=0.09304746441371434, gamma=0.002314579890520487; total time=   5.8s\n",
      "[CV] END C=8.553614103176525, degree=3, epsilon=0.1942099825171803, gamma=0.01239996783684609; total time=   4.5s\n",
      "[CV] END C=8.553614103176525, degree=3, epsilon=0.1942099825171803, gamma=0.01239996783684609; total time=   4.5s\n",
      "[CV] END C=8.553614103176525, degree=3, epsilon=0.1942099825171803, gamma=0.01239996783684609; total time=   4.4s\n",
      "[CV] END C=2.8485445552552706, degree=4, epsilon=1.2202294929332946, gamma=0.007934293594590592; total time=   0.9s\n",
      "[CV] END C=2.8485445552552706, degree=4, epsilon=1.2202294929332946, gamma=0.007934293594590592; total time=   0.9s\n",
      "[CV] END C=2.8485445552552706, degree=4, epsilon=1.2202294929332946, gamma=0.007934293594590592; total time=   0.9s\n"
     ]
    },
    {
     "data": {
      "text/plain": [
       "RandomizedSearchCV(cv=3, estimator=SVR(), n_iter=15,\n",
       "                   param_distributions=[{'C': <scipy.stats._distn_infrastructure.rv_frozen object at 0x7fbf3cc45100>,\n",
       "                                         'degree': [2, 3, 4, 5],\n",
       "                                         'epsilon': <scipy.stats._distn_infrastructure.rv_frozen object at 0x7fbf054847c0>,\n",
       "                                         'gamma': <scipy.stats._distn_infrastructure.rv_frozen object at 0x7fbf05459b50>}],\n",
       "                   random_state=42, verbose=2)"
      ]
     },
     "execution_count": 80,
     "metadata": {},
     "output_type": "execute_result"
    }
   ],
   "source": [
    "random_params = [\n",
    "    {'degree': [2, 3, 4, 5], 'epsilon': reciprocal(0.01, 3), \n",
    "    'C': uniform(1, 10), 'gamma': reciprocal(0.001, 0.1)}\n",
    "]\n",
    "\n",
    "rnd_search = RandomizedSearchCV(SVR(), random_params, n_iter=15, verbose=2, cv=3, random_state=42)\n",
    "rnd_search.fit(X_train_scaled, y_train)"
   ]
  },
  {
   "cell_type": "code",
   "execution_count": 82,
   "id": "519338e5",
   "metadata": {},
   "outputs": [
    {
     "data": {
      "text/plain": [
       "{'C': 4.745401188473625,\n",
       " 'degree': 2,\n",
       " 'epsilon': 0.028470180255100654,\n",
       " 'gamma': 0.03625617634576227}"
      ]
     },
     "execution_count": 82,
     "metadata": {},
     "output_type": "execute_result"
    }
   ],
   "source": [
    "rnd_search.best_params_"
   ]
  },
  {
   "cell_type": "markdown",
   "id": "d188f1bb",
   "metadata": {},
   "source": [
    "## Evaluate model"
   ]
  },
  {
   "cell_type": "code",
   "execution_count": 87,
   "id": "529a00f1",
   "metadata": {},
   "outputs": [],
   "source": [
    "best_model = rnd_search.best_estimator_"
   ]
  },
  {
   "cell_type": "code",
   "execution_count": 88,
   "id": "0944ddc1",
   "metadata": {},
   "outputs": [
    {
     "data": {
      "text/plain": [
       "SVR(C=4.745401188473625, degree=2, epsilon=0.028470180255100654,\n",
       "    gamma=0.03625617634576227)"
      ]
     },
     "execution_count": 88,
     "metadata": {},
     "output_type": "execute_result"
    }
   ],
   "source": [
    "best_model.fit(X_train_scaled, y_train)"
   ]
  },
  {
   "cell_type": "code",
   "execution_count": 89,
   "id": "8f8b7f98",
   "metadata": {},
   "outputs": [],
   "source": [
    "y_pred = best_model.predict(X_train_scaled)"
   ]
  },
  {
   "cell_type": "code",
   "execution_count": 92,
   "id": "65e3cdf6",
   "metadata": {},
   "outputs": [
    {
     "name": "stdout",
     "output_type": "stream",
     "text": [
      "RMSE: 0.6037059405455045\n"
     ]
    }
   ],
   "source": [
    "mse = mean_squared_error(y_train, y_pred)\n",
    "print('RMSE:', np.sqrt(mse))"
   ]
  },
  {
   "cell_type": "code",
   "execution_count": 93,
   "id": "28d2e560",
   "metadata": {},
   "outputs": [],
   "source": [
    "y_test_pred = best_model.predict(X_test_scaled)"
   ]
  },
  {
   "cell_type": "code",
   "execution_count": 94,
   "id": "49ea5263",
   "metadata": {},
   "outputs": [
    {
     "name": "stdout",
     "output_type": "stream",
     "text": [
      "RMSE: 0.6213511436981897\n"
     ]
    }
   ],
   "source": [
    "mse = mean_squared_error(y_test, y_test_pred)\n",
    "print('RMSE:', np.sqrt(mse))"
   ]
  }
 ],
 "metadata": {
  "kernelspec": {
   "display_name": "env",
   "language": "python",
   "name": "env"
  },
  "language_info": {
   "codemirror_mode": {
    "name": "ipython",
    "version": 3
   },
   "file_extension": ".py",
   "mimetype": "text/x-python",
   "name": "python",
   "nbconvert_exporter": "python",
   "pygments_lexer": "ipython3",
   "version": "3.9.11"
  }
 },
 "nbformat": 4,
 "nbformat_minor": 5
}
