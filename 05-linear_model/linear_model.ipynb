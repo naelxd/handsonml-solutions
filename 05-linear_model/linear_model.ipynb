{
 "cells": [
  {
   "cell_type": "code",
   "execution_count": 64,
   "id": "cc78adfa",
   "metadata": {},
   "outputs": [],
   "source": [
    "import numpy as np\n",
    "import matplotlib.pyplot as plt\n",
    "from sklearn.linear_model import LinearRegression\n",
    "from sklearn.preprocessing import PolynomialFeatures\n",
    "from sklearn.metrics import mean_squared_error\n",
    "\n",
    "%matplotlib inline"
   ]
  },
  {
   "cell_type": "code",
   "execution_count": 2,
   "id": "7eee10b6",
   "metadata": {},
   "outputs": [],
   "source": [
    "m = 100"
   ]
  },
  {
   "cell_type": "code",
   "execution_count": 3,
   "id": "c5328c2b",
   "metadata": {},
   "outputs": [
    {
     "data": {
      "text/plain": [
       "array([[-1.35243187],\n",
       "       [ 0.02440169],\n",
       "       [-1.14826177],\n",
       "       [-1.31248386],\n",
       "       [-0.47083167],\n",
       "       [-0.09309305],\n",
       "       [-0.22683877],\n",
       "       [-0.7246992 ],\n",
       "       [ 1.36066468],\n",
       "       [-1.22595738],\n",
       "       [ 0.04071523],\n",
       "       [-0.73988542],\n",
       "       [ 0.44609082],\n",
       "       [ 1.05439471],\n",
       "       [-0.90770495],\n",
       "       [-0.65750469],\n",
       "       [ 1.24926207],\n",
       "       [-2.54911255],\n",
       "       [ 0.67309535],\n",
       "       [ 0.52176598],\n",
       "       [ 0.13486133],\n",
       "       [ 0.1332868 ],\n",
       "       [ 2.18333065],\n",
       "       [ 1.60886819],\n",
       "       [ 0.91290897],\n",
       "       [-0.1686888 ],\n",
       "       [-1.90039026],\n",
       "       [ 0.37675543],\n",
       "       [-0.27524378],\n",
       "       [ 0.54741107],\n",
       "       [-0.37723794],\n",
       "       [-3.11429082],\n",
       "       [ 0.7231972 ],\n",
       "       [-0.28706937],\n",
       "       [-0.22703517],\n",
       "       [ 1.21506041],\n",
       "       [ 0.41406548],\n",
       "       [-0.05891717],\n",
       "       [ 0.45811163],\n",
       "       [ 1.33794898],\n",
       "       [ 1.08744519],\n",
       "       [ 1.18561589],\n",
       "       [-1.12245202],\n",
       "       [-0.87825197],\n",
       "       [ 0.92380941],\n",
       "       [-0.4748378 ],\n",
       "       [-0.57000537],\n",
       "       [ 2.01861401],\n",
       "       [ 0.12733631],\n",
       "       [ 0.40329331],\n",
       "       [ 0.13164262],\n",
       "       [-1.16879806],\n",
       "       [ 0.3471711 ],\n",
       "       [-2.02420404],\n",
       "       [-0.26658615],\n",
       "       [-0.0981466 ],\n",
       "       [ 0.70245721],\n",
       "       [ 1.5040249 ],\n",
       "       [ 1.01749863],\n",
       "       [-0.64866696],\n",
       "       [-0.23474097],\n",
       "       [ 0.655546  ],\n",
       "       [ 0.92951201],\n",
       "       [-1.47442087],\n",
       "       [ 1.67875615],\n",
       "       [-0.9702376 ],\n",
       "       [-0.34853182],\n",
       "       [ 0.76263958],\n",
       "       [ 0.29281906],\n",
       "       [ 0.48784192],\n",
       "       [ 0.29178595],\n",
       "       [-0.33230382],\n",
       "       [ 0.69040808],\n",
       "       [-0.9960358 ],\n",
       "       [ 0.92881576],\n",
       "       [-0.37976688],\n",
       "       [-0.37442838],\n",
       "       [-0.07349089],\n",
       "       [-1.62728717],\n",
       "       [-0.02401942],\n",
       "       [ 0.24346661],\n",
       "       [-0.07048602],\n",
       "       [-0.82365557],\n",
       "       [ 0.01016046],\n",
       "       [ 0.25936764],\n",
       "       [-1.3578132 ],\n",
       "       [-0.62670051],\n",
       "       [-0.56222637],\n",
       "       [ 0.78399165],\n",
       "       [ 0.70927682],\n",
       "       [ 0.56163848],\n",
       "       [-0.56592758],\n",
       "       [-1.77070564],\n",
       "       [-0.46313283],\n",
       "       [ 1.75635083],\n",
       "       [-0.59447346],\n",
       "       [-0.42696962],\n",
       "       [ 1.84346545],\n",
       "       [ 0.72222474],\n",
       "       [ 0.59890981]])"
      ]
     },
     "execution_count": 3,
     "metadata": {},
     "output_type": "execute_result"
    }
   ],
   "source": [
    "X = np.random.randn(m, 1)\n",
    "X"
   ]
  },
  {
   "cell_type": "code",
   "execution_count": 4,
   "id": "4b4a0938",
   "metadata": {},
   "outputs": [
    {
     "data": {
      "text/plain": [
       "array([[ 4.05333609],\n",
       "       [ 1.98327107],\n",
       "       [ 2.25123047],\n",
       "       [ 4.12046056],\n",
       "       [ 0.57095324],\n",
       "       [ 1.49913327],\n",
       "       [ 0.91706513],\n",
       "       [ 1.81284187],\n",
       "       [ 5.99809398],\n",
       "       [ 4.18502268],\n",
       "       [ 1.32154535],\n",
       "       [ 2.29617088],\n",
       "       [ 2.9957167 ],\n",
       "       [ 4.50026556],\n",
       "       [ 2.42549486],\n",
       "       [ 1.83597029],\n",
       "       [ 4.73810032],\n",
       "       [12.22416786],\n",
       "       [ 3.42919594],\n",
       "       [ 3.92801983],\n",
       "       [ 1.27438176],\n",
       "       [ 2.19005655],\n",
       "       [13.37602971],\n",
       "       [ 7.60661166],\n",
       "       [ 3.99346274],\n",
       "       [ 3.4077029 ],\n",
       "       [ 8.24542585],\n",
       "       [ 3.73781967],\n",
       "       [ 0.5213417 ],\n",
       "       [ 2.84239942],\n",
       "       [ 2.459255  ],\n",
       "       [18.97608249],\n",
       "       [ 2.76408857],\n",
       "       [-0.43495809],\n",
       "       [ 2.32066492],\n",
       "       [ 6.32740757],\n",
       "       [ 2.8638026 ],\n",
       "       [ 2.00435007],\n",
       "       [ 2.5072442 ],\n",
       "       [ 4.97424158],\n",
       "       [ 6.9481876 ],\n",
       "       [ 5.57632442],\n",
       "       [ 2.95636669],\n",
       "       [ 1.92766789],\n",
       "       [ 4.26083202],\n",
       "       [ 1.75283791],\n",
       "       [ 3.76070283],\n",
       "       [12.71290427],\n",
       "       [ 1.42479127],\n",
       "       [ 3.22415911],\n",
       "       [ 2.17505754],\n",
       "       [ 3.62940164],\n",
       "       [ 1.93559967],\n",
       "       [ 6.96343461],\n",
       "       [ 2.39076766],\n",
       "       [ 2.95755899],\n",
       "       [ 4.13282204],\n",
       "       [ 9.40000095],\n",
       "       [ 4.20796477],\n",
       "       [ 1.05746294],\n",
       "       [ 3.85133429],\n",
       "       [ 2.22198006],\n",
       "       [ 4.37842628],\n",
       "       [ 5.87778176],\n",
       "       [ 9.46835189],\n",
       "       [ 4.0759471 ],\n",
       "       [ 2.53146852],\n",
       "       [ 4.55436556],\n",
       "       [ 1.38052651],\n",
       "       [ 3.46685869],\n",
       "       [ 3.11943973],\n",
       "       [ 2.90945992],\n",
       "       [ 3.14585822],\n",
       "       [ 3.13373039],\n",
       "       [ 5.03282851],\n",
       "       [ 1.57026333],\n",
       "       [ 1.85930664],\n",
       "       [ 2.45784921],\n",
       "       [ 5.12675623],\n",
       "       [ 1.51576287],\n",
       "       [ 2.84271441],\n",
       "       [ 0.82738249],\n",
       "       [ 2.7691681 ],\n",
       "       [ 1.39096036],\n",
       "       [ 1.86990671],\n",
       "       [ 5.86111839],\n",
       "       [ 1.1391955 ],\n",
       "       [ 2.89631054],\n",
       "       [ 4.97048414],\n",
       "       [ 4.27845583],\n",
       "       [ 3.12155789],\n",
       "       [ 0.74855875],\n",
       "       [ 6.52964254],\n",
       "       [ 2.50548062],\n",
       "       [ 9.67336844],\n",
       "       [ 2.0677049 ],\n",
       "       [ 1.58572297],\n",
       "       [10.65218023],\n",
       "       [ 3.03963508],\n",
       "       [ 3.86213107]])"
      ]
     },
     "execution_count": 4,
     "metadata": {},
     "output_type": "execute_result"
    }
   ],
   "source": [
    "y = 2 * X ** 2 + X + 2 + np.random.randn(m, 1)\n",
    "y"
   ]
  },
  {
   "cell_type": "code",
   "execution_count": 5,
   "id": "eab431ea",
   "metadata": {},
   "outputs": [
    {
     "data": {
      "text/plain": [
       "<matplotlib.collections.PathCollection at 0x7eff8abd8e50>"
      ]
     },
     "execution_count": 5,
     "metadata": {},
     "output_type": "execute_result"
    },
    {
     "data": {
      "image/png": "[encoded data removed]",
      "text/plain": [
       "<Figure size 432x288 with 1 Axes>"
      ]
     },
     "metadata": {
      "needs_background": "light"
     },
     "output_type": "display_data"
    }
   ],
   "source": [
    "plt.scatter(X, y)"
   ]
  },
  {
   "cell_type": "code",
   "execution_count": 6,
   "id": "93163619",
   "metadata": {},
   "outputs": [
    {
     "data": {
      "text/plain": [
       "(array([3.86775224]), array([[0.28384939]]))"
      ]
     },
     "execution_count": 6,
     "metadata": {},
     "output_type": "execute_result"
    }
   ],
   "source": [
    "lin_reg = LinearRegression()\n",
    "lin_reg.fit(X, y)\n",
    "lin_reg.intercept_, lin_reg.coef_"
   ]
  },
  {
   "cell_type": "code",
   "execution_count": 7,
   "id": "33895a79",
   "metadata": {},
   "outputs": [
    {
     "data": {
      "text/plain": [
       "array([[3.48386527],\n",
       "       [3.87467864],\n",
       "       [3.54181883],\n",
       "       [3.49520449],\n",
       "       [3.73410695],\n",
       "       [3.84132783],\n",
       "       [3.80336419],\n",
       "       [3.66204681],\n",
       "       [4.25397608],\n",
       "       [3.51976498],\n",
       "       [3.87930923],\n",
       "       [3.65773621],\n",
       "       [3.99437484],\n",
       "       [4.16704153],\n",
       "       [3.61010074],\n",
       "       [3.68111993],\n",
       "       [4.22235452],\n",
       "       [3.14418818],\n",
       "       [4.05880994],\n",
       "       [4.01585519],\n",
       "       [3.90603254],\n",
       "       [3.90558561],\n",
       "       [4.48748932],\n",
       "       [4.32442849],\n",
       "       [4.12688089],\n",
       "       [3.81987002],\n",
       "       [3.32832761],\n",
       "       [3.97469404],\n",
       "       [3.78962446],\n",
       "       [4.02313453],\n",
       "       [3.76067348],\n",
       "       [2.98376267],\n",
       "       [4.07303132],\n",
       "       [3.78626777],\n",
       "       [3.80330844],\n",
       "       [4.2126464 ],\n",
       "       [3.98528447],\n",
       "       [3.85102863],\n",
       "       [3.99778694],\n",
       "       [4.24752824],\n",
       "       [4.17642289],\n",
       "       [4.20428859],\n",
       "       [3.54914491],\n",
       "       [3.61846095],\n",
       "       [4.12997498],\n",
       "       [3.73296981],\n",
       "       [3.70595656],\n",
       "       [4.4407346 ],\n",
       "       [3.90389657],\n",
       "       [3.9822268 ],\n",
       "       [3.90511891],\n",
       "       [3.53598962],\n",
       "       [3.96629654],\n",
       "       [3.29318315],\n",
       "       [3.79208192],\n",
       "       [3.83989338],\n",
       "       [4.06714429],\n",
       "       [4.29466879],\n",
       "       [4.1565686 ],\n",
       "       [3.68362851],\n",
       "       [3.80112115],\n",
       "       [4.05382857],\n",
       "       [4.13159366],\n",
       "       [3.44923877],\n",
       "       [4.34426615],\n",
       "       [3.59235088],\n",
       "       [3.76882169],\n",
       "       [4.08422702],\n",
       "       [3.95086875],\n",
       "       [4.00622587],\n",
       "       [3.9505755 ],\n",
       "       [3.773428  ],\n",
       "       [4.06372415],\n",
       "       [3.58502808],\n",
       "       [4.13139603],\n",
       "       [3.75995564],\n",
       "       [3.76147097],\n",
       "       [3.84689189],\n",
       "       [3.40584776],\n",
       "       [3.86093434],\n",
       "       [3.93686009],\n",
       "       [3.84774482],\n",
       "       [3.6339581 ],\n",
       "       [3.87063627],\n",
       "       [3.94137358],\n",
       "       [3.48233778],\n",
       "       [3.68986367],\n",
       "       [3.70816462],\n",
       "       [4.09028779],\n",
       "       [4.06908003],\n",
       "       [4.02717298],\n",
       "       [3.70711403],\n",
       "       [3.36513851],\n",
       "       [3.73629226],\n",
       "       [4.36629135],\n",
       "       [3.6990113 ],\n",
       "       [3.74655717],\n",
       "       [4.39101879],\n",
       "       [4.07275529],\n",
       "       [4.03775242]])"
      ]
     },
     "execution_count": 7,
     "metadata": {},
     "output_type": "execute_result"
    }
   ],
   "source": [
    "y_pred = lin_reg.predict(X)\n",
    "y_pred"
   ]
  },
  {
   "cell_type": "code",
   "execution_count": 8,
   "id": "01d41641",
   "metadata": {},
   "outputs": [],
   "source": [
    "poly_features = PolynomialFeatures(degree=2, include_bias=False)\n",
    "X_poly = poly_features.fit_transform(X)"
   ]
  },
  {
   "cell_type": "code",
   "execution_count": 9,
   "id": "c3cfafdc",
   "metadata": {},
   "outputs": [
    {
     "data": {
      "text/plain": [
       "(array([1.90221452]), array([[0.92646089, 2.01091539]]))"
      ]
     },
     "execution_count": 9,
     "metadata": {},
     "output_type": "execute_result"
    }
   ],
   "source": [
    "lin_reg_poly = LinearRegression()\n",
    "lin_reg_poly.fit(X_poly, y)\n",
    "y_poly_pred = lin_reg_poly.predict(X_poly)\n",
    "lin_reg_poly.intercept_, lin_reg_poly.coef_"
   ]
  },
  {
   "cell_type": "code",
   "execution_count": 10,
   "id": "d7d16db6",
   "metadata": {},
   "outputs": [
    {
     "data": {
      "image/png": "[encoded data removed]",
      "text/plain": [
       "<Figure size 432x288 with 1 Axes>"
      ]
     },
     "metadata": {
      "needs_background": "light"
     },
     "output_type": "display_data"
    }
   ],
   "source": [
    "plt.scatter(X, y)\n",
    "plt.plot(X, y_pred, 'g-')\n",
    "plt.plot(X, y_poly_pred, 'r--')\n",
    "\n",
    "plt.show()"
   ]
  },
  {
   "cell_type": "code",
   "execution_count": 39,
   "id": "6d4ef12f",
   "metadata": {},
   "outputs": [],
   "source": [
    "X = np.random.randn(m, 1)"
   ]
  },
  {
   "cell_type": "code",
   "execution_count": 40,
   "id": "2a5f431a",
   "metadata": {},
   "outputs": [],
   "source": [
    "y = 2 * X ** 2 + 0.5 * X"
   ]
  },
  {
   "cell_type": "code",
   "execution_count": 43,
   "id": "6485d9f6",
   "metadata": {},
   "outputs": [
    {
     "data": {
      "text/plain": [
       "array([[1.78178254],\n",
       "       [1.09390452]])"
      ]
     },
     "execution_count": 43,
     "metadata": {},
     "output_type": "execute_result"
    }
   ],
   "source": [
    "X_b = np.c_[np.ones((100, 1)), X]\n",
    "thetas = np.linalg.inv(X_b.T.dot(X_b)).dot(X_b.T).dot(y)\n",
    "thetas"
   ]
  },
  {
   "cell_type": "code",
   "execution_count": 75,
   "id": "9739c9da",
   "metadata": {},
   "outputs": [
    {
     "data": {
      "text/plain": [
       "array([5.24874546])"
      ]
     },
     "execution_count": 75,
     "metadata": {},
     "output_type": "execute_result"
    }
   ],
   "source": [
    "1/m * sum((X_b.dot(thetas) - y) ** 2)"
   ]
  },
  {
   "cell_type": "code",
   "execution_count": 74,
   "id": "ac7d755f",
   "metadata": {},
   "outputs": [
    {
     "data": {
      "text/plain": [
       "5.248745455150674"
      ]
     },
     "execution_count": 74,
     "metadata": {},
     "output_type": "execute_result"
    }
   ],
   "source": [
    "mean_squared_error(X_b.dot(thetas), y)"
   ]
  },
  {
   "cell_type": "code",
   "execution_count": 71,
   "id": "0dd3be29",
   "metadata": {},
   "outputs": [
    {
     "data": {
      "text/plain": [
       "array([[1.78178254],\n",
       "       [1.09390452]])"
      ]
     },
     "execution_count": 71,
     "metadata": {},
     "output_type": "execute_result"
    }
   ],
   "source": [
    "thetas"
   ]
  },
  {
   "cell_type": "code",
   "execution_count": 81,
   "id": "f89a6034",
   "metadata": {},
   "outputs": [
    {
     "data": {
      "text/plain": [
       "array([0.87667629])"
      ]
     },
     "execution_count": 81,
     "metadata": {},
     "output_type": "execute_result"
    }
   ],
   "source": [
    "1 * thetas[0] + -8.27408826e-01 * thetas[1]"
   ]
  },
  {
   "cell_type": "code",
   "execution_count": 76,
   "id": "8f7f4da5",
   "metadata": {},
   "outputs": [
    {
     "data": {
      "text/plain": [
       "array([[ 1.00000000e+00, -8.27408826e-01],\n",
       "       [ 1.00000000e+00,  1.73251281e+00],\n",
       "       [ 1.00000000e+00, -6.42382780e-01],\n",
       "       [ 1.00000000e+00, -2.92080468e-01],\n",
       "       [ 1.00000000e+00,  9.88560271e-02],\n",
       "       [ 1.00000000e+00,  1.63517954e-01],\n",
       "       [ 1.00000000e+00,  6.33891293e-01],\n",
       "       [ 1.00000000e+00,  2.13972878e-01],\n",
       "       [ 1.00000000e+00, -8.80503196e-01],\n",
       "       [ 1.00000000e+00, -6.25651773e-01],\n",
       "       [ 1.00000000e+00, -4.18662611e-01],\n",
       "       [ 1.00000000e+00, -8.54810551e-01],\n",
       "       [ 1.00000000e+00,  1.57518680e+00],\n",
       "       [ 1.00000000e+00,  2.99717187e-01],\n",
       "       [ 1.00000000e+00,  7.25914568e-01],\n",
       "       [ 1.00000000e+00,  1.97315589e+00],\n",
       "       [ 1.00000000e+00,  1.43564023e+00],\n",
       "       [ 1.00000000e+00,  3.94450153e-01],\n",
       "       [ 1.00000000e+00,  2.89906694e-01],\n",
       "       [ 1.00000000e+00,  9.45746327e-01],\n",
       "       [ 1.00000000e+00,  1.29051670e+00],\n",
       "       [ 1.00000000e+00,  3.97045766e-01],\n",
       "       [ 1.00000000e+00, -6.45094109e-01],\n",
       "       [ 1.00000000e+00, -6.85293265e-01],\n",
       "       [ 1.00000000e+00,  9.82817707e-01],\n",
       "       [ 1.00000000e+00,  3.63891960e-01],\n",
       "       [ 1.00000000e+00, -3.15383607e-01],\n",
       "       [ 1.00000000e+00, -5.09210443e-01],\n",
       "       [ 1.00000000e+00,  2.92110800e-01],\n",
       "       [ 1.00000000e+00,  4.64240616e-01],\n",
       "       [ 1.00000000e+00, -9.61737476e-01],\n",
       "       [ 1.00000000e+00,  9.25038601e-01],\n",
       "       [ 1.00000000e+00,  1.64219418e+00],\n",
       "       [ 1.00000000e+00, -9.86711046e-01],\n",
       "       [ 1.00000000e+00, -2.18651418e+00],\n",
       "       [ 1.00000000e+00, -3.56813487e-01],\n",
       "       [ 1.00000000e+00, -1.50557794e+00],\n",
       "       [ 1.00000000e+00, -1.74383711e+00],\n",
       "       [ 1.00000000e+00, -2.07754572e-01],\n",
       "       [ 1.00000000e+00, -1.63670362e+00],\n",
       "       [ 1.00000000e+00,  1.07288346e+00],\n",
       "       [ 1.00000000e+00, -2.77687113e-01],\n",
       "       [ 1.00000000e+00, -1.96109475e-01],\n",
       "       [ 1.00000000e+00,  4.88850192e-02],\n",
       "       [ 1.00000000e+00, -1.73357587e-01],\n",
       "       [ 1.00000000e+00, -1.77886216e+00],\n",
       "       [ 1.00000000e+00,  1.40082130e+00],\n",
       "       [ 1.00000000e+00, -2.53703058e-01],\n",
       "       [ 1.00000000e+00,  3.78368685e-01],\n",
       "       [ 1.00000000e+00,  1.22164002e+00],\n",
       "       [ 1.00000000e+00, -5.63457878e-02],\n",
       "       [ 1.00000000e+00, -5.99578039e-01],\n",
       "       [ 1.00000000e+00, -4.09179940e-01],\n",
       "       [ 1.00000000e+00,  1.39184501e+00],\n",
       "       [ 1.00000000e+00, -1.61232684e+00],\n",
       "       [ 1.00000000e+00,  1.57178018e+00],\n",
       "       [ 1.00000000e+00, -3.62882927e-01],\n",
       "       [ 1.00000000e+00, -9.14871473e-02],\n",
       "       [ 1.00000000e+00,  8.40327955e-01],\n",
       "       [ 1.00000000e+00,  4.06664379e-01],\n",
       "       [ 1.00000000e+00, -5.37563892e-01],\n",
       "       [ 1.00000000e+00,  9.72415059e-01],\n",
       "       [ 1.00000000e+00,  8.37561430e-01],\n",
       "       [ 1.00000000e+00, -1.11898541e+00],\n",
       "       [ 1.00000000e+00,  2.21673401e-01],\n",
       "       [ 1.00000000e+00,  6.36360264e-01],\n",
       "       [ 1.00000000e+00,  1.93201746e-01],\n",
       "       [ 1.00000000e+00, -5.34902367e-01],\n",
       "       [ 1.00000000e+00, -7.85592695e-01],\n",
       "       [ 1.00000000e+00,  1.03638534e+00],\n",
       "       [ 1.00000000e+00,  6.13444499e-02],\n",
       "       [ 1.00000000e+00,  4.89933058e-01],\n",
       "       [ 1.00000000e+00, -1.80913181e-01],\n",
       "       [ 1.00000000e+00, -7.05379144e-01],\n",
       "       [ 1.00000000e+00, -9.66372009e-01],\n",
       "       [ 1.00000000e+00, -9.26880384e-01],\n",
       "       [ 1.00000000e+00, -2.34927652e-01],\n",
       "       [ 1.00000000e+00,  1.16863226e+00],\n",
       "       [ 1.00000000e+00, -1.33426199e+00],\n",
       "       [ 1.00000000e+00, -5.47283230e-02],\n",
       "       [ 1.00000000e+00, -2.35405226e-02],\n",
       "       [ 1.00000000e+00,  1.92380957e+00],\n",
       "       [ 1.00000000e+00,  1.00930344e+00],\n",
       "       [ 1.00000000e+00, -5.66017304e-01],\n",
       "       [ 1.00000000e+00,  3.75441617e-01],\n",
       "       [ 1.00000000e+00, -1.21570716e+00],\n",
       "       [ 1.00000000e+00,  1.35354835e+00],\n",
       "       [ 1.00000000e+00,  2.60619632e+00],\n",
       "       [ 1.00000000e+00, -8.30787482e-01],\n",
       "       [ 1.00000000e+00, -9.17096694e-02],\n",
       "       [ 1.00000000e+00, -1.76775086e-01],\n",
       "       [ 1.00000000e+00, -1.16202589e+00],\n",
       "       [ 1.00000000e+00,  8.42109728e-04],\n",
       "       [ 1.00000000e+00, -4.37389908e-01],\n",
       "       [ 1.00000000e+00, -1.00962585e-02],\n",
       "       [ 1.00000000e+00, -5.96035829e-01],\n",
       "       [ 1.00000000e+00, -3.97023297e-01],\n",
       "       [ 1.00000000e+00,  1.55195984e+00],\n",
       "       [ 1.00000000e+00,  1.41087989e+00],\n",
       "       [ 1.00000000e+00,  8.91232986e-01]])"
      ]
     },
     "execution_count": 76,
     "metadata": {},
     "output_type": "execute_result"
    }
   ],
   "source": [
    "X_b"
   ]
  },
  {
   "cell_type": "code",
   "execution_count": 80,
   "id": "02487c64",
   "metadata": {},
   "outputs": [
    {
     "data": {
      "text/plain": [
       "array([[ 0.87667629],\n",
       "       [ 3.67698613],\n",
       "       [ 1.07907712],\n",
       "       [ 1.4622744 ],\n",
       "       [ 1.88992159],\n",
       "       [ 1.96065557],\n",
       "       [ 2.47519909],\n",
       "       [ 2.01584844],\n",
       "       [ 0.81859612],\n",
       "       [ 1.09737924],\n",
       "       [ 1.32380562],\n",
       "       [ 0.84670142],\n",
       "       [ 3.50488649],\n",
       "       [ 2.10964453],\n",
       "       [ 2.57586376],\n",
       "       [ 3.94022667],\n",
       "       [ 3.35223587],\n",
       "       [ 2.21327334],\n",
       "       [ 2.09891278],\n",
       "       [ 2.81633872],\n",
       "       [ 3.19348459],\n",
       "       [ 2.2161127 ],\n",
       "       [ 1.07611118],\n",
       "       [ 1.03213714],\n",
       "       [ 2.85689127],\n",
       "       [ 2.1798456 ],\n",
       "       [ 1.43678299],\n",
       "       [ 1.22475494],\n",
       "       [ 2.10132386],\n",
       "       [ 2.28961745],\n",
       "       [ 0.72973357],\n",
       "       [ 2.79368644],\n",
       "       [ 3.57818617],\n",
       "       [ 0.70241487],\n",
       "       [-0.61005519],\n",
       "       [ 1.39146266],\n",
       "       [ 0.13482403],\n",
       "       [-0.12580875],\n",
       "       [ 1.55451888],\n",
       "       [-0.00861494],\n",
       "       [ 2.95541461],\n",
       "       [ 1.47801935],\n",
       "       [ 1.5672575 ],\n",
       "       [ 1.83525808],\n",
       "       [ 1.59214589],\n",
       "       [-0.16412281],\n",
       "       [ 3.31414729],\n",
       "       [ 1.50425562],\n",
       "       [ 2.19568175],\n",
       "       [ 3.11814007],\n",
       "       [ 1.72014563],\n",
       "       [ 1.12590142],\n",
       "       [ 1.33417876],\n",
       "       [ 3.30432808],\n",
       "       [ 0.01805093],\n",
       "       [ 3.50115998],\n",
       "       [ 1.38482327],\n",
       "       [ 1.68170434],\n",
       "       [ 2.70102109],\n",
       "       [ 2.22663454],\n",
       "       [ 1.19373897],\n",
       "       [ 2.84551176],\n",
       "       [ 2.69799477],\n",
       "       [ 0.55771935],\n",
       "       [ 2.02427207],\n",
       "       [ 2.47789991],\n",
       "       [ 1.9931268 ],\n",
       "       [ 1.19665042],\n",
       "       [ 0.92241914],\n",
       "       [ 2.91548915],\n",
       "       [ 1.84888751],\n",
       "       [ 2.31772252],\n",
       "       [ 1.58388079],\n",
       "       [ 1.01016511],\n",
       "       [ 0.72466384],\n",
       "       [ 0.7678639 ],\n",
       "       [ 1.52479412],\n",
       "       [ 3.06015465],\n",
       "       [ 0.32222732],\n",
       "       [ 1.72191498],\n",
       "       [ 1.75603146],\n",
       "       [ 3.88624652],\n",
       "       [ 2.88586413],\n",
       "       [ 1.16261366],\n",
       "       [ 2.19247982],\n",
       "       [ 0.45191499],\n",
       "       [ 3.2624352 ],\n",
       "       [ 4.63271246],\n",
       "       [ 0.87298036],\n",
       "       [ 1.68146092],\n",
       "       [ 1.58840748],\n",
       "       [ 0.51063717],\n",
       "       [ 1.78270373],\n",
       "       [ 1.30331974],\n",
       "       [ 1.7707382 ],\n",
       "       [ 1.12977625],\n",
       "       [ 1.34747696],\n",
       "       [ 3.47947841],\n",
       "       [ 3.32515042],\n",
       "       [ 2.75670633]])"
      ]
     },
     "execution_count": 80,
     "metadata": {},
     "output_type": "execute_result"
    }
   ],
   "source": [
    "X_b.dot(thetas)"
   ]
  },
  {
   "cell_type": "code",
   "execution_count": 82,
   "id": "3be04f8c",
   "metadata": {},
   "outputs": [
    {
     "data": {
      "text/plain": [
       "array([[ 2, -2],\n",
       "       [ 1,  1]])"
      ]
     },
     "execution_count": 82,
     "metadata": {},
     "output_type": "execute_result"
    }
   ],
   "source": [
    "M = np.array([[2,-2],\n",
    "         [1, 1]])\n",
    "M"
   ]
  },
  {
   "cell_type": "code",
   "execution_count": 84,
   "id": "a9fa5717",
   "metadata": {},
   "outputs": [
    {
     "data": {
      "text/plain": [
       "array([[-1],\n",
       "       [ 2]])"
      ]
     },
     "execution_count": 84,
     "metadata": {},
     "output_type": "execute_result"
    }
   ],
   "source": [
    "p = np.array([[-1], [2]])\n",
    "p"
   ]
  },
  {
   "cell_type": "code",
   "execution_count": 86,
   "id": "b47f2387",
   "metadata": {},
   "outputs": [
    {
     "data": {
      "text/plain": [
       "array([[-6],\n",
       "       [ 1]])"
      ]
     },
     "execution_count": 86,
     "metadata": {},
     "output_type": "execute_result"
    }
   ],
   "source": [
    "M.dot(p)"
   ]
  },
  {
   "cell_type": "code",
   "execution_count": 87,
   "id": "be80b2e8",
   "metadata": {},
   "outputs": [],
   "source": [
    "v = np.array([[1], [2], [3], [4]])\n",
    "z = np.array([[1], [2], [3], [4]])"
   ]
  },
  {
   "cell_type": "code",
   "execution_count": 106,
   "id": "069e0465",
   "metadata": {},
   "outputs": [
    {
     "data": {
      "text/plain": [
       "array([[1, 2, 3, 4],\n",
       "       [1, 2, 3, 4]])"
      ]
     },
     "execution_count": 106,
     "metadata": {},
     "output_type": "execute_result"
    }
   ],
   "source": [
    "m = np.c_[v, [[1], [2], [3], [4]]]\n",
    "m.T"
   ]
  },
  {
   "cell_type": "code",
   "execution_count": 90,
   "id": "2ec7b3a4",
   "metadata": {},
   "outputs": [
    {
     "data": {
      "text/plain": [
       "array([[1],\n",
       "       [2],\n",
       "       [3],\n",
       "       [4]])"
      ]
     },
     "execution_count": 90,
     "metadata": {},
     "output_type": "execute_result"
    }
   ],
   "source": [
    "z"
   ]
  },
  {
   "cell_type": "code",
   "execution_count": 95,
   "id": "20fcff6b",
   "metadata": {},
   "outputs": [
    {
     "data": {
      "text/plain": [
       "array([[ 1,  2,  3,  4],\n",
       "       [ 2,  4,  6,  8],\n",
       "       [ 3,  6,  9, 12],\n",
       "       [ 4,  8, 12, 16]])"
      ]
     },
     "execution_count": 95,
     "metadata": {},
     "output_type": "execute_result"
    }
   ],
   "source": [
    "v.dot(z.T)"
   ]
  },
  {
   "cell_type": "code",
   "execution_count": 96,
   "id": "42de8518",
   "metadata": {},
   "outputs": [
    {
     "data": {
      "text/plain": [
       "array([[30]])"
      ]
     },
     "execution_count": 96,
     "metadata": {},
     "output_type": "execute_result"
    }
   ],
   "source": [
    "v.T.dot(z)"
   ]
  },
  {
   "cell_type": "code",
   "execution_count": 105,
   "id": "58654892",
   "metadata": {},
   "outputs": [
    {
     "data": {
      "text/plain": [
       "array([[30],\n",
       "       [30]])"
      ]
     },
     "execution_count": 105,
     "metadata": {},
     "output_type": "execute_result"
    }
   ],
   "source": [
    "m.T.dot(z)"
   ]
  },
  {
   "cell_type": "code",
   "execution_count": null,
   "id": "2b21d692",
   "metadata": {},
   "outputs": [],
   "source": []
  }
 ],
 "metadata": {
  "kernelspec": {
   "display_name": "env",
   "language": "python",
   "name": "env"
  },
  "language_info": {
   "codemirror_mode": {
    "name": "ipython",
    "version": 3
   },
   "file_extension": ".py",
   "mimetype": "text/x-python",
   "name": "python",
   "nbconvert_exporter": "python",
   "pygments_lexer": "ipython3",
   "version": "3.9.2"
  }
 },
 "nbformat": 4,
 "nbformat_minor": 5
}
