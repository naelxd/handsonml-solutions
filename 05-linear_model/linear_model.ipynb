{
 "cells": [
  {
   "cell_type": "code",
   "execution_count": 26,
   "id": "cc78adfa",
   "metadata": {},
   "outputs": [],
   "source": [
    "import numpy as np\n",
    "import matplotlib.pyplot as plt\n",
    "from sklearn.linear_model import LinearRegression\n",
    "from sklearn.preprocessing import PolynomialFeatures\n",
    "\n",
    "%matplotlib inline"
   ]
  },
  {
   "cell_type": "code",
   "execution_count": 12,
   "id": "7eee10b6",
   "metadata": {},
   "outputs": [],
   "source": [
    "m = 100"
   ]
  },
  {
   "cell_type": "code",
   "execution_count": 17,
   "id": "c5328c2b",
   "metadata": {},
   "outputs": [
    {
     "data": {
      "text/plain": [
       "array([[-2.35716109e-01],\n",
       "       [ 7.85658184e-02],\n",
       "       [-5.91861728e-01],\n",
       "       [ 6.07970915e-02],\n",
       "       [ 1.84426091e+00],\n",
       "       [ 1.68267400e-01],\n",
       "       [ 4.32490137e-01],\n",
       "       [ 1.50659810e+00],\n",
       "       [-9.58015152e-01],\n",
       "       [-4.55221201e-01],\n",
       "       [-7.33289570e-01],\n",
       "       [ 1.02701675e+00],\n",
       "       [-6.06747902e-01],\n",
       "       [-2.56699974e+00],\n",
       "       [ 1.98743907e-01],\n",
       "       [ 3.72606152e-01],\n",
       "       [ 7.69917307e-01],\n",
       "       [-5.51802632e-01],\n",
       "       [-2.36784260e+00],\n",
       "       [ 9.64858275e-01],\n",
       "       [-5.96835398e-01],\n",
       "       [-6.63654544e-01],\n",
       "       [-8.66071408e-01],\n",
       "       [-7.98252308e-01],\n",
       "       [-1.31019176e+00],\n",
       "       [ 4.35070637e-01],\n",
       "       [-4.58235836e-01],\n",
       "       [-7.51773545e-01],\n",
       "       [-1.04489281e-01],\n",
       "       [ 5.28591166e-01],\n",
       "       [-6.25060525e-01],\n",
       "       [-1.28181441e+00],\n",
       "       [-4.63388073e-01],\n",
       "       [-8.34639724e-01],\n",
       "       [-3.91046095e-01],\n",
       "       [-8.31529684e-01],\n",
       "       [-6.24399271e-01],\n",
       "       [ 1.20025878e-01],\n",
       "       [ 1.13220436e+00],\n",
       "       [ 4.40031616e-01],\n",
       "       [-6.37312430e-02],\n",
       "       [-1.59305394e-01],\n",
       "       [ 3.00100021e-03],\n",
       "       [ 2.14634233e-01],\n",
       "       [-1.49864895e+00],\n",
       "       [-3.60517645e-01],\n",
       "       [ 7.71297291e-01],\n",
       "       [-4.33441070e-01],\n",
       "       [-1.30372880e-01],\n",
       "       [-6.07295311e-01],\n",
       "       [ 1.17752067e+00],\n",
       "       [-1.32680265e+00],\n",
       "       [ 1.38674151e+00],\n",
       "       [ 1.01606234e+00],\n",
       "       [ 1.07087455e+00],\n",
       "       [ 1.27202024e-01],\n",
       "       [ 1.04603686e+00],\n",
       "       [ 7.26866244e-01],\n",
       "       [-3.94220238e-01],\n",
       "       [ 5.43515737e-01],\n",
       "       [-4.21251128e-01],\n",
       "       [-4.31334317e-01],\n",
       "       [ 1.34420710e+00],\n",
       "       [ 6.53876734e-02],\n",
       "       [-2.98113532e-01],\n",
       "       [-1.16438872e+00],\n",
       "       [ 1.85091335e-01],\n",
       "       [-1.43640918e+00],\n",
       "       [-3.30491495e-01],\n",
       "       [ 7.91373780e-01],\n",
       "       [ 6.39814069e-01],\n",
       "       [ 9.64815549e-01],\n",
       "       [-1.74571423e+00],\n",
       "       [-3.89940729e-01],\n",
       "       [ 1.99736388e+00],\n",
       "       [ 4.96191578e-02],\n",
       "       [-1.30535451e-01],\n",
       "       [ 8.49752663e-01],\n",
       "       [-4.76461299e-01],\n",
       "       [ 3.39834554e-01],\n",
       "       [-1.39082514e+00],\n",
       "       [-5.94912103e-01],\n",
       "       [-1.34794736e+00],\n",
       "       [-9.39270206e-01],\n",
       "       [-1.00669841e+00],\n",
       "       [-9.33584306e-02],\n",
       "       [-1.17090489e+00],\n",
       "       [-6.66264851e-01],\n",
       "       [ 5.02317806e-01],\n",
       "       [ 1.66653215e+00],\n",
       "       [ 5.92386344e-01],\n",
       "       [-3.06686012e+00],\n",
       "       [ 7.86197451e-01],\n",
       "       [-1.90603236e+00],\n",
       "       [-3.05520585e-01],\n",
       "       [ 1.70165397e+00],\n",
       "       [ 2.43455748e-01],\n",
       "       [-3.53753340e-01],\n",
       "       [-1.55503473e+00],\n",
       "       [-9.15104123e-01]])"
      ]
     },
     "execution_count": 17,
     "metadata": {},
     "output_type": "execute_result"
    }
   ],
   "source": [
    "X = np.random.randn(m, 1)\n",
    "X"
   ]
  },
  {
   "cell_type": "code",
   "execution_count": 20,
   "id": "4b4a0938",
   "metadata": {},
   "outputs": [
    {
     "data": {
      "text/plain": [
       "array([[ 3.93158441],\n",
       "       [ 0.81355592],\n",
       "       [ 1.58246658],\n",
       "       [ 0.59026511],\n",
       "       [11.72629685],\n",
       "       [ 2.39435997],\n",
       "       [ 2.97654495],\n",
       "       [ 9.75668947],\n",
       "       [ 3.31798543],\n",
       "       [ 0.79681848],\n",
       "       [ 1.81906864],\n",
       "       [ 5.42661425],\n",
       "       [ 2.6540398 ],\n",
       "       [12.10441664],\n",
       "       [ 1.96026257],\n",
       "       [ 4.77693539],\n",
       "       [ 5.29776711],\n",
       "       [ 1.15803484],\n",
       "       [ 9.44965874],\n",
       "       [ 4.2713382 ],\n",
       "       [ 2.25332009],\n",
       "       [ 1.37981471],\n",
       "       [ 1.70705176],\n",
       "       [ 1.96095207],\n",
       "       [ 3.90012456],\n",
       "       [ 2.23194582],\n",
       "       [ 1.58260902],\n",
       "       [ 2.20989787],\n",
       "       [ 1.97802787],\n",
       "       [ 2.60894171],\n",
       "       [ 1.42926422],\n",
       "       [ 3.51633278],\n",
       "       [ 1.57173521],\n",
       "       [ 4.4257618 ],\n",
       "       [ 3.3397335 ],\n",
       "       [ 2.51937847],\n",
       "       [ 3.4871117 ],\n",
       "       [ 2.55083866],\n",
       "       [ 4.38299691],\n",
       "       [ 4.39825315],\n",
       "       [ 1.24545174],\n",
       "       [ 1.90369908],\n",
       "       [ 1.47594964],\n",
       "       [ 3.39218441],\n",
       "       [ 6.79135195],\n",
       "       [ 1.33350423],\n",
       "       [ 3.65647881],\n",
       "       [-0.04913425],\n",
       "       [ 3.06799677],\n",
       "       [ 0.21213464],\n",
       "       [ 7.46814744],\n",
       "       [ 4.71828344],\n",
       "       [ 6.77457611],\n",
       "       [ 5.0699323 ],\n",
       "       [ 5.80988722],\n",
       "       [ 2.82876582],\n",
       "       [ 3.88443671],\n",
       "       [ 4.16088019],\n",
       "       [-0.13411791],\n",
       "       [ 3.22027931],\n",
       "       [ 0.46247633],\n",
       "       [ 1.4646382 ],\n",
       "       [ 9.09198726],\n",
       "       [ 1.69159436],\n",
       "       [ 1.29099828],\n",
       "       [ 3.08159385],\n",
       "       [ 2.98973292],\n",
       "       [ 4.23780465],\n",
       "       [-0.39203984],\n",
       "       [ 3.98162097],\n",
       "       [ 3.32618622],\n",
       "       [ 6.0111255 ],\n",
       "       [ 6.9344438 ],\n",
       "       [ 1.5162963 ],\n",
       "       [13.14738348],\n",
       "       [ 3.86998338],\n",
       "       [ 1.09191781],\n",
       "       [ 6.13083999],\n",
       "       [ 1.99404073],\n",
       "       [ 3.04797159],\n",
       "       [ 5.40636595],\n",
       "       [ 2.31621105],\n",
       "       [ 5.00617046],\n",
       "       [ 4.72834459],\n",
       "       [ 2.97206714],\n",
       "       [ 1.60887524],\n",
       "       [ 4.28073766],\n",
       "       [ 0.6436087 ],\n",
       "       [ 1.68164429],\n",
       "       [ 9.80749199],\n",
       "       [ 2.16480633],\n",
       "       [18.72238843],\n",
       "       [ 4.34532416],\n",
       "       [ 6.11142083],\n",
       "       [ 2.78090651],\n",
       "       [10.64478506],\n",
       "       [ 2.32909944],\n",
       "       [ 2.27148942],\n",
       "       [ 5.17199291],\n",
       "       [ 2.76172962]])"
      ]
     },
     "execution_count": 20,
     "metadata": {},
     "output_type": "execute_result"
    }
   ],
   "source": [
    "y = 2 * X ** 2 + X + 2 + np.random.randn(m, 1)\n",
    "y"
   ]
  },
  {
   "cell_type": "code",
   "execution_count": 21,
   "id": "eab431ea",
   "metadata": {},
   "outputs": [
    {
     "data": {
      "text/plain": [
       "<matplotlib.collections.PathCollection at 0x7faf332937c0>"
      ]
     },
     "execution_count": 21,
     "metadata": {},
     "output_type": "execute_result"
    },
    {
     "data": {
      "image/png": "[encoded data removed]",
      "text/plain": [
       "<Figure size 432x288 with 1 Axes>"
      ]
     },
     "metadata": {
      "needs_background": "light"
     },
     "output_type": "display_data"
    }
   ],
   "source": [
    "plt.scatter(X, y)"
   ]
  },
  {
   "cell_type": "code",
   "execution_count": 23,
   "id": "93163619",
   "metadata": {},
   "outputs": [
    {
     "data": {
      "text/plain": [
       "(array([3.81261867]), array([[0.21805279]]))"
      ]
     },
     "execution_count": 23,
     "metadata": {},
     "output_type": "execute_result"
    }
   ],
   "source": [
    "lin_reg = LinearRegression()\n",
    "lin_reg.fit(X, y)\n",
    "lin_reg.intercept_, lin_reg.coef_"
   ]
  },
  {
   "cell_type": "code",
   "execution_count": 24,
   "id": "33895a79",
   "metadata": {},
   "outputs": [
    {
     "data": {
      "text/plain": [
       "array([[3.76122011],\n",
       "       [3.82975016],\n",
       "       [3.68356157],\n",
       "       [3.82587564],\n",
       "       [4.2147649 ],\n",
       "       [3.84930984],\n",
       "       [3.90692435],\n",
       "       [4.14113658],\n",
       "       [3.60372079],\n",
       "       [3.71335642],\n",
       "       [3.65272283],\n",
       "       [4.03656253],\n",
       "       [3.6803156 ],\n",
       "       [3.25287722],\n",
       "       [3.85595533],\n",
       "       [3.89386648],\n",
       "       [3.98050128],\n",
       "       [3.69229657],\n",
       "       [3.29630399],\n",
       "       [4.0230087 ],\n",
       "       [3.68247705],\n",
       "       [3.66790695],\n",
       "       [3.62376938],\n",
       "       [3.63855753],\n",
       "       [3.5269277 ],\n",
       "       [3.90748703],\n",
       "       [3.71269907],\n",
       "       [3.64869235],\n",
       "       [3.78983449],\n",
       "       [3.92787944],\n",
       "       [3.67632248],\n",
       "       [3.53311546],\n",
       "       [3.71157561],\n",
       "       [3.63062315],\n",
       "       [3.72734998],\n",
       "       [3.6313013 ],\n",
       "       [3.67646667],\n",
       "       [3.83879065],\n",
       "       [4.05949899],\n",
       "       [3.90856879],\n",
       "       [3.79872189],\n",
       "       [3.77788168],\n",
       "       [3.81327304],\n",
       "       [3.85942026],\n",
       "       [3.48583409],\n",
       "       [3.73400679],\n",
       "       [3.98080219],\n",
       "       [3.71810563],\n",
       "       [3.7841905 ],\n",
       "       [3.68019623],\n",
       "       [4.06938033],\n",
       "       [3.52330565],\n",
       "       [4.11500152],\n",
       "       [4.03417389],\n",
       "       [4.04612585],\n",
       "       [3.84035542],\n",
       "       [4.04070992],\n",
       "       [3.97111388],\n",
       "       [3.72665785],\n",
       "       [3.93113379],\n",
       "       [3.72076369],\n",
       "       [3.71856502],\n",
       "       [4.10572677],\n",
       "       [3.82687663],\n",
       "       [3.74761418],\n",
       "       [3.55872046],\n",
       "       [3.85297835],\n",
       "       [3.49940564],\n",
       "       [3.74055408],\n",
       "       [3.98517993],\n",
       "       [3.95213191],\n",
       "       [4.02299939],\n",
       "       [3.43196081],\n",
       "       [3.72759101],\n",
       "       [4.24814943],\n",
       "       [3.82343826],\n",
       "       [3.78415505],\n",
       "       [3.9979096 ],\n",
       "       [3.70872495],\n",
       "       [3.88672054],\n",
       "       [3.50934537],\n",
       "       [3.68289643],\n",
       "       [3.51869499],\n",
       "       [3.60780818],\n",
       "       [3.59310527],\n",
       "       [3.7922616 ],\n",
       "       [3.55729959],\n",
       "       [3.66733776],\n",
       "       [3.92215047],\n",
       "       [4.17601065],\n",
       "       [3.94179016],\n",
       "       [3.14388127],\n",
       "       [3.98405121],\n",
       "       [3.397003  ],\n",
       "       [3.74599905],\n",
       "       [4.18366906],\n",
       "       [3.86570487],\n",
       "       [3.73548177],\n",
       "       [3.47353901],\n",
       "       [3.61307766]])"
      ]
     },
     "execution_count": 24,
     "metadata": {},
     "output_type": "execute_result"
    }
   ],
   "source": [
    "y_pred = lin_reg.predict(X)\n",
    "y_pred"
   ]
  },
  {
   "cell_type": "code",
   "execution_count": 27,
   "id": "01d41641",
   "metadata": {},
   "outputs": [],
   "source": [
    "poly_features = PolynomialFeatures(degree=2, include_bias=False)\n",
    "X_poly = poly_features.fit_transform(X)"
   ]
  },
  {
   "cell_type": "code",
   "execution_count": 29,
   "id": "c3cfafdc",
   "metadata": {},
   "outputs": [
    {
     "data": {
      "text/plain": [
       "(array([1.94343479]), array([[1.27745769, 2.15094187]]))"
      ]
     },
     "execution_count": 29,
     "metadata": {},
     "output_type": "execute_result"
    }
   ],
   "source": [
    "lin_reg_poly = LinearRegression()\n",
    "lin_reg_poly.fit(X_poly, y)\n",
    "y_poly_pred = lin_reg_poly.predict(X_poly)\n",
    "lin_reg_poly.intercept_, lin_reg_poly.coef_"
   ]
  },
  {
   "cell_type": "code",
   "execution_count": 43,
   "id": "d7d16db6",
   "metadata": {},
   "outputs": [
    {
     "data": {
      "image/png": "[encoded data removed]",
      "text/plain": [
       "<Figure size 432x288 with 1 Axes>"
      ]
     },
     "metadata": {
      "needs_background": "light"
     },
     "output_type": "display_data"
    }
   ],
   "source": [
    "plt.scatter(X, y)\n",
    "plt.plot(X, y_pred, 'g-')\n",
    "plt.plot(X, y_poly_pred, 'r--')\n",
    "\n",
    "plt.show()"
   ]
  },
  {
   "cell_type": "code",
   "execution_count": null,
   "id": "bf0e08cb",
   "metadata": {},
   "outputs": [],
   "source": []
  }
 ],
 "metadata": {
  "kernelspec": {
   "display_name": "env",
   "language": "python",
   "name": "env"
  },
  "language_info": {
   "codemirror_mode": {
    "name": "ipython",
    "version": 3
   },
   "file_extension": ".py",
   "mimetype": "text/x-python",
   "name": "python",
   "nbconvert_exporter": "python",
   "pygments_lexer": "ipython3",
   "version": "3.9.2"
  }
 },
 "nbformat": 4,
 "nbformat_minor": 5
}
