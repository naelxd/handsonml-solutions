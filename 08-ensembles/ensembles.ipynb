{
 "cells": [
  {
   "cell_type": "markdown",
   "id": "18420355",
   "metadata": {},
   "source": [
    "**Chapter 7 - Ensembles** <br>"
   ]
  },
  {
   "cell_type": "markdown",
   "id": "54f8dc85",
   "metadata": {},
   "source": [
    "My solutions for the exercises"
   ]
  },
  {
   "cell_type": "markdown",
   "id": "b065d3ac",
   "metadata": {},
   "source": [
    "<td>\n",
    "    <a href=\"https://colab.research.google.com/github/nikitaosovskiy/hadnson_ml/blob/main/08-ensembles/ensembles.ipynb\" target=\"_parent\"><img src=\"https://colab.research.google.com/assets/colab-badge.svg\" alt=\"Open In Colab\"/></a>\n",
    "</td>"
   ]
  },
  {
   "cell_type": "code",
   "execution_count": 14,
   "id": "978299eb",
   "metadata": {},
   "outputs": [],
   "source": [
    "import numpy as np\n",
    "import pandas as pd\n",
    "from sklearn.datasets import fetch_openml\n",
    "from sklearn.ensemble import RandomForestClassifier, ExtraTreesClassifier, VotingClassifier\n",
    "from sklearn.svm import SVC\n",
    "from sklearn.metrics import accuracy_score\n",
    "from sklearn.tree import DecisionTreeClassifier\n",
    "from scipy.stats import mode\n",
    "\n",
    "%matplotlib inline\n",
    "import matplotlib.pyplot as plt"
   ]
  },
  {
   "cell_type": "markdown",
   "id": "9b641053",
   "metadata": {},
   "source": [
    "# Ex 8"
   ]
  },
  {
   "cell_type": "markdown",
   "id": "4522f693",
   "metadata": {},
   "source": [
    "*Task:* To Compare a solo models with ensemble"
   ]
  },
  {
   "cell_type": "markdown",
   "id": "3244d157",
   "metadata": {},
   "source": [
    "## Load data"
   ]
  },
  {
   "cell_type": "code",
   "execution_count": 4,
   "id": "49281931",
   "metadata": {},
   "outputs": [],
   "source": [
    "mnist = fetch_openml('mnist_784', version=1, as_frame=False)"
   ]
  },
  {
   "cell_type": "code",
   "execution_count": 5,
   "id": "df58ff84",
   "metadata": {},
   "outputs": [],
   "source": [
    "X = mnist['data']\n",
    "y = mnist['target']"
   ]
  },
  {
   "cell_type": "code",
   "execution_count": 6,
   "id": "41b3dc0b",
   "metadata": {},
   "outputs": [],
   "source": [
    "X_train, X_val, X_test, y_train, y_val, y_test = X[:50000], X[50000:60000], X[60000:], y[:50000], y[50000:60000], y[60000:]"
   ]
  },
  {
   "cell_type": "markdown",
   "id": "57b617b8",
   "metadata": {},
   "source": [
    "## Training"
   ]
  },
  {
   "cell_type": "code",
   "execution_count": 11,
   "id": "58feb6dc",
   "metadata": {},
   "outputs": [
    {
     "data": {
      "text/plain": [
       "RandomForestClassifier()"
      ]
     },
     "execution_count": 11,
     "metadata": {},
     "output_type": "execute_result"
    }
   ],
   "source": [
    "rnd_forest = RandomForestClassifier()\n",
    "rnd_forest.fit(X_train, y_train)"
   ]
  },
  {
   "cell_type": "code",
   "execution_count": 16,
   "id": "0563c3a8",
   "metadata": {},
   "outputs": [
    {
     "data": {
      "text/plain": [
       "0.9681"
      ]
     },
     "execution_count": 16,
     "metadata": {},
     "output_type": "execute_result"
    }
   ],
   "source": [
    "y_pred = rnd_forest.predict(X_test)\n",
    "\n",
    "accuracy_score(y_test, y_pred)"
   ]
  },
  {
   "cell_type": "code",
   "execution_count": 12,
   "id": "c204da76",
   "metadata": {},
   "outputs": [
    {
     "data": {
      "text/plain": [
       "ExtraTreesClassifier()"
      ]
     },
     "execution_count": 12,
     "metadata": {},
     "output_type": "execute_result"
    }
   ],
   "source": [
    "extra_clf = ExtraTreesClassifier()\n",
    "extra_clf.fit(X_train, y_train)"
   ]
  },
  {
   "cell_type": "code",
   "execution_count": 17,
   "id": "6f1a6a29",
   "metadata": {},
   "outputs": [
    {
     "data": {
      "text/plain": [
       "0.9703"
      ]
     },
     "execution_count": 17,
     "metadata": {},
     "output_type": "execute_result"
    }
   ],
   "source": [
    "y_pred = extra_clf.predict(X_test)\n",
    "\n",
    "accuracy_score(y_test, y_pred)"
   ]
  },
  {
   "cell_type": "code",
   "execution_count": 13,
   "id": "510104fe",
   "metadata": {},
   "outputs": [
    {
     "data": {
      "text/plain": [
       "SVC()"
      ]
     },
     "execution_count": 13,
     "metadata": {},
     "output_type": "execute_result"
    }
   ],
   "source": [
    "svm_clf = SVC()\n",
    "svm_clf.fit(X_train, y_train)"
   ]
  },
  {
   "cell_type": "code",
   "execution_count": 18,
   "id": "7bff4d41",
   "metadata": {},
   "outputs": [
    {
     "data": {
      "text/plain": [
       "0.9785"
      ]
     },
     "execution_count": 18,
     "metadata": {},
     "output_type": "execute_result"
    }
   ],
   "source": [
    "y_pred = svm_clf.predict(X_test)\n",
    "\n",
    "accuracy_score(y_test, y_pred)"
   ]
  },
  {
   "cell_type": "markdown",
   "id": "cb115ea4",
   "metadata": {},
   "source": [
    "## Making ensemble"
   ]
  },
  {
   "cell_type": "markdown",
   "id": "c0f0aca5",
   "metadata": {},
   "source": [
    "### #1"
   ]
  },
  {
   "cell_type": "code",
   "execution_count": 19,
   "id": "76adb9ad",
   "metadata": {},
   "outputs": [],
   "source": [
    "fin_pred = []"
   ]
  },
  {
   "cell_type": "code",
   "execution_count": 20,
   "id": "0131f8ba",
   "metadata": {},
   "outputs": [],
   "source": [
    "for clf in (rnd_forest, extra_clf, svm_clf):\n",
    "    predictions = clf.predict(X_val)\n",
    "    fin_pred.append(predictions)"
   ]
  },
  {
   "cell_type": "code",
   "execution_count": 34,
   "id": "9de7dcb2",
   "metadata": {},
   "outputs": [],
   "source": [
    "pred_results = mode(fin_pred, axis=0).mode[0]"
   ]
  },
  {
   "cell_type": "code",
   "execution_count": 35,
   "id": "9f914c0d",
   "metadata": {},
   "outputs": [
    {
     "data": {
      "text/plain": [
       "0.9768"
      ]
     },
     "execution_count": 35,
     "metadata": {},
     "output_type": "execute_result"
    }
   ],
   "source": [
    "accuracy_score(y_val, pred_results)"
   ]
  },
  {
   "cell_type": "markdown",
   "id": "3e2d3af3",
   "metadata": {},
   "source": [
    "### #2"
   ]
  },
  {
   "cell_type": "code",
   "execution_count": 45,
   "id": "8214138e",
   "metadata": {},
   "outputs": [],
   "source": [
    "rnd_forest = RandomForestClassifier()\n",
    "extra_clf = ExtraTreesClassifier()\n",
    "svm_clf = SVC(probability=True)"
   ]
  },
  {
   "cell_type": "code",
   "execution_count": 46,
   "id": "7fd7fb91",
   "metadata": {},
   "outputs": [],
   "source": [
    "voting_clf = VotingClassifier(\n",
    "    estimators=[('rnd_for', rnd_forest), ('extra_clf', extra_clf), ('svc', svm_clf)],\n",
    "    voting='soft')"
   ]
  },
  {
   "cell_type": "code",
   "execution_count": 47,
   "id": "935b1efd",
   "metadata": {},
   "outputs": [
    {
     "data": {
      "text/plain": [
       "VotingClassifier(estimators=[('rnd_for', RandomForestClassifier()),\n",
       "                             ('extra_clf', ExtraTreesClassifier()),\n",
       "                             ('svc', SVC(probability=True))],\n",
       "                 voting='soft')"
      ]
     },
     "execution_count": 47,
     "metadata": {},
     "output_type": "execute_result"
    }
   ],
   "source": [
    "voting_clf.fit(X_train, y_train)"
   ]
  },
  {
   "cell_type": "code",
   "execution_count": 48,
   "id": "ee8e952f",
   "metadata": {},
   "outputs": [
    {
     "data": {
      "text/plain": [
       "0.9813"
      ]
     },
     "execution_count": 48,
     "metadata": {},
     "output_type": "execute_result"
    }
   ],
   "source": [
    "y_pred = voting_clf.predict(X_val)\n",
    "\n",
    "accuracy_score(y_val, y_pred)"
   ]
  },
  {
   "cell_type": "markdown",
   "id": "dad7c8ee",
   "metadata": {},
   "source": [
    "Accuracy of VotingClassifier is better than accurancy of solo models"
   ]
  },
  {
   "cell_type": "markdown",
   "id": "d90180ae",
   "metadata": {},
   "source": [
    "# Ex 9"
   ]
  },
  {
   "cell_type": "markdown",
   "id": "06501308",
   "metadata": {},
   "source": [
    "*Task:* To make a Ensemble with Stacking"
   ]
  },
  {
   "cell_type": "code",
   "execution_count": 7,
   "id": "b5b24aa7",
   "metadata": {},
   "outputs": [],
   "source": [
    "rnd_forest = RandomForestClassifier()\n",
    "extra_clf = ExtraTreesClassifier()\n",
    "svm_clf = SVC(probability=True)"
   ]
  },
  {
   "cell_type": "code",
   "execution_count": 8,
   "id": "13b1628c",
   "metadata": {},
   "outputs": [
    {
     "data": {
      "text/plain": [
       "SVC(probability=True)"
      ]
     },
     "execution_count": 8,
     "metadata": {},
     "output_type": "execute_result"
    }
   ],
   "source": [
    "rnd_forest.fit(X_train, y_train)\n",
    "extra_clf.fit(X_train, y_train)\n",
    "svm_clf.fit(X_train, y_train)"
   ]
  },
  {
   "cell_type": "code",
   "execution_count": 10,
   "id": "6f935493",
   "metadata": {},
   "outputs": [],
   "source": [
    "predictions = []\n",
    "for model in (rnd_forest, extra_clf, svm_clf):\n",
    "    predictions.append(model.predict(X_val))"
   ]
  },
  {
   "cell_type": "code",
   "execution_count": 11,
   "id": "8ea15d39",
   "metadata": {},
   "outputs": [],
   "source": [
    "predictions = np.array(predictions).T"
   ]
  },
  {
   "cell_type": "code",
   "execution_count": 15,
   "id": "c7ae2b22",
   "metadata": {},
   "outputs": [
    {
     "data": {
      "text/plain": [
       "DecisionTreeClassifier()"
      ]
     },
     "execution_count": 15,
     "metadata": {},
     "output_type": "execute_result"
    }
   ],
   "source": [
    "blender = DecisionTreeClassifier()\n",
    "\n",
    "blender.fit(predictions, y_val)"
   ]
  },
  {
   "cell_type": "code",
   "execution_count": 16,
   "id": "baedddfe",
   "metadata": {},
   "outputs": [],
   "source": [
    "test_predictions = []\n",
    "for model in (rnd_forest, extra_clf, svm_clf):\n",
    "    test_predictions.append(model.predict(X_test))"
   ]
  },
  {
   "cell_type": "code",
   "execution_count": 17,
   "id": "9ce489e2",
   "metadata": {},
   "outputs": [],
   "source": [
    "test_predictions_predictions = np.array(test_predictions).T"
   ]
  },
  {
   "cell_type": "code",
   "execution_count": 18,
   "id": "1715f92a",
   "metadata": {},
   "outputs": [],
   "source": [
    "y_pred = blender.predict(test_predictions)"
   ]
  },
  {
   "cell_type": "code",
   "execution_count": 19,
   "id": "3dee49e5",
   "metadata": {},
   "outputs": [
    {
     "data": {
      "text/plain": [
       "0.9756"
      ]
     },
     "execution_count": 19,
     "metadata": {},
     "output_type": "execute_result"
    }
   ],
   "source": [
    "accuracy_score(y_test, y_pred)"
   ]
  },
  {
   "cell_type": "markdown",
   "id": "98fb5f07",
   "metadata": {},
   "source": [
    "Stacking predictions not as good as the previous classifier. So in this situation preferable to use *VotingClassifier with soft voting*"
   ]
  }
 ],
 "metadata": {
  "kernelspec": {
   "display_name": "env",
   "language": "python",
   "name": "env"
  },
  "language_info": {
   "codemirror_mode": {
    "name": "ipython",
    "version": 3
   },
   "file_extension": ".py",
   "mimetype": "text/x-python",
   "name": "python",
   "nbconvert_exporter": "python",
   "pygments_lexer": "ipython3",
   "version": "3.9.11"
  }
 },
 "nbformat": 4,
 "nbformat_minor": 5
}
