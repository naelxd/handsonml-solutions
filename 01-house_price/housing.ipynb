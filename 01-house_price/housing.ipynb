{
 "cells": [
  {
   "cell_type": "markdown",
   "id": "z7VNlRdSlpbv",
   "metadata": {
    "id": "z7VNlRdSlpbv"
   },
   "source": [
    "# Housing"
   ]
  },
  {
   "cell_type": "markdown",
   "id": "QS7oKU_Olcsn",
   "metadata": {
    "id": "QS7oKU_Olcsn"
   },
   "source": [
    "<table align=\"left\">\n",
    "  <td>\n",
    "    <a href=\"https://colab.research.google.com/github/nikitaosovskiy/hadnson_ml/blob/main/01-house_price/housing.ipynb\" target=\"_parent\"><img src=\"https://colab.research.google.com/assets/colab-badge.svg\" alt=\"Open In Colab\"/></a>\n",
    "  </td>\n",
    "  <td>\n",
    "    <a target=\"_blank\" href=\"https://www.kaggle.com/nikitaosovskiy/fork-of-house-price\"><img src=\"https://kaggle.com/static/images/open-in-kaggle.svg\" /></a>\n",
    "  </td>\n",
    "</table>"
   ]
  },
  {
   "cell_type": "markdown",
   "id": "e158bdb6",
   "metadata": {
    "id": "e158bdb6"
   },
   "source": [
    "# Installing data and packages"
   ]
  },
  {
   "cell_type": "code",
   "execution_count": null,
   "id": "1c3c070a",
   "metadata": {
    "id": "1c3c070a"
   },
   "outputs": [],
   "source": [
    "!pip install kaggle pandas matplotlib scikit-learn"
   ]
  },
  {
   "cell_type": "code",
   "execution_count": null,
   "id": "145c4039",
   "metadata": {
    "id": "145c4039"
   },
   "outputs": [],
   "source": [
    "import os\n",
    "import zipfile\n",
    "\n",
    "import pandas as pd\n",
    "import matplotlib.pyplot as plt\n",
    "import numpy as np"
   ]
  },
  {
   "cell_type": "code",
   "execution_count": null,
   "id": "9367dbec",
   "metadata": {
    "id": "9367dbec"
   },
   "outputs": [],
   "source": [
    "zip_data_name = 'house-prices-advanced-regression-techniques.zip'\n",
    "data_folder = 'data'\n",
    "\n",
    "if not(os.listdir(data_folder)):\n",
    "    !kaggle competitions download -c house-prices-advanced-regression-techniques\n",
    "    zip_data = zipfile.ZipFile(zip_data_name)\n",
    "    zip_data.extractall(data_folder)\n",
    "    !rm {zip_data_name}"
   ]
  },
  {
   "cell_type": "markdown",
   "id": "e9dfd8ca",
   "metadata": {
    "id": "e9dfd8ca"
   },
   "source": [
    "# Looking for our data"
   ]
  },
  {
   "cell_type": "code",
   "execution_count": null,
   "id": "9689f29d",
   "metadata": {
    "id": "9689f29d"
   },
   "outputs": [],
   "source": [
    "def load_data(path):\n",
    "    csv_path = os.path.join(data_folder, path)\n",
    "    return pd.read_csv(csv_path)\n",
    "\n",
    "train_data = load_data('train.csv')\n",
    "test_data = load_data('test.csv')\n",
    "test_data_labels = load_data('sample_submission.csv')"
   ]
  },
  {
   "cell_type": "code",
   "execution_count": null,
   "id": "a82cdac7",
   "metadata": {
    "id": "a82cdac7",
    "outputId": "46386ea2-c38b-414c-dbcc-44a2185184f6"
   },
   "outputs": [
    {
     "data": {
      "text/html": [
       "<div>\n",
       "<style scoped>\n",
       "    .dataframe tbody tr th:only-of-type {\n",
       "        vertical-align: middle;\n",
       "    }\n",
       "\n",
       "    .dataframe tbody tr th {\n",
       "        vertical-align: top;\n",
       "    }\n",
       "\n",
       "    .dataframe thead th {\n",
       "        text-align: right;\n",
       "    }\n",
       "</style>\n",
       "<table border=\"1\" class=\"dataframe\">\n",
       "  <thead>\n",
       "    <tr style=\"text-align: right;\">\n",
       "      <th></th>\n",
       "      <th>Id</th>\n",
       "      <th>SalePrice</th>\n",
       "    </tr>\n",
       "  </thead>\n",
       "  <tbody>\n",
       "    <tr>\n",
       "      <th>0</th>\n",
       "      <td>1461</td>\n",
       "      <td>169277.052498</td>\n",
       "    </tr>\n",
       "    <tr>\n",
       "      <th>1</th>\n",
       "      <td>1462</td>\n",
       "      <td>187758.393989</td>\n",
       "    </tr>\n",
       "    <tr>\n",
       "      <th>2</th>\n",
       "      <td>1463</td>\n",
       "      <td>183583.683570</td>\n",
       "    </tr>\n",
       "    <tr>\n",
       "      <th>3</th>\n",
       "      <td>1464</td>\n",
       "      <td>179317.477511</td>\n",
       "    </tr>\n",
       "    <tr>\n",
       "      <th>4</th>\n",
       "      <td>1465</td>\n",
       "      <td>150730.079977</td>\n",
       "    </tr>\n",
       "  </tbody>\n",
       "</table>\n",
       "</div>"
      ],
      "text/plain": [
       "     Id      SalePrice\n",
       "0  1461  169277.052498\n",
       "1  1462  187758.393989\n",
       "2  1463  183583.683570\n",
       "3  1464  179317.477511\n",
       "4  1465  150730.079977"
      ]
     },
     "execution_count": 4,
     "metadata": {},
     "output_type": "execute_result"
    }
   ],
   "source": [
    "test_data_labels.head()"
   ]
  },
  {
   "cell_type": "code",
   "execution_count": null,
   "id": "2bfb33ee",
   "metadata": {
    "id": "2bfb33ee",
    "outputId": "cb27c3dd-5c66-4a2f-93f9-d29cb62e0487"
   },
   "outputs": [
    {
     "data": {
      "text/html": [
       "<div>\n",
       "<style scoped>\n",
       "    .dataframe tbody tr th:only-of-type {\n",
       "        vertical-align: middle;\n",
       "    }\n",
       "\n",
       "    .dataframe tbody tr th {\n",
       "        vertical-align: top;\n",
       "    }\n",
       "\n",
       "    .dataframe thead th {\n",
       "        text-align: right;\n",
       "    }\n",
       "</style>\n",
       "<table border=\"1\" class=\"dataframe\">\n",
       "  <thead>\n",
       "    <tr style=\"text-align: right;\">\n",
       "      <th></th>\n",
       "      <th>Id</th>\n",
       "      <th>MSSubClass</th>\n",
       "      <th>MSZoning</th>\n",
       "      <th>LotFrontage</th>\n",
       "      <th>LotArea</th>\n",
       "      <th>Street</th>\n",
       "      <th>Alley</th>\n",
       "      <th>LotShape</th>\n",
       "      <th>LandContour</th>\n",
       "      <th>Utilities</th>\n",
       "      <th>...</th>\n",
       "      <th>PoolArea</th>\n",
       "      <th>PoolQC</th>\n",
       "      <th>Fence</th>\n",
       "      <th>MiscFeature</th>\n",
       "      <th>MiscVal</th>\n",
       "      <th>MoSold</th>\n",
       "      <th>YrSold</th>\n",
       "      <th>SaleType</th>\n",
       "      <th>SaleCondition</th>\n",
       "      <th>SalePrice</th>\n",
       "    </tr>\n",
       "  </thead>\n",
       "  <tbody>\n",
       "    <tr>\n",
       "      <th>0</th>\n",
       "      <td>1</td>\n",
       "      <td>60</td>\n",
       "      <td>RL</td>\n",
       "      <td>65.0</td>\n",
       "      <td>8450</td>\n",
       "      <td>Pave</td>\n",
       "      <td>NaN</td>\n",
       "      <td>Reg</td>\n",
       "      <td>Lvl</td>\n",
       "      <td>AllPub</td>\n",
       "      <td>...</td>\n",
       "      <td>0</td>\n",
       "      <td>NaN</td>\n",
       "      <td>NaN</td>\n",
       "      <td>NaN</td>\n",
       "      <td>0</td>\n",
       "      <td>2</td>\n",
       "      <td>2008</td>\n",
       "      <td>WD</td>\n",
       "      <td>Normal</td>\n",
       "      <td>208500</td>\n",
       "    </tr>\n",
       "    <tr>\n",
       "      <th>1</th>\n",
       "      <td>2</td>\n",
       "      <td>20</td>\n",
       "      <td>RL</td>\n",
       "      <td>80.0</td>\n",
       "      <td>9600</td>\n",
       "      <td>Pave</td>\n",
       "      <td>NaN</td>\n",
       "      <td>Reg</td>\n",
       "      <td>Lvl</td>\n",
       "      <td>AllPub</td>\n",
       "      <td>...</td>\n",
       "      <td>0</td>\n",
       "      <td>NaN</td>\n",
       "      <td>NaN</td>\n",
       "      <td>NaN</td>\n",
       "      <td>0</td>\n",
       "      <td>5</td>\n",
       "      <td>2007</td>\n",
       "      <td>WD</td>\n",
       "      <td>Normal</td>\n",
       "      <td>181500</td>\n",
       "    </tr>\n",
       "    <tr>\n",
       "      <th>2</th>\n",
       "      <td>3</td>\n",
       "      <td>60</td>\n",
       "      <td>RL</td>\n",
       "      <td>68.0</td>\n",
       "      <td>11250</td>\n",
       "      <td>Pave</td>\n",
       "      <td>NaN</td>\n",
       "      <td>IR1</td>\n",
       "      <td>Lvl</td>\n",
       "      <td>AllPub</td>\n",
       "      <td>...</td>\n",
       "      <td>0</td>\n",
       "      <td>NaN</td>\n",
       "      <td>NaN</td>\n",
       "      <td>NaN</td>\n",
       "      <td>0</td>\n",
       "      <td>9</td>\n",
       "      <td>2008</td>\n",
       "      <td>WD</td>\n",
       "      <td>Normal</td>\n",
       "      <td>223500</td>\n",
       "    </tr>\n",
       "    <tr>\n",
       "      <th>3</th>\n",
       "      <td>4</td>\n",
       "      <td>70</td>\n",
       "      <td>RL</td>\n",
       "      <td>60.0</td>\n",
       "      <td>9550</td>\n",
       "      <td>Pave</td>\n",
       "      <td>NaN</td>\n",
       "      <td>IR1</td>\n",
       "      <td>Lvl</td>\n",
       "      <td>AllPub</td>\n",
       "      <td>...</td>\n",
       "      <td>0</td>\n",
       "      <td>NaN</td>\n",
       "      <td>NaN</td>\n",
       "      <td>NaN</td>\n",
       "      <td>0</td>\n",
       "      <td>2</td>\n",
       "      <td>2006</td>\n",
       "      <td>WD</td>\n",
       "      <td>Abnorml</td>\n",
       "      <td>140000</td>\n",
       "    </tr>\n",
       "    <tr>\n",
       "      <th>4</th>\n",
       "      <td>5</td>\n",
       "      <td>60</td>\n",
       "      <td>RL</td>\n",
       "      <td>84.0</td>\n",
       "      <td>14260</td>\n",
       "      <td>Pave</td>\n",
       "      <td>NaN</td>\n",
       "      <td>IR1</td>\n",
       "      <td>Lvl</td>\n",
       "      <td>AllPub</td>\n",
       "      <td>...</td>\n",
       "      <td>0</td>\n",
       "      <td>NaN</td>\n",
       "      <td>NaN</td>\n",
       "      <td>NaN</td>\n",
       "      <td>0</td>\n",
       "      <td>12</td>\n",
       "      <td>2008</td>\n",
       "      <td>WD</td>\n",
       "      <td>Normal</td>\n",
       "      <td>250000</td>\n",
       "    </tr>\n",
       "  </tbody>\n",
       "</table>\n",
       "<p>5 rows × 81 columns</p>\n",
       "</div>"
      ],
      "text/plain": [
       "   Id  MSSubClass MSZoning  LotFrontage  LotArea Street Alley LotShape  \\\n",
       "0   1          60       RL         65.0     8450   Pave   NaN      Reg   \n",
       "1   2          20       RL         80.0     9600   Pave   NaN      Reg   \n",
       "2   3          60       RL         68.0    11250   Pave   NaN      IR1   \n",
       "3   4          70       RL         60.0     9550   Pave   NaN      IR1   \n",
       "4   5          60       RL         84.0    14260   Pave   NaN      IR1   \n",
       "\n",
       "  LandContour Utilities  ... PoolArea PoolQC Fence MiscFeature MiscVal MoSold  \\\n",
       "0         Lvl    AllPub  ...        0    NaN   NaN         NaN       0      2   \n",
       "1         Lvl    AllPub  ...        0    NaN   NaN         NaN       0      5   \n",
       "2         Lvl    AllPub  ...        0    NaN   NaN         NaN       0      9   \n",
       "3         Lvl    AllPub  ...        0    NaN   NaN         NaN       0      2   \n",
       "4         Lvl    AllPub  ...        0    NaN   NaN         NaN       0     12   \n",
       "\n",
       "  YrSold  SaleType  SaleCondition  SalePrice  \n",
       "0   2008        WD         Normal     208500  \n",
       "1   2007        WD         Normal     181500  \n",
       "2   2008        WD         Normal     223500  \n",
       "3   2006        WD        Abnorml     140000  \n",
       "4   2008        WD         Normal     250000  \n",
       "\n",
       "[5 rows x 81 columns]"
      ]
     },
     "execution_count": 5,
     "metadata": {},
     "output_type": "execute_result"
    }
   ],
   "source": [
    "train_data.head()"
   ]
  },
  {
   "cell_type": "code",
   "execution_count": null,
   "id": "a28263ab",
   "metadata": {
    "id": "a28263ab",
    "outputId": "6ba34ebc-f97c-4c94-8a8e-16509dfdb51f"
   },
   "outputs": [
    {
     "name": "stdout",
     "output_type": "stream",
     "text": [
      "<class 'pandas.core.frame.DataFrame'>\n",
      "RangeIndex: 1460 entries, 0 to 1459\n",
      "Data columns (total 81 columns):\n",
      " #   Column         Non-Null Count  Dtype  \n",
      "---  ------         --------------  -----  \n",
      " 0   Id             1460 non-null   int64  \n",
      " 1   MSSubClass     1460 non-null   int64  \n",
      " 2   MSZoning       1460 non-null   object \n",
      " 3   LotFrontage    1201 non-null   float64\n",
      " 4   LotArea        1460 non-null   int64  \n",
      " 5   Street         1460 non-null   object \n",
      " 6   Alley          91 non-null     object \n",
      " 7   LotShape       1460 non-null   object \n",
      " 8   LandContour    1460 non-null   object \n",
      " 9   Utilities      1460 non-null   object \n",
      " 10  LotConfig      1460 non-null   object \n",
      " 11  LandSlope      1460 non-null   object \n",
      " 12  Neighborhood   1460 non-null   object \n",
      " 13  Condition1     1460 non-null   object \n",
      " 14  Condition2     1460 non-null   object \n",
      " 15  BldgType       1460 non-null   object \n",
      " 16  HouseStyle     1460 non-null   object \n",
      " 17  OverallQual    1460 non-null   int64  \n",
      " 18  OverallCond    1460 non-null   int64  \n",
      " 19  YearBuilt      1460 non-null   int64  \n",
      " 20  YearRemodAdd   1460 non-null   int64  \n",
      " 21  RoofStyle      1460 non-null   object \n",
      " 22  RoofMatl       1460 non-null   object \n",
      " 23  Exterior1st    1460 non-null   object \n",
      " 24  Exterior2nd    1460 non-null   object \n",
      " 25  MasVnrType     1452 non-null   object \n",
      " 26  MasVnrArea     1452 non-null   float64\n",
      " 27  ExterQual      1460 non-null   object \n",
      " 28  ExterCond      1460 non-null   object \n",
      " 29  Foundation     1460 non-null   object \n",
      " 30  BsmtQual       1423 non-null   object \n",
      " 31  BsmtCond       1423 non-null   object \n",
      " 32  BsmtExposure   1422 non-null   object \n",
      " 33  BsmtFinType1   1423 non-null   object \n",
      " 34  BsmtFinSF1     1460 non-null   int64  \n",
      " 35  BsmtFinType2   1422 non-null   object \n",
      " 36  BsmtFinSF2     1460 non-null   int64  \n",
      " 37  BsmtUnfSF      1460 non-null   int64  \n",
      " 38  TotalBsmtSF    1460 non-null   int64  \n",
      " 39  Heating        1460 non-null   object \n",
      " 40  HeatingQC      1460 non-null   object \n",
      " 41  CentralAir     1460 non-null   object \n",
      " 42  Electrical     1459 non-null   object \n",
      " 43  1stFlrSF       1460 non-null   int64  \n",
      " 44  2ndFlrSF       1460 non-null   int64  \n",
      " 45  LowQualFinSF   1460 non-null   int64  \n",
      " 46  GrLivArea      1460 non-null   int64  \n",
      " 47  BsmtFullBath   1460 non-null   int64  \n",
      " 48  BsmtHalfBath   1460 non-null   int64  \n",
      " 49  FullBath       1460 non-null   int64  \n",
      " 50  HalfBath       1460 non-null   int64  \n",
      " 51  BedroomAbvGr   1460 non-null   int64  \n",
      " 52  KitchenAbvGr   1460 non-null   int64  \n",
      " 53  KitchenQual    1460 non-null   object \n",
      " 54  TotRmsAbvGrd   1460 non-null   int64  \n",
      " 55  Functional     1460 non-null   object \n",
      " 56  Fireplaces     1460 non-null   int64  \n",
      " 57  FireplaceQu    770 non-null    object \n",
      " 58  GarageType     1379 non-null   object \n",
      " 59  GarageYrBlt    1379 non-null   float64\n",
      " 60  GarageFinish   1379 non-null   object \n",
      " 61  GarageCars     1460 non-null   int64  \n",
      " 62  GarageArea     1460 non-null   int64  \n",
      " 63  GarageQual     1379 non-null   object \n",
      " 64  GarageCond     1379 non-null   object \n",
      " 65  PavedDrive     1460 non-null   object \n",
      " 66  WoodDeckSF     1460 non-null   int64  \n",
      " 67  OpenPorchSF    1460 non-null   int64  \n",
      " 68  EnclosedPorch  1460 non-null   int64  \n",
      " 69  3SsnPorch      1460 non-null   int64  \n",
      " 70  ScreenPorch    1460 non-null   int64  \n",
      " 71  PoolArea       1460 non-null   int64  \n",
      " 72  PoolQC         7 non-null      object \n",
      " 73  Fence          281 non-null    object \n",
      " 74  MiscFeature    54 non-null     object \n",
      " 75  MiscVal        1460 non-null   int64  \n",
      " 76  MoSold         1460 non-null   int64  \n",
      " 77  YrSold         1460 non-null   int64  \n",
      " 78  SaleType       1460 non-null   object \n",
      " 79  SaleCondition  1460 non-null   object \n",
      " 80  SalePrice      1460 non-null   int64  \n",
      "dtypes: float64(3), int64(35), object(43)\n",
      "memory usage: 924.0+ KB\n"
     ]
    }
   ],
   "source": [
    "train_data.info()"
   ]
  },
  {
   "cell_type": "code",
   "execution_count": null,
   "id": "17d2789d",
   "metadata": {
    "id": "17d2789d",
    "outputId": "4048ff3e-aec1-4a78-dd95-34cb60a82444"
   },
   "outputs": [
    {
     "data": {
      "text/html": [
       "<div>\n",
       "<style scoped>\n",
       "    .dataframe tbody tr th:only-of-type {\n",
       "        vertical-align: middle;\n",
       "    }\n",
       "\n",
       "    .dataframe tbody tr th {\n",
       "        vertical-align: top;\n",
       "    }\n",
       "\n",
       "    .dataframe thead th {\n",
       "        text-align: right;\n",
       "    }\n",
       "</style>\n",
       "<table border=\"1\" class=\"dataframe\">\n",
       "  <thead>\n",
       "    <tr style=\"text-align: right;\">\n",
       "      <th></th>\n",
       "      <th>Id</th>\n",
       "      <th>MSSubClass</th>\n",
       "      <th>LotFrontage</th>\n",
       "      <th>LotArea</th>\n",
       "      <th>OverallQual</th>\n",
       "      <th>OverallCond</th>\n",
       "      <th>YearBuilt</th>\n",
       "      <th>YearRemodAdd</th>\n",
       "      <th>MasVnrArea</th>\n",
       "      <th>BsmtFinSF1</th>\n",
       "      <th>...</th>\n",
       "      <th>WoodDeckSF</th>\n",
       "      <th>OpenPorchSF</th>\n",
       "      <th>EnclosedPorch</th>\n",
       "      <th>3SsnPorch</th>\n",
       "      <th>ScreenPorch</th>\n",
       "      <th>PoolArea</th>\n",
       "      <th>MiscVal</th>\n",
       "      <th>MoSold</th>\n",
       "      <th>YrSold</th>\n",
       "      <th>SalePrice</th>\n",
       "    </tr>\n",
       "  </thead>\n",
       "  <tbody>\n",
       "    <tr>\n",
       "      <th>count</th>\n",
       "      <td>1460.000000</td>\n",
       "      <td>1460.000000</td>\n",
       "      <td>1201.000000</td>\n",
       "      <td>1460.000000</td>\n",
       "      <td>1460.000000</td>\n",
       "      <td>1460.000000</td>\n",
       "      <td>1460.000000</td>\n",
       "      <td>1460.000000</td>\n",
       "      <td>1452.000000</td>\n",
       "      <td>1460.000000</td>\n",
       "      <td>...</td>\n",
       "      <td>1460.000000</td>\n",
       "      <td>1460.000000</td>\n",
       "      <td>1460.000000</td>\n",
       "      <td>1460.000000</td>\n",
       "      <td>1460.000000</td>\n",
       "      <td>1460.000000</td>\n",
       "      <td>1460.000000</td>\n",
       "      <td>1460.000000</td>\n",
       "      <td>1460.000000</td>\n",
       "      <td>1460.000000</td>\n",
       "    </tr>\n",
       "    <tr>\n",
       "      <th>mean</th>\n",
       "      <td>730.500000</td>\n",
       "      <td>56.897260</td>\n",
       "      <td>70.049958</td>\n",
       "      <td>10516.828082</td>\n",
       "      <td>6.099315</td>\n",
       "      <td>5.575342</td>\n",
       "      <td>1971.267808</td>\n",
       "      <td>1984.865753</td>\n",
       "      <td>103.685262</td>\n",
       "      <td>443.639726</td>\n",
       "      <td>...</td>\n",
       "      <td>94.244521</td>\n",
       "      <td>46.660274</td>\n",
       "      <td>21.954110</td>\n",
       "      <td>3.409589</td>\n",
       "      <td>15.060959</td>\n",
       "      <td>2.758904</td>\n",
       "      <td>43.489041</td>\n",
       "      <td>6.321918</td>\n",
       "      <td>2007.815753</td>\n",
       "      <td>180921.195890</td>\n",
       "    </tr>\n",
       "    <tr>\n",
       "      <th>std</th>\n",
       "      <td>421.610009</td>\n",
       "      <td>42.300571</td>\n",
       "      <td>24.284752</td>\n",
       "      <td>9981.264932</td>\n",
       "      <td>1.382997</td>\n",
       "      <td>1.112799</td>\n",
       "      <td>30.202904</td>\n",
       "      <td>20.645407</td>\n",
       "      <td>181.066207</td>\n",
       "      <td>456.098091</td>\n",
       "      <td>...</td>\n",
       "      <td>125.338794</td>\n",
       "      <td>66.256028</td>\n",
       "      <td>61.119149</td>\n",
       "      <td>29.317331</td>\n",
       "      <td>55.757415</td>\n",
       "      <td>40.177307</td>\n",
       "      <td>496.123024</td>\n",
       "      <td>2.703626</td>\n",
       "      <td>1.328095</td>\n",
       "      <td>79442.502883</td>\n",
       "    </tr>\n",
       "    <tr>\n",
       "      <th>min</th>\n",
       "      <td>1.000000</td>\n",
       "      <td>20.000000</td>\n",
       "      <td>21.000000</td>\n",
       "      <td>1300.000000</td>\n",
       "      <td>1.000000</td>\n",
       "      <td>1.000000</td>\n",
       "      <td>1872.000000</td>\n",
       "      <td>1950.000000</td>\n",
       "      <td>0.000000</td>\n",
       "      <td>0.000000</td>\n",
       "      <td>...</td>\n",
       "      <td>0.000000</td>\n",
       "      <td>0.000000</td>\n",
       "      <td>0.000000</td>\n",
       "      <td>0.000000</td>\n",
       "      <td>0.000000</td>\n",
       "      <td>0.000000</td>\n",
       "      <td>0.000000</td>\n",
       "      <td>1.000000</td>\n",
       "      <td>2006.000000</td>\n",
       "      <td>34900.000000</td>\n",
       "    </tr>\n",
       "    <tr>\n",
       "      <th>25%</th>\n",
       "      <td>365.750000</td>\n",
       "      <td>20.000000</td>\n",
       "      <td>59.000000</td>\n",
       "      <td>7553.500000</td>\n",
       "      <td>5.000000</td>\n",
       "      <td>5.000000</td>\n",
       "      <td>1954.000000</td>\n",
       "      <td>1967.000000</td>\n",
       "      <td>0.000000</td>\n",
       "      <td>0.000000</td>\n",
       "      <td>...</td>\n",
       "      <td>0.000000</td>\n",
       "      <td>0.000000</td>\n",
       "      <td>0.000000</td>\n",
       "      <td>0.000000</td>\n",
       "      <td>0.000000</td>\n",
       "      <td>0.000000</td>\n",
       "      <td>0.000000</td>\n",
       "      <td>5.000000</td>\n",
       "      <td>2007.000000</td>\n",
       "      <td>129975.000000</td>\n",
       "    </tr>\n",
       "    <tr>\n",
       "      <th>50%</th>\n",
       "      <td>730.500000</td>\n",
       "      <td>50.000000</td>\n",
       "      <td>69.000000</td>\n",
       "      <td>9478.500000</td>\n",
       "      <td>6.000000</td>\n",
       "      <td>5.000000</td>\n",
       "      <td>1973.000000</td>\n",
       "      <td>1994.000000</td>\n",
       "      <td>0.000000</td>\n",
       "      <td>383.500000</td>\n",
       "      <td>...</td>\n",
       "      <td>0.000000</td>\n",
       "      <td>25.000000</td>\n",
       "      <td>0.000000</td>\n",
       "      <td>0.000000</td>\n",
       "      <td>0.000000</td>\n",
       "      <td>0.000000</td>\n",
       "      <td>0.000000</td>\n",
       "      <td>6.000000</td>\n",
       "      <td>2008.000000</td>\n",
       "      <td>163000.000000</td>\n",
       "    </tr>\n",
       "    <tr>\n",
       "      <th>75%</th>\n",
       "      <td>1095.250000</td>\n",
       "      <td>70.000000</td>\n",
       "      <td>80.000000</td>\n",
       "      <td>11601.500000</td>\n",
       "      <td>7.000000</td>\n",
       "      <td>6.000000</td>\n",
       "      <td>2000.000000</td>\n",
       "      <td>2004.000000</td>\n",
       "      <td>166.000000</td>\n",
       "      <td>712.250000</td>\n",
       "      <td>...</td>\n",
       "      <td>168.000000</td>\n",
       "      <td>68.000000</td>\n",
       "      <td>0.000000</td>\n",
       "      <td>0.000000</td>\n",
       "      <td>0.000000</td>\n",
       "      <td>0.000000</td>\n",
       "      <td>0.000000</td>\n",
       "      <td>8.000000</td>\n",
       "      <td>2009.000000</td>\n",
       "      <td>214000.000000</td>\n",
       "    </tr>\n",
       "    <tr>\n",
       "      <th>max</th>\n",
       "      <td>1460.000000</td>\n",
       "      <td>190.000000</td>\n",
       "      <td>313.000000</td>\n",
       "      <td>215245.000000</td>\n",
       "      <td>10.000000</td>\n",
       "      <td>9.000000</td>\n",
       "      <td>2010.000000</td>\n",
       "      <td>2010.000000</td>\n",
       "      <td>1600.000000</td>\n",
       "      <td>5644.000000</td>\n",
       "      <td>...</td>\n",
       "      <td>857.000000</td>\n",
       "      <td>547.000000</td>\n",
       "      <td>552.000000</td>\n",
       "      <td>508.000000</td>\n",
       "      <td>480.000000</td>\n",
       "      <td>738.000000</td>\n",
       "      <td>15500.000000</td>\n",
       "      <td>12.000000</td>\n",
       "      <td>2010.000000</td>\n",
       "      <td>755000.000000</td>\n",
       "    </tr>\n",
       "  </tbody>\n",
       "</table>\n",
       "<p>8 rows × 38 columns</p>\n",
       "</div>"
      ],
      "text/plain": [
       "                Id   MSSubClass  LotFrontage        LotArea  OverallQual  \\\n",
       "count  1460.000000  1460.000000  1201.000000    1460.000000  1460.000000   \n",
       "mean    730.500000    56.897260    70.049958   10516.828082     6.099315   \n",
       "std     421.610009    42.300571    24.284752    9981.264932     1.382997   \n",
       "min       1.000000    20.000000    21.000000    1300.000000     1.000000   \n",
       "25%     365.750000    20.000000    59.000000    7553.500000     5.000000   \n",
       "50%     730.500000    50.000000    69.000000    9478.500000     6.000000   \n",
       "75%    1095.250000    70.000000    80.000000   11601.500000     7.000000   \n",
       "max    1460.000000   190.000000   313.000000  215245.000000    10.000000   \n",
       "\n",
       "       OverallCond    YearBuilt  YearRemodAdd   MasVnrArea   BsmtFinSF1  ...  \\\n",
       "count  1460.000000  1460.000000   1460.000000  1452.000000  1460.000000  ...   \n",
       "mean      5.575342  1971.267808   1984.865753   103.685262   443.639726  ...   \n",
       "std       1.112799    30.202904     20.645407   181.066207   456.098091  ...   \n",
       "min       1.000000  1872.000000   1950.000000     0.000000     0.000000  ...   \n",
       "25%       5.000000  1954.000000   1967.000000     0.000000     0.000000  ...   \n",
       "50%       5.000000  1973.000000   1994.000000     0.000000   383.500000  ...   \n",
       "75%       6.000000  2000.000000   2004.000000   166.000000   712.250000  ...   \n",
       "max       9.000000  2010.000000   2010.000000  1600.000000  5644.000000  ...   \n",
       "\n",
       "        WoodDeckSF  OpenPorchSF  EnclosedPorch    3SsnPorch  ScreenPorch  \\\n",
       "count  1460.000000  1460.000000    1460.000000  1460.000000  1460.000000   \n",
       "mean     94.244521    46.660274      21.954110     3.409589    15.060959   \n",
       "std     125.338794    66.256028      61.119149    29.317331    55.757415   \n",
       "min       0.000000     0.000000       0.000000     0.000000     0.000000   \n",
       "25%       0.000000     0.000000       0.000000     0.000000     0.000000   \n",
       "50%       0.000000    25.000000       0.000000     0.000000     0.000000   \n",
       "75%     168.000000    68.000000       0.000000     0.000000     0.000000   \n",
       "max     857.000000   547.000000     552.000000   508.000000   480.000000   \n",
       "\n",
       "          PoolArea       MiscVal       MoSold       YrSold      SalePrice  \n",
       "count  1460.000000   1460.000000  1460.000000  1460.000000    1460.000000  \n",
       "mean      2.758904     43.489041     6.321918  2007.815753  180921.195890  \n",
       "std      40.177307    496.123024     2.703626     1.328095   79442.502883  \n",
       "min       0.000000      0.000000     1.000000  2006.000000   34900.000000  \n",
       "25%       0.000000      0.000000     5.000000  2007.000000  129975.000000  \n",
       "50%       0.000000      0.000000     6.000000  2008.000000  163000.000000  \n",
       "75%       0.000000      0.000000     8.000000  2009.000000  214000.000000  \n",
       "max     738.000000  15500.000000    12.000000  2010.000000  755000.000000  \n",
       "\n",
       "[8 rows x 38 columns]"
      ]
     },
     "execution_count": 7,
     "metadata": {},
     "output_type": "execute_result"
    }
   ],
   "source": [
    "train_data.describe()"
   ]
  },
  {
   "cell_type": "code",
   "execution_count": null,
   "id": "2c905a11",
   "metadata": {
    "id": "2c905a11",
    "outputId": "2ac36383-f952-4f74-b0d4-285ae73714be"
   },
   "outputs": [
    {
     "data": {
      "image/png": "[encoded data removed]",
      "text/plain": [
       "<Figure size 1440x1080 with 42 Axes>"
      ]
     },
     "metadata": {
      "needs_background": "light"
     },
     "output_type": "display_data"
    }
   ],
   "source": [
    "%matplotlib inline\n",
    "train_data.hist(bins=20, figsize=(20, 15))\n",
    "plt.show()"
   ]
  },
  {
   "cell_type": "code",
   "execution_count": null,
   "id": "ff995ea0",
   "metadata": {
    "id": "ff995ea0",
    "outputId": "7913ca89-d7bf-461d-ba28-aefa8116a9ad"
   },
   "outputs": [
    {
     "data": {
      "text/plain": [
       "SalePrice        1.000000\n",
       "OverallQual      0.790982\n",
       "GrLivArea        0.708624\n",
       "GarageCars       0.640409\n",
       "GarageArea       0.623431\n",
       "TotalBsmtSF      0.613581\n",
       "1stFlrSF         0.605852\n",
       "FullBath         0.560664\n",
       "TotRmsAbvGrd     0.533723\n",
       "YearBuilt        0.522897\n",
       "YearRemodAdd     0.507101\n",
       "GarageYrBlt      0.486362\n",
       "MasVnrArea       0.477493\n",
       "Fireplaces       0.466929\n",
       "BsmtFinSF1       0.386420\n",
       "LotFrontage      0.351799\n",
       "WoodDeckSF       0.324413\n",
       "2ndFlrSF         0.319334\n",
       "OpenPorchSF      0.315856\n",
       "HalfBath         0.284108\n",
       "LotArea          0.263843\n",
       "BsmtFullBath     0.227122\n",
       "BsmtUnfSF        0.214479\n",
       "BedroomAbvGr     0.168213\n",
       "ScreenPorch      0.111447\n",
       "PoolArea         0.092404\n",
       "MoSold           0.046432\n",
       "3SsnPorch        0.044584\n",
       "BsmtFinSF2      -0.011378\n",
       "BsmtHalfBath    -0.016844\n",
       "MiscVal         -0.021190\n",
       "Id              -0.021917\n",
       "LowQualFinSF    -0.025606\n",
       "YrSold          -0.028923\n",
       "OverallCond     -0.077856\n",
       "MSSubClass      -0.084284\n",
       "EnclosedPorch   -0.128578\n",
       "KitchenAbvGr    -0.135907\n",
       "repair_age      -0.507101\n",
       "house_age       -0.522897\n",
       "Name: SalePrice, dtype: float64"
      ]
     },
     "execution_count": 9,
     "metadata": {},
     "output_type": "execute_result"
    }
   ],
   "source": [
    "housing = train_data.copy()\n",
    "\n",
    "housing['repair_age'] = 2022 - train_data['YearRemodAdd']\n",
    "housing['house_age'] = 2022 - train_data['YearBuilt']\n",
    "\n",
    "corr_matrix = housing.corr()\n",
    "\n",
    "corr_matrix['SalePrice'].sort_values(ascending=False)"
   ]
  },
  {
   "cell_type": "markdown",
   "id": "b1bf913b",
   "metadata": {
    "id": "b1bf913b"
   },
   "source": [
    "# Transform our data"
   ]
  },
  {
   "cell_type": "code",
   "execution_count": null,
   "id": "c533dfe2",
   "metadata": {
    "id": "c533dfe2"
   },
   "outputs": [],
   "source": [
    "housing_labels = train_data['SalePrice'].copy()\n",
    "housing = train_data.drop(['SalePrice', 'Id'], axis=1)"
   ]
  },
  {
   "cell_type": "code",
   "execution_count": null,
   "id": "148d227e",
   "metadata": {
    "id": "148d227e"
   },
   "outputs": [],
   "source": [
    "nums_transform = []\n",
    "obj_transform = []\n",
    "\n",
    "for column in housing:\n",
    "    if housing[column].dtype != 'object':\n",
    "        nums_transform.append(column)\n",
    "    else:\n",
    "        obj_transform.append(column)"
   ]
  },
  {
   "cell_type": "code",
   "execution_count": null,
   "id": "9eef2d0c",
   "metadata": {
    "id": "9eef2d0c",
    "outputId": "ffba2dc1-966b-4fc6-f429-291e51afc601"
   },
   "outputs": [
    {
     "data": {
      "text/plain": [
       "19"
      ]
     },
     "execution_count": 12,
     "metadata": {},
     "output_type": "execute_result"
    }
   ],
   "source": [
    "housing.columns.get_loc('YearRemodAdd')"
   ]
  },
  {
   "cell_type": "code",
   "execution_count": null,
   "id": "bf723729",
   "metadata": {
    "id": "bf723729",
    "outputId": "708368a8-c5e2-491c-d333-9e1b682cc2cd"
   },
   "outputs": [
    {
     "data": {
      "text/plain": [
       "18"
      ]
     },
     "execution_count": 13,
     "metadata": {},
     "output_type": "execute_result"
    }
   ],
   "source": [
    "housing.columns.get_loc('YearBuilt')"
   ]
  },
  {
   "cell_type": "code",
   "execution_count": null,
   "id": "ed0991cb",
   "metadata": {
    "id": "ed0991cb"
   },
   "outputs": [],
   "source": [
    "from sklearn.base import BaseEstimator, TransformerMixin\n",
    "\n",
    "# Special transformator\n",
    "year_rem_ix, year_built_ix = 19, 18\n",
    "class CombinedAttributesAdder(BaseEstimator, TransformerMixin):\n",
    "    def fit(self, X, y=None):\n",
    "        return self\n",
    "    def transform(self, X, y=None):\n",
    "        repair_age = 2022 - X[:, year_rem_ix]\n",
    "        house_age = 2022 - X[:, year_rem_ix]\n",
    "        return np.c_[X, repair_age, \n",
    "                     house_age]"
   ]
  },
  {
   "cell_type": "code",
   "execution_count": null,
   "id": "a2026d0e",
   "metadata": {
    "id": "a2026d0e"
   },
   "outputs": [],
   "source": [
    "from sklearn.pipeline import Pipeline\n",
    "from sklearn.preprocessing import StandardScaler, OrdinalEncoder\n",
    "from sklearn.impute import SimpleImputer\n",
    "\n",
    "num_pipeline = Pipeline([\n",
    "    ('imputer', SimpleImputer(strategy='median')),\n",
    "    ('attribs_adder', CombinedAttributesAdder()),\n",
    "    ('std_scaler', StandardScaler())\n",
    "])\n",
    "\n",
    "obj_pipeline = Pipeline([\n",
    "    ('ordinal_encoder', OrdinalEncoder(handle_unknown='use_encoded_value',\n",
    "                                       unknown_value=np.nan)),\n",
    "    ('imputer', SimpleImputer(strategy='median')),\n",
    "    ('std_scaler', StandardScaler(with_mean=False))\n",
    "])"
   ]
  },
  {
   "cell_type": "code",
   "execution_count": null,
   "id": "c86106ed",
   "metadata": {
    "id": "c86106ed"
   },
   "outputs": [],
   "source": [
    "from sklearn.compose import ColumnTransformer\n",
    "\n",
    "full_pipeline = ColumnTransformer([\n",
    "    ('num', num_pipeline, nums_transform),\n",
    "    ('ord', obj_pipeline, obj_transform)\n",
    "])\n",
    "\n",
    "housing_prepared = full_pipeline.fit_transform(housing)"
   ]
  },
  {
   "cell_type": "code",
   "execution_count": null,
   "id": "97d705d2",
   "metadata": {
    "id": "97d705d2",
    "outputId": "55b75deb-aebe-46de-f433-92dd8c46ccb9"
   },
   "outputs": [
    {
     "data": {
      "text/plain": [
       "(1460, 81)"
      ]
     },
     "execution_count": 17,
     "metadata": {},
     "output_type": "execute_result"
    }
   ],
   "source": [
    "housing_prepared.shape"
   ]
  },
  {
   "cell_type": "code",
   "execution_count": null,
   "id": "7551eb82",
   "metadata": {
    "id": "7551eb82",
    "outputId": "9245ef91-d2c4-4916-c84f-287caf08465a"
   },
   "outputs": [
    {
     "data": {
      "text/plain": [
       "array([[ 0.07337496, -0.22087509, -0.20714171, ..., 23.05941946,\n",
       "         5.15607262,  3.63478632],\n",
       "       [-0.87256276,  0.46031974, -0.09188637, ..., 23.05941946,\n",
       "         5.15607262,  3.63478632],\n",
       "       [ 0.07337496, -0.08463612,  0.07347998, ..., 23.05941946,\n",
       "         5.15607262,  3.63478632],\n",
       "       ...,\n",
       "       [ 0.30985939, -0.1754621 , -0.14781027, ..., 23.05941946,\n",
       "         5.15607262,  3.63478632],\n",
       "       [-0.87256276, -0.08463612, -0.08016039, ..., 23.05941946,\n",
       "         5.15607262,  3.63478632],\n",
       "       [-0.87256276,  0.23325479, -0.05811155, ..., 23.05941946,\n",
       "         5.15607262,  3.63478632]])"
      ]
     },
     "execution_count": 18,
     "metadata": {},
     "output_type": "execute_result"
    }
   ],
   "source": [
    "housing_prepared"
   ]
  },
  {
   "cell_type": "code",
   "execution_count": null,
   "id": "4ee79ad3",
   "metadata": {
    "id": "4ee79ad3",
    "outputId": "a9d24af5-b84f-424a-e026-d6eb60d05e14"
   },
   "outputs": [
    {
     "data": {
      "text/html": [
       "<div>\n",
       "<style scoped>\n",
       "    .dataframe tbody tr th:only-of-type {\n",
       "        vertical-align: middle;\n",
       "    }\n",
       "\n",
       "    .dataframe tbody tr th {\n",
       "        vertical-align: top;\n",
       "    }\n",
       "\n",
       "    .dataframe thead th {\n",
       "        text-align: right;\n",
       "    }\n",
       "</style>\n",
       "<table border=\"1\" class=\"dataframe\">\n",
       "  <thead>\n",
       "    <tr style=\"text-align: right;\">\n",
       "      <th></th>\n",
       "      <th>MSSubClass</th>\n",
       "      <th>LotFrontage</th>\n",
       "      <th>LotArea</th>\n",
       "      <th>OverallQual</th>\n",
       "      <th>OverallCond</th>\n",
       "      <th>YearBuilt</th>\n",
       "      <th>YearRemodAdd</th>\n",
       "      <th>MasVnrArea</th>\n",
       "      <th>BsmtFinSF1</th>\n",
       "      <th>BsmtFinSF2</th>\n",
       "      <th>...</th>\n",
       "      <th>GarageType</th>\n",
       "      <th>GarageFinish</th>\n",
       "      <th>GarageQual</th>\n",
       "      <th>GarageCond</th>\n",
       "      <th>PavedDrive</th>\n",
       "      <th>PoolQC</th>\n",
       "      <th>Fence</th>\n",
       "      <th>MiscFeature</th>\n",
       "      <th>SaleType</th>\n",
       "      <th>SaleCondition</th>\n",
       "    </tr>\n",
       "  </thead>\n",
       "  <tbody>\n",
       "    <tr>\n",
       "      <th>0</th>\n",
       "      <td>0.073375</td>\n",
       "      <td>-0.220875</td>\n",
       "      <td>-0.207142</td>\n",
       "      <td>0.651479</td>\n",
       "      <td>-0.517200</td>\n",
       "      <td>1.050994</td>\n",
       "      <td>0.878668</td>\n",
       "      <td>0.514104</td>\n",
       "      <td>0.575425</td>\n",
       "      <td>-0.288653</td>\n",
       "      <td>...</td>\n",
       "      <td>0.568420</td>\n",
       "      <td>1.264455</td>\n",
       "      <td>6.734608</td>\n",
       "      <td>7.872107</td>\n",
       "      <td>4.028832</td>\n",
       "      <td>17.089178</td>\n",
       "      <td>4.540719</td>\n",
       "      <td>23.059419</td>\n",
       "      <td>5.156073</td>\n",
       "      <td>3.634786</td>\n",
       "    </tr>\n",
       "    <tr>\n",
       "      <th>1</th>\n",
       "      <td>-0.872563</td>\n",
       "      <td>0.460320</td>\n",
       "      <td>-0.091886</td>\n",
       "      <td>-0.071836</td>\n",
       "      <td>2.179628</td>\n",
       "      <td>0.156734</td>\n",
       "      <td>-0.429577</td>\n",
       "      <td>-0.570750</td>\n",
       "      <td>1.171992</td>\n",
       "      <td>-0.288653</td>\n",
       "      <td>...</td>\n",
       "      <td>0.568420</td>\n",
       "      <td>1.264455</td>\n",
       "      <td>6.734608</td>\n",
       "      <td>7.872107</td>\n",
       "      <td>4.028832</td>\n",
       "      <td>17.089178</td>\n",
       "      <td>4.540719</td>\n",
       "      <td>23.059419</td>\n",
       "      <td>5.156073</td>\n",
       "      <td>3.634786</td>\n",
       "    </tr>\n",
       "    <tr>\n",
       "      <th>2</th>\n",
       "      <td>0.073375</td>\n",
       "      <td>-0.084636</td>\n",
       "      <td>0.073480</td>\n",
       "      <td>0.651479</td>\n",
       "      <td>-0.517200</td>\n",
       "      <td>0.984752</td>\n",
       "      <td>0.830215</td>\n",
       "      <td>0.325915</td>\n",
       "      <td>0.092907</td>\n",
       "      <td>-0.288653</td>\n",
       "      <td>...</td>\n",
       "      <td>0.568420</td>\n",
       "      <td>1.264455</td>\n",
       "      <td>6.734608</td>\n",
       "      <td>7.872107</td>\n",
       "      <td>4.028832</td>\n",
       "      <td>17.089178</td>\n",
       "      <td>4.540719</td>\n",
       "      <td>23.059419</td>\n",
       "      <td>5.156073</td>\n",
       "      <td>3.634786</td>\n",
       "    </tr>\n",
       "    <tr>\n",
       "      <th>3</th>\n",
       "      <td>0.309859</td>\n",
       "      <td>-0.447940</td>\n",
       "      <td>-0.096897</td>\n",
       "      <td>0.651479</td>\n",
       "      <td>-0.517200</td>\n",
       "      <td>-1.863632</td>\n",
       "      <td>-0.720298</td>\n",
       "      <td>-0.570750</td>\n",
       "      <td>-0.499274</td>\n",
       "      <td>-0.288653</td>\n",
       "      <td>...</td>\n",
       "      <td>2.842102</td>\n",
       "      <td>2.528910</td>\n",
       "      <td>6.734608</td>\n",
       "      <td>7.872107</td>\n",
       "      <td>4.028832</td>\n",
       "      <td>17.089178</td>\n",
       "      <td>4.540719</td>\n",
       "      <td>23.059419</td>\n",
       "      <td>5.156073</td>\n",
       "      <td>0.000000</td>\n",
       "    </tr>\n",
       "    <tr>\n",
       "      <th>4</th>\n",
       "      <td>0.073375</td>\n",
       "      <td>0.641972</td>\n",
       "      <td>0.375148</td>\n",
       "      <td>1.374795</td>\n",
       "      <td>-0.517200</td>\n",
       "      <td>0.951632</td>\n",
       "      <td>0.733308</td>\n",
       "      <td>1.366489</td>\n",
       "      <td>0.463568</td>\n",
       "      <td>-0.288653</td>\n",
       "      <td>...</td>\n",
       "      <td>0.568420</td>\n",
       "      <td>1.264455</td>\n",
       "      <td>6.734608</td>\n",
       "      <td>7.872107</td>\n",
       "      <td>4.028832</td>\n",
       "      <td>17.089178</td>\n",
       "      <td>4.540719</td>\n",
       "      <td>23.059419</td>\n",
       "      <td>5.156073</td>\n",
       "      <td>3.634786</td>\n",
       "    </tr>\n",
       "    <tr>\n",
       "      <th>...</th>\n",
       "      <td>...</td>\n",
       "      <td>...</td>\n",
       "      <td>...</td>\n",
       "      <td>...</td>\n",
       "      <td>...</td>\n",
       "      <td>...</td>\n",
       "      <td>...</td>\n",
       "      <td>...</td>\n",
       "      <td>...</td>\n",
       "      <td>...</td>\n",
       "      <td>...</td>\n",
       "      <td>...</td>\n",
       "      <td>...</td>\n",
       "      <td>...</td>\n",
       "      <td>...</td>\n",
       "      <td>...</td>\n",
       "      <td>...</td>\n",
       "      <td>...</td>\n",
       "      <td>...</td>\n",
       "      <td>...</td>\n",
       "      <td>...</td>\n",
       "    </tr>\n",
       "    <tr>\n",
       "      <th>1455</th>\n",
       "      <td>0.073375</td>\n",
       "      <td>-0.357114</td>\n",
       "      <td>-0.260560</td>\n",
       "      <td>-0.071836</td>\n",
       "      <td>-0.517200</td>\n",
       "      <td>0.918511</td>\n",
       "      <td>0.733308</td>\n",
       "      <td>-0.570750</td>\n",
       "      <td>-0.973018</td>\n",
       "      <td>-0.288653</td>\n",
       "      <td>...</td>\n",
       "      <td>0.568420</td>\n",
       "      <td>1.264455</td>\n",
       "      <td>6.734608</td>\n",
       "      <td>7.872107</td>\n",
       "      <td>4.028832</td>\n",
       "      <td>17.089178</td>\n",
       "      <td>4.540719</td>\n",
       "      <td>23.059419</td>\n",
       "      <td>5.156073</td>\n",
       "      <td>3.634786</td>\n",
       "    </tr>\n",
       "    <tr>\n",
       "      <th>1456</th>\n",
       "      <td>-0.872563</td>\n",
       "      <td>0.687385</td>\n",
       "      <td>0.266407</td>\n",
       "      <td>-0.071836</td>\n",
       "      <td>0.381743</td>\n",
       "      <td>0.222975</td>\n",
       "      <td>0.151865</td>\n",
       "      <td>0.087911</td>\n",
       "      <td>0.759659</td>\n",
       "      <td>0.722112</td>\n",
       "      <td>...</td>\n",
       "      <td>0.568420</td>\n",
       "      <td>2.528910</td>\n",
       "      <td>6.734608</td>\n",
       "      <td>7.872107</td>\n",
       "      <td>4.028832</td>\n",
       "      <td>17.089178</td>\n",
       "      <td>4.540719</td>\n",
       "      <td>23.059419</td>\n",
       "      <td>5.156073</td>\n",
       "      <td>3.634786</td>\n",
       "    </tr>\n",
       "    <tr>\n",
       "      <th>1457</th>\n",
       "      <td>0.309859</td>\n",
       "      <td>-0.175462</td>\n",
       "      <td>-0.147810</td>\n",
       "      <td>0.651479</td>\n",
       "      <td>3.078570</td>\n",
       "      <td>-1.002492</td>\n",
       "      <td>1.024029</td>\n",
       "      <td>-0.570750</td>\n",
       "      <td>-0.369871</td>\n",
       "      <td>-0.288653</td>\n",
       "      <td>...</td>\n",
       "      <td>0.568420</td>\n",
       "      <td>1.264455</td>\n",
       "      <td>6.734608</td>\n",
       "      <td>7.872107</td>\n",
       "      <td>4.028832</td>\n",
       "      <td>17.089178</td>\n",
       "      <td>0.000000</td>\n",
       "      <td>23.059419</td>\n",
       "      <td>5.156073</td>\n",
       "      <td>3.634786</td>\n",
       "    </tr>\n",
       "    <tr>\n",
       "      <th>1458</th>\n",
       "      <td>-0.872563</td>\n",
       "      <td>-0.084636</td>\n",
       "      <td>-0.080160</td>\n",
       "      <td>-0.795151</td>\n",
       "      <td>0.381743</td>\n",
       "      <td>-0.704406</td>\n",
       "      <td>0.539493</td>\n",
       "      <td>-0.570750</td>\n",
       "      <td>-0.865548</td>\n",
       "      <td>6.092188</td>\n",
       "      <td>...</td>\n",
       "      <td>0.568420</td>\n",
       "      <td>2.528910</td>\n",
       "      <td>6.734608</td>\n",
       "      <td>7.872107</td>\n",
       "      <td>4.028832</td>\n",
       "      <td>17.089178</td>\n",
       "      <td>4.540719</td>\n",
       "      <td>23.059419</td>\n",
       "      <td>5.156073</td>\n",
       "      <td>3.634786</td>\n",
       "    </tr>\n",
       "    <tr>\n",
       "      <th>1459</th>\n",
       "      <td>-0.872563</td>\n",
       "      <td>0.233255</td>\n",
       "      <td>-0.058112</td>\n",
       "      <td>-0.795151</td>\n",
       "      <td>0.381743</td>\n",
       "      <td>-0.207594</td>\n",
       "      <td>-0.962566</td>\n",
       "      <td>-0.570750</td>\n",
       "      <td>0.847389</td>\n",
       "      <td>1.509640</td>\n",
       "      <td>...</td>\n",
       "      <td>0.568420</td>\n",
       "      <td>0.000000</td>\n",
       "      <td>6.734608</td>\n",
       "      <td>7.872107</td>\n",
       "      <td>4.028832</td>\n",
       "      <td>17.089178</td>\n",
       "      <td>4.540719</td>\n",
       "      <td>23.059419</td>\n",
       "      <td>5.156073</td>\n",
       "      <td>3.634786</td>\n",
       "    </tr>\n",
       "  </tbody>\n",
       "</table>\n",
       "<p>1460 rows × 81 columns</p>\n",
       "</div>"
      ],
      "text/plain": [
       "      MSSubClass  LotFrontage   LotArea  OverallQual  OverallCond  YearBuilt  \\\n",
       "0       0.073375    -0.220875 -0.207142     0.651479    -0.517200   1.050994   \n",
       "1      -0.872563     0.460320 -0.091886    -0.071836     2.179628   0.156734   \n",
       "2       0.073375    -0.084636  0.073480     0.651479    -0.517200   0.984752   \n",
       "3       0.309859    -0.447940 -0.096897     0.651479    -0.517200  -1.863632   \n",
       "4       0.073375     0.641972  0.375148     1.374795    -0.517200   0.951632   \n",
       "...          ...          ...       ...          ...          ...        ...   \n",
       "1455    0.073375    -0.357114 -0.260560    -0.071836    -0.517200   0.918511   \n",
       "1456   -0.872563     0.687385  0.266407    -0.071836     0.381743   0.222975   \n",
       "1457    0.309859    -0.175462 -0.147810     0.651479     3.078570  -1.002492   \n",
       "1458   -0.872563    -0.084636 -0.080160    -0.795151     0.381743  -0.704406   \n",
       "1459   -0.872563     0.233255 -0.058112    -0.795151     0.381743  -0.207594   \n",
       "\n",
       "      YearRemodAdd  MasVnrArea  BsmtFinSF1  BsmtFinSF2  ...  GarageType  \\\n",
       "0         0.878668    0.514104    0.575425   -0.288653  ...    0.568420   \n",
       "1        -0.429577   -0.570750    1.171992   -0.288653  ...    0.568420   \n",
       "2         0.830215    0.325915    0.092907   -0.288653  ...    0.568420   \n",
       "3        -0.720298   -0.570750   -0.499274   -0.288653  ...    2.842102   \n",
       "4         0.733308    1.366489    0.463568   -0.288653  ...    0.568420   \n",
       "...            ...         ...         ...         ...  ...         ...   \n",
       "1455      0.733308   -0.570750   -0.973018   -0.288653  ...    0.568420   \n",
       "1456      0.151865    0.087911    0.759659    0.722112  ...    0.568420   \n",
       "1457      1.024029   -0.570750   -0.369871   -0.288653  ...    0.568420   \n",
       "1458      0.539493   -0.570750   -0.865548    6.092188  ...    0.568420   \n",
       "1459     -0.962566   -0.570750    0.847389    1.509640  ...    0.568420   \n",
       "\n",
       "      GarageFinish  GarageQual  GarageCond  PavedDrive     PoolQC     Fence  \\\n",
       "0         1.264455    6.734608    7.872107    4.028832  17.089178  4.540719   \n",
       "1         1.264455    6.734608    7.872107    4.028832  17.089178  4.540719   \n",
       "2         1.264455    6.734608    7.872107    4.028832  17.089178  4.540719   \n",
       "3         2.528910    6.734608    7.872107    4.028832  17.089178  4.540719   \n",
       "4         1.264455    6.734608    7.872107    4.028832  17.089178  4.540719   \n",
       "...            ...         ...         ...         ...        ...       ...   \n",
       "1455      1.264455    6.734608    7.872107    4.028832  17.089178  4.540719   \n",
       "1456      2.528910    6.734608    7.872107    4.028832  17.089178  4.540719   \n",
       "1457      1.264455    6.734608    7.872107    4.028832  17.089178  0.000000   \n",
       "1458      2.528910    6.734608    7.872107    4.028832  17.089178  4.540719   \n",
       "1459      0.000000    6.734608    7.872107    4.028832  17.089178  4.540719   \n",
       "\n",
       "      MiscFeature  SaleType  SaleCondition  \n",
       "0       23.059419  5.156073       3.634786  \n",
       "1       23.059419  5.156073       3.634786  \n",
       "2       23.059419  5.156073       3.634786  \n",
       "3       23.059419  5.156073       0.000000  \n",
       "4       23.059419  5.156073       3.634786  \n",
       "...           ...       ...            ...  \n",
       "1455    23.059419  5.156073       3.634786  \n",
       "1456    23.059419  5.156073       3.634786  \n",
       "1457    23.059419  5.156073       3.634786  \n",
       "1458    23.059419  5.156073       3.634786  \n",
       "1459    23.059419  5.156073       3.634786  \n",
       "\n",
       "[1460 rows x 81 columns]"
      ]
     },
     "execution_count": 19,
     "metadata": {},
     "output_type": "execute_result"
    }
   ],
   "source": [
    "pd.DataFrame(housing_prepared, columns=nums_transform + ['repair_age', 'house_age'] + \n",
    "             obj_transform)"
   ]
  },
  {
   "cell_type": "markdown",
   "id": "d38f6930",
   "metadata": {
    "id": "d38f6930"
   },
   "source": [
    "I had a problem with number of columns and should abandon the idea of using 2 ecoders"
   ]
  },
  {
   "cell_type": "markdown",
   "id": "edf4d122",
   "metadata": {
    "id": "edf4d122"
   },
   "source": [
    "# Training Model"
   ]
  },
  {
   "cell_type": "code",
   "execution_count": null,
   "id": "d02b9d13",
   "metadata": {
    "id": "d02b9d13"
   },
   "outputs": [],
   "source": [
    "some_data = housing.iloc[:5]\n",
    "some_labels = housing_labels.iloc[:5]\n",
    "some_data_prepared = full_pipeline.transform(some_data)"
   ]
  },
  {
   "cell_type": "markdown",
   "id": "99bc8c6e",
   "metadata": {
    "id": "99bc8c6e"
   },
   "source": [
    "## Linear regression"
   ]
  },
  {
   "cell_type": "code",
   "execution_count": null,
   "id": "4e3c910e",
   "metadata": {
    "id": "4e3c910e",
    "outputId": "714edd05-a9d6-4ce5-e141-5f237f6e5216"
   },
   "outputs": [
    {
     "data": {
      "text/plain": [
       "LinearRegression()"
      ]
     },
     "execution_count": 21,
     "metadata": {},
     "output_type": "execute_result"
    }
   ],
   "source": [
    "from sklearn.linear_model import LinearRegression\n",
    "\n",
    "lin_reg = LinearRegression()\n",
    "lin_reg.fit(housing_prepared, housing_labels)"
   ]
  },
  {
   "cell_type": "code",
   "execution_count": null,
   "id": "6aafc53b",
   "metadata": {
    "id": "6aafc53b",
    "outputId": "6b1bed17-1c3e-47c3-ba39-f190dbbfc9d7"
   },
   "outputs": [
    {
     "name": "stdout",
     "output_type": "stream",
     "text": [
      "Predictions: [216240.10750179 198325.10750179 216456.10750179 167616.268188\n",
      " 284662.10750179]\n",
      "Labels: [208500, 181500, 223500, 140000, 250000]\n"
     ]
    }
   ],
   "source": [
    "print('Predictions:', lin_reg.predict(some_data_prepared))\n",
    "print('Labels:', list(some_labels))"
   ]
  },
  {
   "cell_type": "code",
   "execution_count": null,
   "id": "18f31024",
   "metadata": {
    "id": "18f31024",
    "outputId": "6e70f867-73c8-449e-a085-be020da407bb"
   },
   "outputs": [
    {
     "data": {
      "text/plain": [
       "29656.95820334259"
      ]
     },
     "execution_count": 23,
     "metadata": {},
     "output_type": "execute_result"
    }
   ],
   "source": [
    "from sklearn.metrics import mean_squared_error\n",
    "\n",
    "housing_predictions = lin_reg.predict(housing_prepared)\n",
    "lin_mse = mean_squared_error(housing_labels, housing_predictions)\n",
    "lin_rmse = np.sqrt(lin_mse)\n",
    "lin_rmse"
   ]
  },
  {
   "cell_type": "code",
   "execution_count": null,
   "id": "6748a369",
   "metadata": {
    "id": "6748a369"
   },
   "outputs": [],
   "source": [
    "from sklearn.model_selection import cross_val_score\n",
    "def display_scores(scores):\n",
    "    print('Summ predictions: ', scores)\n",
    "    print('Average: ', scores.mean())\n",
    "    print('Standart devation', scores.std())"
   ]
  },
  {
   "cell_type": "code",
   "execution_count": null,
   "id": "19a861d7",
   "metadata": {
    "id": "19a861d7",
    "outputId": "1ae3e248-37cc-4b0d-d6b7-411117efd3db"
   },
   "outputs": [
    {
     "name": "stdout",
     "output_type": "stream",
     "text": [
      "Summ predictions:  [   22472.42203273    35928.45458296    25492.79984563    42061.57929363\n",
      "    35919.94925389    28524.56893149 16877613.8463524     26642.11228204\n",
      "    68125.30982859    32612.06629945]\n",
      "Average:  1719539.3108702824\n",
      "Standart devation 5052706.482211714\n"
     ]
    }
   ],
   "source": [
    "lin_scores = cross_val_score(lin_reg,\n",
    "                        housing_prepared,\n",
    "                        housing_labels,\n",
    "                        scoring='neg_mean_squared_error', cv=10)\n",
    "lin_rmse_scores = np.sqrt(-lin_scores)\n",
    "display_scores(lin_rmse_scores)"
   ]
  },
  {
   "cell_type": "markdown",
   "id": "024732c0",
   "metadata": {
    "id": "024732c0"
   },
   "source": [
    "## Decision Tree"
   ]
  },
  {
   "cell_type": "code",
   "execution_count": null,
   "id": "959351be",
   "metadata": {
    "id": "959351be",
    "outputId": "8f509da1-2329-4e18-fde9-77f77b3cbddd"
   },
   "outputs": [
    {
     "data": {
      "text/plain": [
       "DecisionTreeRegressor()"
      ]
     },
     "execution_count": 26,
     "metadata": {},
     "output_type": "execute_result"
    }
   ],
   "source": [
    "from sklearn.tree import DecisionTreeRegressor\n",
    "\n",
    "tree_reg = DecisionTreeRegressor()\n",
    "tree_reg.fit(housing_prepared, housing_labels)"
   ]
  },
  {
   "cell_type": "code",
   "execution_count": null,
   "id": "43f7fe6d",
   "metadata": {
    "id": "43f7fe6d",
    "outputId": "6f0607b5-8244-4736-9b4b-30d8374e2717"
   },
   "outputs": [
    {
     "data": {
      "text/plain": [
       "0.0"
      ]
     },
     "execution_count": 27,
     "metadata": {},
     "output_type": "execute_result"
    }
   ],
   "source": [
    "housing_predictions = tree_reg.predict(housing_prepared)\n",
    "tree_mse = mean_squared_error(housing_labels, housing_predictions)\n",
    "tree_rmse = np.sqrt(tree_mse)\n",
    "tree_rmse"
   ]
  },
  {
   "cell_type": "code",
   "execution_count": null,
   "id": "e77a1c55",
   "metadata": {
    "id": "e77a1c55",
    "outputId": "6125b430-a69b-4708-c16f-d741f4d438e6"
   },
   "outputs": [
    {
     "name": "stdout",
     "output_type": "stream",
     "text": [
      "Summ predictions:  [33105.22738913 38062.89818524 29628.55313702 48703.97489467\n",
      " 40526.09866088 30099.20157522 32355.42442125 42993.5633921\n",
      " 57982.05897995 33824.86176748]\n",
      "Average:  38728.18624029585\n",
      "Standart devation 8634.996025253127\n"
     ]
    }
   ],
   "source": [
    "scores = cross_val_score(tree_reg,\n",
    "                        housing_prepared,\n",
    "                        housing_labels,\n",
    "                        scoring='neg_mean_squared_error', cv=10)\n",
    "tree_rmse_scores = np.sqrt(-scores)\n",
    "display_scores(tree_rmse_scores)"
   ]
  },
  {
   "cell_type": "markdown",
   "id": "bba06266",
   "metadata": {
    "id": "bba06266"
   },
   "source": [
    "## Random Fores Regressor"
   ]
  },
  {
   "cell_type": "code",
   "execution_count": null,
   "id": "08c165fb",
   "metadata": {
    "id": "08c165fb",
    "outputId": "ff7a519b-71a6-467d-e49d-2a408f480645"
   },
   "outputs": [
    {
     "data": {
      "text/plain": [
       "RandomForestRegressor()"
      ]
     },
     "execution_count": 29,
     "metadata": {},
     "output_type": "execute_result"
    }
   ],
   "source": [
    "from sklearn.ensemble import RandomForestRegressor\n",
    "forest_reg = RandomForestRegressor()\n",
    "forest_reg.fit(housing_prepared, housing_labels)"
   ]
  },
  {
   "cell_type": "code",
   "execution_count": null,
   "id": "e08798e7",
   "metadata": {
    "id": "e08798e7",
    "outputId": "32bdbed1-a46c-436f-c5be-5382771538c5"
   },
   "outputs": [
    {
     "data": {
      "text/plain": [
       "10589.29544077652"
      ]
     },
     "execution_count": 30,
     "metadata": {},
     "output_type": "execute_result"
    }
   ],
   "source": [
    "housing_predictions = forest_reg.predict(housing_prepared)\n",
    "forest_mse = mean_squared_error(housing_labels, housing_predictions)\n",
    "forest_rmse = np.sqrt(forest_mse)\n",
    "forest_rmse"
   ]
  },
  {
   "cell_type": "code",
   "execution_count": null,
   "id": "655d9a7d",
   "metadata": {
    "id": "655d9a7d",
    "outputId": "29773e23-cc5b-4543-9560-4b7a2084b2f5"
   },
   "outputs": [
    {
     "name": "stdout",
     "output_type": "stream",
     "text": [
      "Predictions: [207280.   174554.   219847.53 150538.35 266938.44]\n",
      "Labels: [208500, 181500, 223500, 140000, 250000]\n"
     ]
    }
   ],
   "source": [
    "print('Predictions:', forest_reg.predict(some_data_prepared))\n",
    "print('Labels:', list(some_labels))"
   ]
  },
  {
   "cell_type": "code",
   "execution_count": null,
   "id": "8bb37110",
   "metadata": {
    "id": "8bb37110",
    "outputId": "29f8b1de-51de-4ac9-924f-4b7121705ad7"
   },
   "outputs": [
    {
     "name": "stdout",
     "output_type": "stream",
     "text": [
      "Summ predictions:  [24912.48481929 25420.62079935 21885.01293628 40748.67813271\n",
      " 32815.43198974 26985.99283633 24374.66180274 24068.53343682\n",
      " 40631.34873606 27547.4253301 ]\n",
      "Average:  28939.019081941347\n",
      "Standart devation 6479.676971052228\n"
     ]
    }
   ],
   "source": [
    "forest_scores = cross_val_score(forest_reg,\n",
    "                        housing_prepared,\n",
    "                        housing_labels,\n",
    "                        scoring='neg_mean_squared_error', cv=10)\n",
    "forest_rmse_scores = np.sqrt(-forest_scores)\n",
    "display_scores(forest_rmse_scores)"
   ]
  },
  {
   "cell_type": "markdown",
   "id": "8f8b5ca5",
   "metadata": {
    "id": "8f8b5ca5"
   },
   "source": [
    "# Tuning our model"
   ]
  },
  {
   "cell_type": "code",
   "execution_count": null,
   "id": "7d8febd1",
   "metadata": {
    "id": "7d8febd1",
    "outputId": "cf5a5e44-0755-47e1-b76d-8fc8fbc390a1"
   },
   "outputs": [
    {
     "name": "stderr",
     "output_type": "stream",
     "text": [
      "/mnt/d/Projects/weapon_detection/env/lib/python3.9/site-packages/sklearn/model_selection/_validation.py:372: FitFailedWarning: \n",
      "50 fits failed out of a total of 125.\n",
      "The score on these train-test partitions for these parameters will be set to nan.\n",
      "If these failures are not expected, you can try to debug them by setting error_score='raise'.\n",
      "\n",
      "Below are more details about the failures:\n",
      "--------------------------------------------------------------------------------\n",
      "50 fits failed with the following error:\n",
      "Traceback (most recent call last):\n",
      "  File \"/mnt/d/Projects/weapon_detection/env/lib/python3.9/site-packages/sklearn/model_selection/_validation.py\", line 680, in _fit_and_score\n",
      "    estimator.fit(X_train, y_train, **fit_params)\n",
      "  File \"/mnt/d/Projects/weapon_detection/env/lib/python3.9/site-packages/sklearn/ensemble/_forest.py\", line 450, in fit\n",
      "    trees = Parallel(\n",
      "  File \"/mnt/d/Projects/weapon_detection/env/lib/python3.9/site-packages/joblib/parallel.py\", line 1043, in __call__\n",
      "    if self.dispatch_one_batch(iterator):\n",
      "  File \"/mnt/d/Projects/weapon_detection/env/lib/python3.9/site-packages/joblib/parallel.py\", line 861, in dispatch_one_batch\n",
      "    self._dispatch(tasks)\n",
      "  File \"/mnt/d/Projects/weapon_detection/env/lib/python3.9/site-packages/joblib/parallel.py\", line 779, in _dispatch\n",
      "    job = self._backend.apply_async(batch, callback=cb)\n",
      "  File \"/mnt/d/Projects/weapon_detection/env/lib/python3.9/site-packages/joblib/_parallel_backends.py\", line 208, in apply_async\n",
      "    result = ImmediateResult(func)\n",
      "  File \"/mnt/d/Projects/weapon_detection/env/lib/python3.9/site-packages/joblib/_parallel_backends.py\", line 572, in __init__\n",
      "    self.results = batch()\n",
      "  File \"/mnt/d/Projects/weapon_detection/env/lib/python3.9/site-packages/joblib/parallel.py\", line 262, in __call__\n",
      "    return [func(*args, **kwargs)\n",
      "  File \"/mnt/d/Projects/weapon_detection/env/lib/python3.9/site-packages/joblib/parallel.py\", line 262, in <listcomp>\n",
      "    return [func(*args, **kwargs)\n",
      "  File \"/mnt/d/Projects/weapon_detection/env/lib/python3.9/site-packages/sklearn/utils/fixes.py\", line 216, in __call__\n",
      "    return self.function(*args, **kwargs)\n",
      "  File \"/mnt/d/Projects/weapon_detection/env/lib/python3.9/site-packages/sklearn/ensemble/_forest.py\", line 185, in _parallel_build_trees\n",
      "    tree.fit(X, y, sample_weight=curr_sample_weight, check_input=False)\n",
      "  File \"/mnt/d/Projects/weapon_detection/env/lib/python3.9/site-packages/sklearn/tree/_classes.py\", line 1315, in fit\n",
      "    super().fit(\n",
      "  File \"/mnt/d/Projects/weapon_detection/env/lib/python3.9/site-packages/sklearn/tree/_classes.py\", line 308, in fit\n",
      "    raise ValueError(\"max_features must be in (0, n_features]\")\n",
      "ValueError: max_features must be in (0, n_features]\n",
      "\n",
      "  warnings.warn(some_fits_failed_message, FitFailedWarning)\n",
      "/mnt/d/Projects/weapon_detection/env/lib/python3.9/site-packages/sklearn/model_selection/_search.py:969: UserWarning: One or more of the test scores are non-finite: [-1.51247970e+09 -1.16866833e+09 -1.08175796e+09 -1.03850589e+09\n",
      " -1.00116461e+09 -1.54006427e+09 -1.10627986e+09 -8.79157513e+08\n",
      " -8.68480788e+08 -8.67844878e+08 -1.31064148e+09 -9.91905682e+08\n",
      " -8.50172417e+08 -8.19809238e+08 -8.37218685e+08             nan\n",
      "             nan             nan             nan             nan\n",
      "             nan             nan             nan             nan\n",
      "             nan]\n",
      "  warnings.warn(\n",
      "/mnt/d/Projects/weapon_detection/env/lib/python3.9/site-packages/sklearn/model_selection/_search.py:969: UserWarning: One or more of the train scores are non-finite: [-4.40365548e+08 -2.44120109e+08 -1.71599462e+08 -1.39428647e+08\n",
      " -1.35139247e+08 -4.23146209e+08 -1.90080882e+08 -1.38753395e+08\n",
      " -1.17293961e+08 -1.17857696e+08 -3.90144241e+08 -1.69324997e+08\n",
      " -1.31295606e+08 -1.21374927e+08 -1.14144144e+08             nan\n",
      "             nan             nan             nan             nan\n",
      "             nan             nan             nan             nan\n",
      "             nan]\n",
      "  warnings.warn(\n"
     ]
    },
    {
     "data": {
      "text/plain": [
       "GridSearchCV(cv=5, estimator=RandomForestRegressor(),\n",
       "             param_grid=[{'max_features': [3, 10, 30, 100, 300],\n",
       "                          'n_estimators': [3, 10, 30, 100, 300]}],\n",
       "             return_train_score=True, scoring='neg_mean_squared_error')"
      ]
     },
     "execution_count": 38,
     "metadata": {},
     "output_type": "execute_result"
    }
   ],
   "source": [
    "from sklearn.model_selection import GridSearchCV\n",
    "\n",
    "param_grid = [\n",
    "    {'n_estimators': [3, 10, 30, 100, 300], 'max_features': [3, 10, 30, 100, 300]}\n",
    "]\n",
    "     \n",
    "forest_reg = RandomForestRegressor()\n",
    "grid_search = GridSearchCV(forest_reg, param_grid, cv=5,\n",
    "                           scoring='neg_mean_squared_error',\n",
    "                          return_train_score=True)\n",
    "grid_search.fit(housing_prepared, housing_labels)"
   ]
  },
  {
   "cell_type": "code",
   "execution_count": null,
   "id": "495c054f",
   "metadata": {
    "id": "495c054f",
    "outputId": "4aa523d2-dbc1-4b30-964d-c048ab9915ed"
   },
   "outputs": [
    {
     "data": {
      "text/plain": [
       "{'max_features': 30, 'n_estimators': 100}"
      ]
     },
     "execution_count": 39,
     "metadata": {},
     "output_type": "execute_result"
    }
   ],
   "source": [
    "grid_search.best_params_"
   ]
  },
  {
   "cell_type": "code",
   "execution_count": null,
   "id": "21722669",
   "metadata": {
    "id": "21722669",
    "outputId": "f50ae348-5940-405c-d0bc-61b223f64666"
   },
   "outputs": [
    {
     "data": {
      "text/plain": [
       "RandomForestRegressor(max_features=30)"
      ]
     },
     "execution_count": 40,
     "metadata": {},
     "output_type": "execute_result"
    }
   ],
   "source": [
    "grid_search.best_estimator_"
   ]
  },
  {
   "cell_type": "code",
   "execution_count": null,
   "id": "fb3777ec",
   "metadata": {
    "id": "fb3777ec",
    "outputId": "e8faedf4-29ef-4202-b84f-4a772147c6c2"
   },
   "outputs": [
    {
     "name": "stdout",
     "output_type": "stream",
     "text": [
      "38890.611983273826 {'max_features': 3, 'n_estimators': 3}\n",
      "34185.79135693598 {'max_features': 3, 'n_estimators': 10}\n",
      "32890.08908104258 {'max_features': 3, 'n_estimators': 30}\n",
      "32225.857453320197 {'max_features': 3, 'n_estimators': 100}\n",
      "31641.185407969064 {'max_features': 3, 'n_estimators': 300}\n",
      "39243.65256843487 {'max_features': 10, 'n_estimators': 3}\n",
      "33260.785641141316 {'max_features': 10, 'n_estimators': 10}\n",
      "29650.59042970806 {'max_features': 10, 'n_estimators': 30}\n",
      "29469.99810719783 {'max_features': 10, 'n_estimators': 100}\n",
      "29459.20701462957 {'max_features': 10, 'n_estimators': 300}\n",
      "36202.782786358504 {'max_features': 30, 'n_estimators': 3}\n",
      "31494.534166126265 {'max_features': 30, 'n_estimators': 10}\n",
      "29157.716246074324 {'max_features': 30, 'n_estimators': 30}\n",
      "28632.31107783699 {'max_features': 30, 'n_estimators': 100}\n",
      "28934.731459707727 {'max_features': 30, 'n_estimators': 300}\n",
      "nan {'max_features': 100, 'n_estimators': 3}\n",
      "nan {'max_features': 100, 'n_estimators': 10}\n",
      "nan {'max_features': 100, 'n_estimators': 30}\n",
      "nan {'max_features': 100, 'n_estimators': 100}\n",
      "nan {'max_features': 100, 'n_estimators': 300}\n",
      "nan {'max_features': 300, 'n_estimators': 3}\n",
      "nan {'max_features': 300, 'n_estimators': 10}\n",
      "nan {'max_features': 300, 'n_estimators': 30}\n",
      "nan {'max_features': 300, 'n_estimators': 100}\n",
      "nan {'max_features': 300, 'n_estimators': 300}\n"
     ]
    }
   ],
   "source": [
    "cvres = grid_search.cv_results_\n",
    "for mean_score, params in zip(cvres['mean_test_score'],\n",
    "                             cvres['params']):\n",
    "    print(np.sqrt(-mean_score), params)"
   ]
  },
  {
   "cell_type": "code",
   "execution_count": null,
   "id": "c84ea734",
   "metadata": {
    "id": "c84ea734",
    "outputId": "cfeb3fe4-5536-4078-a9c5-f2c8b05d2523"
   },
   "outputs": [
    {
     "data": {
      "text/plain": [
       "array([2.31352945e-03, 7.02138645e-03, 1.67337030e-02, 2.87755753e-01,\n",
       "       4.93882567e-03, 3.85760836e-02, 9.85942457e-03, 9.79613899e-03,\n",
       "       2.63953636e-02, 7.56594586e-04, 5.96922767e-03, 4.79109325e-02,\n",
       "       3.76878289e-02, 3.20781665e-02, 2.76850443e-04, 1.16124908e-01,\n",
       "       2.10371074e-03, 5.22932394e-04, 1.60631286e-02, 1.51723044e-03,\n",
       "       4.06487368e-03, 9.95583762e-04, 1.24633928e-02, 9.79306047e-03,\n",
       "       1.33845421e-02, 8.86045021e-02, 3.41910382e-02, 4.04730093e-03,\n",
       "       5.13803925e-03, 7.11045171e-04, 2.26204346e-04, 1.07659855e-03,\n",
       "       3.29146967e-04, 1.45810111e-04, 3.90490543e-03, 1.63510185e-03,\n",
       "       1.31767941e-03, 7.89506622e-04, 2.27219874e-03, 1.83419866e-05,\n",
       "       1.30026292e-04, 1.28881665e-03, 1.38840305e-03, 8.17675060e-07,\n",
       "       7.97619585e-04, 9.37377538e-04, 6.46387091e-03, 7.99052413e-04,\n",
       "       3.47617325e-04, 3.94962497e-04, 1.08313339e-03, 9.64753793e-04,\n",
       "       5.49920575e-04, 2.34148979e-03, 2.30094911e-03, 1.52150087e-03,\n",
       "       7.39399853e-02, 5.25834918e-04, 1.11114654e-03, 2.49309351e-02,\n",
       "       3.76148270e-04, 1.99220881e-03, 1.44678370e-03, 5.04159902e-04,\n",
       "       1.13259501e-04, 6.83548860e-04, 2.69254697e-03, 1.93188866e-04,\n",
       "       1.01647496e-02, 7.73606292e-04, 7.90813387e-04, 2.84295247e-03,\n",
       "       1.87510332e-03, 2.01826506e-04, 1.56072161e-04, 6.04095969e-04,\n",
       "       6.54025776e-04, 1.75114145e-04, 6.60488422e-06, 5.81747973e-04,\n",
       "       1.84263787e-03])"
      ]
     },
     "execution_count": 42,
     "metadata": {},
     "output_type": "execute_result"
    }
   ],
   "source": [
    "feature_importances = grid_search.best_estimator_.feature_importances_\n",
    "feature_importances"
   ]
  },
  {
   "cell_type": "code",
   "execution_count": null,
   "id": "e43b2cad",
   "metadata": {
    "id": "e43b2cad",
    "outputId": "50efc11b-6296-47aa-adbe-bb83e854942b"
   },
   "outputs": [
    {
     "data": {
      "text/plain": [
       "[(0.28775575262614433, 'OverallQual'),\n",
       " (0.11612490832461116, 'GrLivArea'),\n",
       " (0.08860450205087483, 'GarageCars'),\n",
       " (0.07393998525980877, 'ExterQual'),\n",
       " (0.047910932461179105, 'TotalBsmtSF'),\n",
       " (0.038576083633422215, 'YearBuilt'),\n",
       " (0.03768782886016862, '1stFlrSF'),\n",
       " (0.034191038213746264, 'GarageArea'),\n",
       " (0.032078166521371965, '2ndFlrSF'),\n",
       " (0.0263953636466049, 'BsmtFinSF1'),\n",
       " (0.02493093511909042, 'BsmtQual'),\n",
       " (0.016733702997088658, 'LotArea'),\n",
       " (0.01606312855334301, 'FullBath'),\n",
       " (0.013384542124365614, 'GarageYrBlt'),\n",
       " (0.012463392805916414, 'TotRmsAbvGrd'),\n",
       " (0.01016474958865539, 'KitchenQual'),\n",
       " (0.009859424568449005, 'YearRemodAdd'),\n",
       " (0.009796138985529428, 'MasVnrArea'),\n",
       " (0.009793060467013023, 'Fireplaces'),\n",
       " (0.007021386451040302, 'LotFrontage'),\n",
       " (0.006463870910273513, 'Neighborhood'),\n",
       " (0.005969227667328128, 'BsmtUnfSF'),\n",
       " (0.005138039247621539, 'OpenPorchSF'),\n",
       " (0.00493882567219115, 'OverallCond'),\n",
       " (0.004064873678980406, 'BedroomAbvGr'),\n",
       " (0.004047300925308671, 'WoodDeckSF'),\n",
       " (0.003904905429593089, 'MoSold'),\n",
       " (0.002842952466028793, 'GarageType'),\n",
       " (0.002692546966552031, 'CentralAir'),\n",
       " (0.0023414897900236645, 'Exterior1st'),\n",
       " (0.0023135294524796943, 'MSSubClass'),\n",
       " (0.002300949107425142, 'Exterior2nd'),\n",
       " (0.002272198735727792, 'MSZoning'),\n",
       " (0.0021037107351916523, 'BsmtFullBath'),\n",
       " (0.001992208805160547, 'BsmtExposure'),\n",
       " (0.001875103319191974, 'GarageFinish'),\n",
       " (0.0018426378725932076, 'SaleCondition'),\n",
       " (0.001635101853414302, 'YrSold'),\n",
       " (0.001521500867975874, 'MasVnrType'),\n",
       " (0.0015172304412139476, 'HalfBath'),\n",
       " (0.0014467837037667641, 'BsmtFinType1'),\n",
       " (0.0013884030536173984, 'LandContour'),\n",
       " (0.0013176794110091017, 'repair_age'),\n",
       " (0.0012888166523906245, 'LotShape'),\n",
       " (0.0011111465436355605, 'Foundation'),\n",
       " (0.0010831333949287674, 'HouseStyle'),\n",
       " (0.0010765985496203226, 'ScreenPorch'),\n",
       " (0.0009955837615981018, 'KitchenAbvGr'),\n",
       " (0.0009647537929543356, 'RoofStyle'),\n",
       " (0.0009373775379305509, 'LandSlope'),\n",
       " (0.000799052412707795, 'Condition1'),\n",
       " (0.0007976195847591254, 'LotConfig'),\n",
       " (0.0007908133866092533, 'FireplaceQu'),\n",
       " (0.0007895066218510094, 'house_age'),\n",
       " (0.0007736062918350281, 'Functional'),\n",
       " (0.000756594586310486, 'BsmtFinSF2'),\n",
       " (0.0007110451705451695, 'EnclosedPorch'),\n",
       " (0.0006835488596634044, 'HeatingQC'),\n",
       " (0.000654025775821864, 'PoolQC'),\n",
       " (0.0006040959692041123, 'PavedDrive'),\n",
       " (0.0005817479729681378, 'SaleType'),\n",
       " (0.0005499205745410826, 'RoofMatl'),\n",
       " (0.0005258349182943367, 'ExterCond'),\n",
       " (0.0005229323936712296, 'BsmtHalfBath'),\n",
       " (0.0005041599021411902, 'BsmtFinType2'),\n",
       " (0.0003949624966381623, 'BldgType'),\n",
       " (0.00037614827026085496, 'BsmtCond'),\n",
       " (0.00034761732470566973, 'Condition2'),\n",
       " (0.00032914696719579334, 'PoolArea'),\n",
       " (0.0002768504430941724, 'LowQualFinSF'),\n",
       " (0.00022620434602997519, '3SsnPorch'),\n",
       " (0.00020182650564279218, 'GarageQual'),\n",
       " (0.00019318886606566608, 'Electrical'),\n",
       " (0.00017511414493689246, 'Fence'),\n",
       " (0.0001560721606969012, 'GarageCond'),\n",
       " (0.0001458101108005874, 'MiscVal'),\n",
       " (0.0001300262918047201, 'Alley'),\n",
       " (0.00011325950120605183, 'Heating'),\n",
       " (1.834198657253058e-05, 'Street'),\n",
       " (6.604884215578928e-06, 'MiscFeature'),\n",
       " (8.176750601415527e-07, 'Utilities')]"
      ]
     },
     "execution_count": 43,
     "metadata": {},
     "output_type": "execute_result"
    }
   ],
   "source": [
    "attributes = nums_transform + ['repair_age', 'house_age'] + obj_transform\n",
    "labeled_future_importances = sorted(zip(feature_importances, attributes), reverse=True)\n",
    "labeled_future_importances"
   ]
  },
  {
   "cell_type": "markdown",
   "id": "7a72269d",
   "metadata": {
    "id": "7a72269d"
   },
   "source": [
    "# Evaluate our model"
   ]
  },
  {
   "cell_type": "code",
   "execution_count": null,
   "id": "a1cf28c7",
   "metadata": {
    "id": "a1cf28c7"
   },
   "outputs": [],
   "source": [
    "final_model = grid_search.best_estimator_\n",
    "\n",
    "x_test = test_data.drop(['Id'], axis=1)\n",
    "y_test = test_data_labels['SalePrice'].copy()\n",
    "\n",
    "x_test_prepared = full_pipeline.transform(x_test)\n",
    "\n",
    "final_predictions = final_model.predict(x_test_prepared)\n",
    "\n",
    "final_mse = mean_squared_error(y_test, final_predictions)\n",
    "\n",
    "final_rmse = np.sqrt(final_mse)"
   ]
  },
  {
   "cell_type": "code",
   "execution_count": null,
   "id": "acf1d082",
   "metadata": {
    "id": "acf1d082",
    "outputId": "edb9bb2b-8814-4936-c7e2-372e918df6df"
   },
   "outputs": [
    {
     "data": {
      "text/plain": [
       "68857.12354879832"
      ]
     },
     "execution_count": 45,
     "metadata": {},
     "output_type": "execute_result"
    }
   ],
   "source": [
    "final_rmse"
   ]
  },
  {
   "cell_type": "code",
   "execution_count": null,
   "id": "f20a7462",
   "metadata": {
    "id": "f20a7462",
    "outputId": "5bfec92a-f24d-4dce-e6ac-da381ebf573f"
   },
   "outputs": [
    {
     "data": {
      "text/plain": [
       "array([65120.21056927, 72401.4164381 ])"
      ]
     },
     "execution_count": 46,
     "metadata": {},
     "output_type": "execute_result"
    }
   ],
   "source": [
    "from scipy import stats\n",
    "\n",
    "confidence = 0.95\n",
    "squared_errors = (final_predictions - y_test) ** 2\n",
    "np.sqrt(stats.t.interval(confidence, len(squared_errors) - 1,\n",
    "                        loc=squared_errors.mean(),\n",
    "                        scale=stats.sem(squared_errors)))"
   ]
  },
  {
   "cell_type": "markdown",
   "id": "12b87707",
   "metadata": {
    "id": "12b87707"
   },
   "source": [
    "# Kaggle result"
   ]
  },
  {
   "cell_type": "code",
   "execution_count": null,
   "id": "2a2e68b2",
   "metadata": {
    "id": "2a2e68b2"
   },
   "outputs": [],
   "source": [
    "final_result = pd.DataFrame(final_predictions, columns=['SalePrice'], index=test_data_labels['Id'])"
   ]
  },
  {
   "cell_type": "code",
   "execution_count": null,
   "id": "8c70374c",
   "metadata": {
    "id": "8c70374c",
    "outputId": "8aedb3c7-1082-4f65-c643-e834d124bfc4"
   },
   "outputs": [
    {
     "data": {
      "text/html": [
       "<div>\n",
       "<style scoped>\n",
       "    .dataframe tbody tr th:only-of-type {\n",
       "        vertical-align: middle;\n",
       "    }\n",
       "\n",
       "    .dataframe tbody tr th {\n",
       "        vertical-align: top;\n",
       "    }\n",
       "\n",
       "    .dataframe thead th {\n",
       "        text-align: right;\n",
       "    }\n",
       "</style>\n",
       "<table border=\"1\" class=\"dataframe\">\n",
       "  <thead>\n",
       "    <tr style=\"text-align: right;\">\n",
       "      <th></th>\n",
       "      <th>SalePrice</th>\n",
       "    </tr>\n",
       "    <tr>\n",
       "      <th>Id</th>\n",
       "      <th></th>\n",
       "    </tr>\n",
       "  </thead>\n",
       "  <tbody>\n",
       "    <tr>\n",
       "      <th>1461</th>\n",
       "      <td>124269.75</td>\n",
       "    </tr>\n",
       "    <tr>\n",
       "      <th>1462</th>\n",
       "      <td>155654.59</td>\n",
       "    </tr>\n",
       "    <tr>\n",
       "      <th>1463</th>\n",
       "      <td>179761.59</td>\n",
       "    </tr>\n",
       "    <tr>\n",
       "      <th>1464</th>\n",
       "      <td>181933.94</td>\n",
       "    </tr>\n",
       "    <tr>\n",
       "      <th>1465</th>\n",
       "      <td>190172.95</td>\n",
       "    </tr>\n",
       "    <tr>\n",
       "      <th>...</th>\n",
       "      <td>...</td>\n",
       "    </tr>\n",
       "    <tr>\n",
       "      <th>2915</th>\n",
       "      <td>83945.00</td>\n",
       "    </tr>\n",
       "    <tr>\n",
       "      <th>2916</th>\n",
       "      <td>86904.43</td>\n",
       "    </tr>\n",
       "    <tr>\n",
       "      <th>2917</th>\n",
       "      <td>160937.96</td>\n",
       "    </tr>\n",
       "    <tr>\n",
       "      <th>2918</th>\n",
       "      <td>119215.58</td>\n",
       "    </tr>\n",
       "    <tr>\n",
       "      <th>2919</th>\n",
       "      <td>228392.46</td>\n",
       "    </tr>\n",
       "  </tbody>\n",
       "</table>\n",
       "<p>1459 rows × 1 columns</p>\n",
       "</div>"
      ],
      "text/plain": [
       "      SalePrice\n",
       "Id             \n",
       "1461  124269.75\n",
       "1462  155654.59\n",
       "1463  179761.59\n",
       "1464  181933.94\n",
       "1465  190172.95\n",
       "...         ...\n",
       "2915   83945.00\n",
       "2916   86904.43\n",
       "2917  160937.96\n",
       "2918  119215.58\n",
       "2919  228392.46\n",
       "\n",
       "[1459 rows x 1 columns]"
      ]
     },
     "execution_count": 52,
     "metadata": {},
     "output_type": "execute_result"
    }
   ],
   "source": [
    "final_result"
   ]
  },
  {
   "cell_type": "code",
   "execution_count": null,
   "id": "347928be",
   "metadata": {
    "id": "347928be"
   },
   "outputs": [],
   "source": [
    "final_result.to_csv('result.cvs')"
   ]
  },
  {
   "cell_type": "markdown",
   "id": "6c819c72",
   "metadata": {
    "id": "6c819c72"
   },
   "source": [
    "# Exercises"
   ]
  },
  {
   "cell_type": "markdown",
   "id": "74026e46",
   "metadata": {
    "id": "74026e46"
   },
   "source": [
    "## 1"
   ]
  },
  {
   "cell_type": "code",
   "execution_count": null,
   "id": "61d3ac91",
   "metadata": {
    "id": "61d3ac91",
    "outputId": "1c401130-f5e9-4268-d925-827cdf000df0"
   },
   "outputs": [
    {
     "data": {
      "text/plain": [
       "SVR()"
      ]
     },
     "execution_count": 44,
     "metadata": {},
     "output_type": "execute_result"
    }
   ],
   "source": [
    "from  sklearn.svm import SVR\n",
    "\n",
    "svm_reg = SVR()\n",
    "svm_reg.fit(housing_prepared, housing_labels)"
   ]
  },
  {
   "cell_type": "code",
   "execution_count": null,
   "id": "9392c0fb",
   "metadata": {
    "id": "9392c0fb",
    "outputId": "c3c4046b-a72c-4d5f-9385-d384ff6c9a6b"
   },
   "outputs": [
    {
     "data": {
      "text/plain": [
       "10715.895088739837"
      ]
     },
     "execution_count": 45,
     "metadata": {},
     "output_type": "execute_result"
    }
   ],
   "source": [
    "svm_predictions = svm_reg.predict(housing_prepared)\n",
    "svm_mse = mean_squared_error(housing_labels, housing_predictions)\n",
    "svm_rmse = np.sqrt(svm_mse)\n",
    "svm_rmse"
   ]
  },
  {
   "cell_type": "code",
   "execution_count": null,
   "id": "821dbf10",
   "metadata": {
    "id": "821dbf10",
    "outputId": "2110357e-5432-4f89-f4d4-cae32b8bb662"
   },
   "outputs": [
    {
     "name": "stdout",
     "output_type": "stream",
     "text": [
      "Summ predictions:  [69021.38405975 84105.62482423 81712.50330842 85203.92723483\n",
      " 98727.6727979  79333.63903188 72453.85680476 71186.07754183\n",
      " 93827.12245916 73309.70228821]\n",
      "Average:  80888.15103509654\n",
      "Standart devation 9387.546204176877\n"
     ]
    }
   ],
   "source": [
    "svm_scores = cross_val_score(svm_reg,\n",
    "                        housing_prepared,\n",
    "                        housing_labels,\n",
    "                        scoring='neg_mean_squared_error', cv=10)\n",
    "svm_rmse_scores = np.sqrt(-svm_scores)\n",
    "display_scores(svm_rmse_scores)"
   ]
  },
  {
   "cell_type": "code",
   "execution_count": null,
   "id": "25d9bd82",
   "metadata": {
    "id": "25d9bd82",
    "outputId": "5141f72b-07ea-4ea3-cc96-7268a31a2ebd"
   },
   "outputs": [
    {
     "data": {
      "text/plain": [
       "GridSearchCV(cv=5, estimator=SVR(),\n",
       "             param_grid=[{'C': [10.0, 30.0, 100.0, 300.0, 1000.0, 3000.0],\n",
       "                          'kernel': ['linear']},\n",
       "                         {'C': [1.0, 3.0, 10.0, 30.0, 100.0, 300.0, 1000.0],\n",
       "                          'gamma': [0.01, 0.03, 0.1, 0.3, 1.0, 3.0],\n",
       "                          'kernel': ['rbf']}],\n",
       "             return_train_score=True, scoring='neg_mean_squared_error')"
      ]
     },
     "execution_count": 47,
     "metadata": {},
     "output_type": "execute_result"
    }
   ],
   "source": [
    "param_grid = [{'kernel': ['linear'], 'C': [10., 30., 100., 300., 1000., 3000.]},\n",
    "             {'kernel': ['rbf'], 'C': [1.0, 3.0, 10., 30., 100., 300., 1000.0], \n",
    "              'gamma': [0.01, 0.03, 0.1, 0.3, 1.0, 3.0]}]\n",
    "\n",
    "svm_reg = SVR()\n",
    "grid_search = GridSearchCV(svm_reg, param_grid, cv=5,\n",
    "                           scoring='neg_mean_squared_error',\n",
    "                          return_train_score=True)\n",
    "grid_search.fit(housing_prepared, housing_labels)"
   ]
  },
  {
   "cell_type": "code",
   "execution_count": null,
   "id": "23c63add",
   "metadata": {
    "id": "23c63add",
    "outputId": "ed31faf0-35ad-41a9-9cab-a330b834a43f"
   },
   "outputs": [
    {
     "data": {
      "text/plain": [
       "{'C': 300.0, 'kernel': 'linear'}"
      ]
     },
     "execution_count": 48,
     "metadata": {},
     "output_type": "execute_result"
    }
   ],
   "source": [
    "grid_search.best_params_"
   ]
  },
  {
   "cell_type": "code",
   "execution_count": null,
   "id": "1f8c3bed",
   "metadata": {
    "id": "1f8c3bed"
   },
   "outputs": [],
   "source": [
    "best_svr = grid_search.best_estimator_"
   ]
  },
  {
   "cell_type": "code",
   "execution_count": null,
   "id": "3988e938",
   "metadata": {
    "id": "3988e938",
    "outputId": "242e54e1-0dc2-481b-8b71-647feb86f1ee"
   },
   "outputs": [
    {
     "data": {
      "text/plain": [
       "10715.895088739837"
      ]
     },
     "execution_count": 50,
     "metadata": {},
     "output_type": "execute_result"
    }
   ],
   "source": [
    "best_svm_predictions = best_svr.predict(housing_prepared)\n",
    "svr_mse = mean_squared_error(housing_labels, housing_predictions)\n",
    "svr_rmse = np.sqrt(svr_mse)\n",
    "svr_rmse"
   ]
  },
  {
   "cell_type": "code",
   "execution_count": null,
   "id": "905070a8",
   "metadata": {
    "id": "905070a8",
    "outputId": "e698b38e-be05-4f45-c6d6-728cb45b8841"
   },
   "outputs": [
    {
     "name": "stdout",
     "output_type": "stream",
     "text": [
      "Summ predictions:  [21287.65506927 28297.04210639 22885.08039209 41010.10392048\n",
      " 36367.4287316  28008.01735877 25638.43964829 24807.73584054\n",
      " 64910.34160295 23448.11665312]\n",
      "Average:  31665.996132351625\n",
      "Standart devation 12550.092204999528\n"
     ]
    }
   ],
   "source": [
    "svr_scores = cross_val_score(best_svr,\n",
    "                        housing_prepared,\n",
    "                        housing_labels,\n",
    "                        scoring='neg_mean_squared_error', cv=10)\n",
    "svr_rmse_scores = np.sqrt(-svr_scores)\n",
    "display_scores(svr_rmse_scores)"
   ]
  },
  {
   "cell_type": "markdown",
   "id": "1a4f89cb",
   "metadata": {
    "id": "1a4f89cb"
   },
   "source": [
    "## 2"
   ]
  },
  {
   "cell_type": "code",
   "execution_count": null,
   "id": "b40208b7",
   "metadata": {
    "id": "b40208b7",
    "outputId": "11fe0fa4-4ecc-452a-e4d6-6b8e0c8cc030"
   },
   "outputs": [
    {
     "name": "stdout",
     "output_type": "stream",
     "text": [
      "Fitting 5 folds for each of 50 candidates, totalling 250 fits\n",
      "[CV] END C=629.782329591372, gamma=3.010121430917521, kernel=linear; total time=   0.1s\n",
      "[CV] END C=629.782329591372, gamma=3.010121430917521, kernel=linear; total time=   0.1s\n",
      "[CV] END C=629.782329591372, gamma=3.010121430917521, kernel=linear; total time=   0.2s\n",
      "[CV] END C=629.782329591372, gamma=3.010121430917521, kernel=linear; total time=   0.1s\n",
      "[CV] END C=629.782329591372, gamma=3.010121430917521, kernel=linear; total time=   0.1s\n",
      "[CV] END C=26290.206464300216, gamma=0.9084469696321253, kernel=rbf; total time=   0.1s\n",
      "[CV] END C=26290.206464300216, gamma=0.9084469696321253, kernel=rbf; total time=   0.1s\n",
      "[CV] END C=26290.206464300216, gamma=0.9084469696321253, kernel=rbf; total time=   0.1s\n",
      "[CV] END C=26290.206464300216, gamma=0.9084469696321253, kernel=rbf; total time=   0.1s\n",
      "[CV] END C=26290.206464300216, gamma=0.9084469696321253, kernel=rbf; total time=   0.1s\n",
      "[CV] END C=84.14107900575871, gamma=0.059838768608680676, kernel=rbf; total time=   0.1s\n",
      "[CV] END C=84.14107900575871, gamma=0.059838768608680676, kernel=rbf; total time=   0.1s\n",
      "[CV] END C=84.14107900575871, gamma=0.059838768608680676, kernel=rbf; total time=   0.1s\n",
      "[CV] END C=84.14107900575871, gamma=0.059838768608680676, kernel=rbf; total time=   0.1s\n",
      "[CV] END C=84.14107900575871, gamma=0.059838768608680676, kernel=rbf; total time=   0.1s\n",
      "[CV] END C=432.37884813148855, gamma=0.15416196746656105, kernel=linear; total time=   0.1s\n",
      "[CV] END C=432.37884813148855, gamma=0.15416196746656105, kernel=linear; total time=   0.2s\n",
      "[CV] END C=432.37884813148855, gamma=0.15416196746656105, kernel=linear; total time=   0.1s\n",
      "[CV] END C=432.37884813148855, gamma=0.15416196746656105, kernel=linear; total time=   0.2s\n",
      "[CV] END C=432.37884813148855, gamma=0.15416196746656105, kernel=linear; total time=   0.1s\n",
      "[CV] END C=24.17508294611391, gamma=3.503557475158312, kernel=rbf; total time=   0.1s\n",
      "[CV] END C=24.17508294611391, gamma=3.503557475158312, kernel=rbf; total time=   0.1s\n",
      "[CV] END C=24.17508294611391, gamma=3.503557475158312, kernel=rbf; total time=   0.1s\n",
      "[CV] END C=24.17508294611391, gamma=3.503557475158312, kernel=rbf; total time=   0.1s\n",
      "[CV] END C=24.17508294611391, gamma=3.503557475158312, kernel=rbf; total time=   0.1s\n",
      "[CV] END C=113564.03940586245, gamma=0.0007790692366582295, kernel=rbf; total time=   0.1s\n",
      "[CV] END C=113564.03940586245, gamma=0.0007790692366582295, kernel=rbf; total time=   0.1s\n",
      "[CV] END C=113564.03940586245, gamma=0.0007790692366582295, kernel=rbf; total time=   0.1s\n",
      "[CV] END C=113564.03940586245, gamma=0.0007790692366582295, kernel=rbf; total time=   0.1s\n",
      "[CV] END C=113564.03940586245, gamma=0.0007790692366582295, kernel=rbf; total time=   0.1s\n",
      "[CV] END C=108.30488238805073, gamma=0.3627537294604771, kernel=rbf; total time=   0.1s\n",
      "[CV] END C=108.30488238805073, gamma=0.3627537294604771, kernel=rbf; total time=   0.1s\n",
      "[CV] END C=108.30488238805073, gamma=0.3627537294604771, kernel=rbf; total time=   0.1s\n",
      "[CV] END C=108.30488238805073, gamma=0.3627537294604771, kernel=rbf; total time=   0.1s\n",
      "[CV] END C=108.30488238805073, gamma=0.3627537294604771, kernel=rbf; total time=   0.1s\n",
      "[CV] END C=21.344953672647435, gamma=0.023332523598323388, kernel=linear; total time=   0.1s\n",
      "[CV] END C=21.344953672647435, gamma=0.023332523598323388, kernel=linear; total time=   0.1s\n",
      "[CV] END C=21.344953672647435, gamma=0.023332523598323388, kernel=linear; total time=   0.0s\n",
      "[CV] END C=21.344953672647435, gamma=0.023332523598323388, kernel=linear; total time=   0.1s\n",
      "[CV] END C=21.344953672647435, gamma=0.023332523598323388, kernel=linear; total time=   0.1s\n",
      "[CV] END C=5603.270317432516, gamma=0.15023452872733867, kernel=rbf; total time=   0.1s\n",
      "[CV] END C=5603.270317432516, gamma=0.15023452872733867, kernel=rbf; total time=   0.1s\n",
      "[CV] END C=5603.270317432516, gamma=0.15023452872733867, kernel=rbf; total time=   0.1s\n",
      "[CV] END C=5603.270317432516, gamma=0.15023452872733867, kernel=rbf; total time=   0.1s\n",
      "[CV] END C=5603.270317432516, gamma=0.15023452872733867, kernel=rbf; total time=   0.1s\n",
      "[CV] END C=157055.10989448498, gamma=0.26497040005002437, kernel=rbf; total time=   0.1s\n",
      "[CV] END C=157055.10989448498, gamma=0.26497040005002437, kernel=rbf; total time=   0.1s\n",
      "[CV] END C=157055.10989448498, gamma=0.26497040005002437, kernel=rbf; total time=   0.1s\n",
      "[CV] END C=157055.10989448498, gamma=0.26497040005002437, kernel=rbf; total time=   0.1s\n",
      "[CV] END C=157055.10989448498, gamma=0.26497040005002437, kernel=rbf; total time=   0.1s\n",
      "[CV] END C=27652.464358739708, gamma=0.2227358621286903, kernel=linear; total time=  10.0s\n",
      "[CV] END C=27652.464358739708, gamma=0.2227358621286903, kernel=linear; total time=   7.5s\n",
      "[CV] END C=27652.464358739708, gamma=0.2227358621286903, kernel=linear; total time=   9.2s\n",
      "[CV] END C=27652.464358739708, gamma=0.2227358621286903, kernel=linear; total time=   3.7s\n",
      "[CV] END C=27652.464358739708, gamma=0.2227358621286903, kernel=linear; total time=   3.4s\n",
      "[CV] END C=171377.39570378003, gamma=0.628789100540856, kernel=linear; total time=  12.1s\n",
      "[CV] END C=171377.39570378003, gamma=0.628789100540856, kernel=linear; total time=  59.7s\n",
      "[CV] END C=171377.39570378003, gamma=0.628789100540856, kernel=linear; total time=  18.4s\n",
      "[CV] END C=171377.39570378003, gamma=0.628789100540856, kernel=linear; total time=  16.0s\n",
      "[CV] END C=171377.39570378003, gamma=0.628789100540856, kernel=linear; total time=  14.6s\n",
      "[CV] END C=5385.293820172355, gamma=0.18696125197741642, kernel=linear; total time=   0.9s\n",
      "[CV] END C=5385.293820172355, gamma=0.18696125197741642, kernel=linear; total time=   2.2s\n",
      "[CV] END C=5385.293820172355, gamma=0.18696125197741642, kernel=linear; total time=   1.3s\n",
      "[CV] END C=5385.293820172355, gamma=0.18696125197741642, kernel=linear; total time=   0.7s\n",
      "[CV] END C=5385.293820172355, gamma=0.18696125197741642, kernel=linear; total time=   1.5s\n",
      "[CV] END C=22.59903216621323, gamma=2.850796878935603, kernel=rbf; total time=   0.1s\n",
      "[CV] END C=22.59903216621323, gamma=2.850796878935603, kernel=rbf; total time=   0.1s\n",
      "[CV] END C=22.59903216621323, gamma=2.850796878935603, kernel=rbf; total time=   0.1s\n",
      "[CV] END C=22.59903216621323, gamma=2.850796878935603, kernel=rbf; total time=   0.1s\n",
      "[CV] END C=22.59903216621323, gamma=2.850796878935603, kernel=rbf; total time=   0.1s\n",
      "[CV] END C=34246.75194632794, gamma=0.3632878599687583, kernel=linear; total time=   8.2s\n",
      "[CV] END C=34246.75194632794, gamma=0.3632878599687583, kernel=linear; total time=   8.1s\n",
      "[CV] END C=34246.75194632794, gamma=0.3632878599687583, kernel=linear; total time=  11.3s\n",
      "[CV] END C=34246.75194632794, gamma=0.3632878599687583, kernel=linear; total time=   3.3s\n",
      "[CV] END C=34246.75194632794, gamma=0.3632878599687583, kernel=linear; total time=   2.5s\n",
      "[CV] END C=167.7278956080511, gamma=0.2757870542258224, kernel=rbf; total time=   0.1s\n",
      "[CV] END C=167.7278956080511, gamma=0.2757870542258224, kernel=rbf; total time=   0.1s\n",
      "[CV] END C=167.7278956080511, gamma=0.2757870542258224, kernel=rbf; total time=   0.1s\n",
      "[CV] END C=167.7278956080511, gamma=0.2757870542258224, kernel=rbf; total time=   0.1s\n",
      "[CV] END C=167.7278956080511, gamma=0.2757870542258224, kernel=rbf; total time=   0.1s\n",
      "[CV] END C=61.54360542501371, gamma=0.6835472281341501, kernel=linear; total time=   0.1s\n",
      "[CV] END C=61.54360542501371, gamma=0.6835472281341501, kernel=linear; total time=   0.1s\n",
      "[CV] END C=61.54360542501371, gamma=0.6835472281341501, kernel=linear; total time=   0.1s\n",
      "[CV] END C=61.54360542501371, gamma=0.6835472281341501, kernel=linear; total time=   0.1s\n",
      "[CV] END C=61.54360542501371, gamma=0.6835472281341501, kernel=linear; total time=   0.1s\n",
      "[CV] END C=98.73897389920914, gamma=0.4960365360493639, kernel=rbf; total time=   0.1s\n",
      "[CV] END C=98.73897389920914, gamma=0.4960365360493639, kernel=rbf; total time=   0.1s\n",
      "[CV] END C=98.73897389920914, gamma=0.4960365360493639, kernel=rbf; total time=   0.1s\n",
      "[CV] END C=98.73897389920914, gamma=0.4960365360493639, kernel=rbf; total time=   0.1s\n",
      "[CV] END C=98.73897389920914, gamma=0.4960365360493639, kernel=rbf; total time=   0.1s\n",
      "[CV] END C=8935.505635947808, gamma=0.37354658165762367, kernel=rbf; total time=   0.1s\n",
      "[CV] END C=8935.505635947808, gamma=0.37354658165762367, kernel=rbf; total time=   0.1s\n",
      "[CV] END C=8935.505635947808, gamma=0.37354658165762367, kernel=rbf; total time=   0.1s\n"
     ]
    },
    {
     "name": "stdout",
     "output_type": "stream",
     "text": [
      "[CV] END C=8935.505635947808, gamma=0.37354658165762367, kernel=rbf; total time=   0.1s\n",
      "[CV] END C=8935.505635947808, gamma=0.37354658165762367, kernel=rbf; total time=   0.1s\n",
      "[CV] END C=135.76775824842434, gamma=0.838636245624803, kernel=linear; total time=   0.1s\n",
      "[CV] END C=135.76775824842434, gamma=0.838636245624803, kernel=linear; total time=   0.1s\n",
      "[CV] END C=135.76775824842434, gamma=0.838636245624803, kernel=linear; total time=   0.1s\n",
      "[CV] END C=135.76775824842434, gamma=0.838636245624803, kernel=linear; total time=   0.1s\n",
      "[CV] END C=135.76775824842434, gamma=0.838636245624803, kernel=linear; total time=   0.1s\n",
      "[CV] END C=151136.20282548846, gamma=1.4922453771381408, kernel=rbf; total time=   0.1s\n",
      "[CV] END C=151136.20282548846, gamma=1.4922453771381408, kernel=rbf; total time=   0.1s\n",
      "[CV] END C=151136.20282548846, gamma=1.4922453771381408, kernel=rbf; total time=   0.1s\n",
      "[CV] END C=151136.20282548846, gamma=1.4922453771381408, kernel=rbf; total time=   0.1s\n",
      "[CV] END C=151136.20282548846, gamma=1.4922453771381408, kernel=rbf; total time=   0.1s\n",
      "[CV] END C=761.4316758498783, gamma=2.6126336514161914, kernel=linear; total time=   0.1s\n",
      "[CV] END C=761.4316758498783, gamma=2.6126336514161914, kernel=linear; total time=   0.3s\n",
      "[CV] END C=761.4316758498783, gamma=2.6126336514161914, kernel=linear; total time=   0.1s\n",
      "[CV] END C=761.4316758498783, gamma=2.6126336514161914, kernel=linear; total time=   0.1s\n",
      "[CV] END C=761.4316758498783, gamma=2.6126336514161914, kernel=linear; total time=   0.1s\n",
      "[CV] END C=97392.81883041795, gamma=0.09265545895311562, kernel=linear; total time=  14.9s\n",
      "[CV] END C=97392.81883041795, gamma=0.09265545895311562, kernel=linear; total time=  14.4s\n",
      "[CV] END C=97392.81883041795, gamma=0.09265545895311562, kernel=linear; total time=  20.1s\n",
      "[CV] END C=97392.81883041795, gamma=0.09265545895311562, kernel=linear; total time=  14.0s\n",
      "[CV] END C=97392.81883041795, gamma=0.09265545895311562, kernel=linear; total time=  50.7s\n",
      "[CV] END C=2423.0759984939164, gamma=3.248614270240346, kernel=linear; total time=   0.5s\n",
      "[CV] END C=2423.0759984939164, gamma=3.248614270240346, kernel=linear; total time=   0.6s\n",
      "[CV] END C=2423.0759984939164, gamma=3.248614270240346, kernel=linear; total time=   0.7s\n",
      "[CV] END C=2423.0759984939164, gamma=3.248614270240346, kernel=linear; total time=   0.8s\n",
      "[CV] END C=2423.0759984939164, gamma=3.248614270240346, kernel=linear; total time=   1.0s\n",
      "[CV] END C=717.3632997255095, gamma=0.3165604432088257, kernel=linear; total time=   0.1s\n",
      "[CV] END C=717.3632997255095, gamma=0.3165604432088257, kernel=linear; total time=   0.2s\n",
      "[CV] END C=717.3632997255095, gamma=0.3165604432088257, kernel=linear; total time=   0.1s\n",
      "[CV] END C=717.3632997255095, gamma=0.3165604432088257, kernel=linear; total time=   0.1s\n",
      "[CV] END C=717.3632997255095, gamma=0.3165604432088257, kernel=linear; total time=   0.1s\n",
      "[CV] END C=4446.667521184072, gamma=3.3597284456608496, kernel=rbf; total time=   0.1s\n",
      "[CV] END C=4446.667521184072, gamma=3.3597284456608496, kernel=rbf; total time=   0.1s\n",
      "[CV] END C=4446.667521184072, gamma=3.3597284456608496, kernel=rbf; total time=   0.1s\n",
      "[CV] END C=4446.667521184072, gamma=3.3597284456608496, kernel=rbf; total time=   0.1s\n",
      "[CV] END C=4446.667521184072, gamma=3.3597284456608496, kernel=rbf; total time=   0.1s\n",
      "[CV] END C=2963.564121207815, gamma=0.15189814782062885, kernel=linear; total time=   8.3s\n",
      "[CV] END C=2963.564121207815, gamma=0.15189814782062885, kernel=linear; total time=   0.7s\n",
      "[CV] END C=2963.564121207815, gamma=0.15189814782062885, kernel=linear; total time=   3.0s\n",
      "[CV] END C=2963.564121207815, gamma=0.15189814782062885, kernel=linear; total time=   1.4s\n",
      "[CV] END C=2963.564121207815, gamma=0.15189814782062885, kernel=linear; total time=   0.5s\n",
      "[CV] END C=91.64267381686706, gamma=0.01575994483585621, kernel=linear; total time=   0.1s\n",
      "[CV] END C=91.64267381686706, gamma=0.01575994483585621, kernel=linear; total time=   0.1s\n",
      "[CV] END C=91.64267381686706, gamma=0.01575994483585621, kernel=linear; total time=   0.1s\n",
      "[CV] END C=91.64267381686706, gamma=0.01575994483585621, kernel=linear; total time=   0.1s\n",
      "[CV] END C=91.64267381686706, gamma=0.01575994483585621, kernel=linear; total time=   0.1s\n",
      "[CV] END C=24547.601975705915, gamma=0.22153944050588595, kernel=rbf; total time=   0.1s\n",
      "[CV] END C=24547.601975705915, gamma=0.22153944050588595, kernel=rbf; total time=   0.1s\n",
      "[CV] END C=24547.601975705915, gamma=0.22153944050588595, kernel=rbf; total time=   0.1s\n",
      "[CV] END C=24547.601975705915, gamma=0.22153944050588595, kernel=rbf; total time=   0.1s\n",
      "[CV] END C=24547.601975705915, gamma=0.22153944050588595, kernel=rbf; total time=   0.1s\n",
      "[CV] END C=22.76927941060928, gamma=0.22169760231351215, kernel=rbf; total time=   0.1s\n",
      "[CV] END C=22.76927941060928, gamma=0.22169760231351215, kernel=rbf; total time=   0.1s\n",
      "[CV] END C=22.76927941060928, gamma=0.22169760231351215, kernel=rbf; total time=   0.1s\n",
      "[CV] END C=22.76927941060928, gamma=0.22169760231351215, kernel=rbf; total time=   0.1s\n",
      "[CV] END C=22.76927941060928, gamma=0.22169760231351215, kernel=rbf; total time=   0.1s\n",
      "[CV] END C=16483.850529752886, gamma=1.4752145260435134, kernel=linear; total time=   3.6s\n",
      "[CV] END C=16483.850529752886, gamma=1.4752145260435134, kernel=linear; total time=   4.2s\n",
      "[CV] END C=16483.850529752886, gamma=1.4752145260435134, kernel=linear; total time=   3.0s\n",
      "[CV] END C=16483.850529752886, gamma=1.4752145260435134, kernel=linear; total time=   2.1s\n",
      "[CV] END C=16483.850529752886, gamma=1.4752145260435134, kernel=linear; total time=   6.3s\n",
      "[CV] END C=101445.66881340064, gamma=1.052904084582266, kernel=rbf; total time=   0.1s\n",
      "[CV] END C=101445.66881340064, gamma=1.052904084582266, kernel=rbf; total time=   0.1s\n",
      "[CV] END C=101445.66881340064, gamma=1.052904084582266, kernel=rbf; total time=   0.1s\n",
      "[CV] END C=101445.66881340064, gamma=1.052904084582266, kernel=rbf; total time=   0.1s\n",
      "[CV] END C=101445.66881340064, gamma=1.052904084582266, kernel=rbf; total time=   0.1s\n",
      "[CV] END C=56681.80859029545, gamma=0.9763011917123741, kernel=rbf; total time=   0.1s\n",
      "[CV] END C=56681.80859029545, gamma=0.9763011917123741, kernel=rbf; total time=   0.1s\n",
      "[CV] END C=56681.80859029545, gamma=0.9763011917123741, kernel=rbf; total time=   0.1s\n",
      "[CV] END C=56681.80859029545, gamma=0.9763011917123741, kernel=rbf; total time=   0.1s\n",
      "[CV] END C=56681.80859029545, gamma=0.9763011917123741, kernel=rbf; total time=   0.1s\n",
      "[CV] END C=48.15822390928914, gamma=0.4633351167983427, kernel=rbf; total time=   0.1s\n",
      "[CV] END C=48.15822390928914, gamma=0.4633351167983427, kernel=rbf; total time=   0.1s\n",
      "[CV] END C=48.15822390928914, gamma=0.4633351167983427, kernel=rbf; total time=   0.1s\n",
      "[CV] END C=48.15822390928914, gamma=0.4633351167983427, kernel=rbf; total time=   0.1s\n",
      "[CV] END C=48.15822390928914, gamma=0.4633351167983427, kernel=rbf; total time=   0.1s\n",
      "[CV] END C=399.7268155705774, gamma=1.3078757839577408, kernel=rbf; total time=   0.1s\n",
      "[CV] END C=399.7268155705774, gamma=1.3078757839577408, kernel=rbf; total time=   0.1s\n",
      "[CV] END C=399.7268155705774, gamma=1.3078757839577408, kernel=rbf; total time=   0.1s\n",
      "[CV] END C=399.7268155705774, gamma=1.3078757839577408, kernel=rbf; total time=   0.1s\n",
      "[CV] END C=399.7268155705774, gamma=1.3078757839577408, kernel=rbf; total time=   0.1s\n",
      "[CV] END C=251.14073886281363, gamma=0.8238105204914145, kernel=linear; total time=   0.1s\n",
      "[CV] END C=251.14073886281363, gamma=0.8238105204914145, kernel=linear; total time=   0.1s\n",
      "[CV] END C=251.14073886281363, gamma=0.8238105204914145, kernel=linear; total time=   0.1s\n",
      "[CV] END C=251.14073886281363, gamma=0.8238105204914145, kernel=linear; total time=   0.1s\n",
      "[CV] END C=251.14073886281363, gamma=0.8238105204914145, kernel=linear; total time=   0.1s\n",
      "[CV] END C=60.17373642891687, gamma=1.2491263443165994, kernel=linear; total time=   0.1s\n",
      "[CV] END C=60.17373642891687, gamma=1.2491263443165994, kernel=linear; total time=   0.1s\n",
      "[CV] END C=60.17373642891687, gamma=1.2491263443165994, kernel=linear; total time=   0.1s\n",
      "[CV] END C=60.17373642891687, gamma=1.2491263443165994, kernel=linear; total time=   0.1s\n",
      "[CV] END C=60.17373642891687, gamma=1.2491263443165994, kernel=linear; total time=   0.1s\n",
      "[CV] END C=15415.161544891856, gamma=0.2691677514619319, kernel=rbf; total time=   0.1s\n"
     ]
    },
    {
     "name": "stdout",
     "output_type": "stream",
     "text": [
      "[CV] END C=15415.161544891856, gamma=0.2691677514619319, kernel=rbf; total time=   0.1s\n",
      "[CV] END C=15415.161544891856, gamma=0.2691677514619319, kernel=rbf; total time=   0.1s\n",
      "[CV] END C=15415.161544891856, gamma=0.2691677514619319, kernel=rbf; total time=   0.1s\n",
      "[CV] END C=15415.161544891856, gamma=0.2691677514619319, kernel=rbf; total time=   0.1s\n",
      "[CV] END C=1888.9148509967113, gamma=0.739678838777267, kernel=linear; total time=   0.3s\n",
      "[CV] END C=1888.9148509967113, gamma=0.739678838777267, kernel=linear; total time=   1.3s\n",
      "[CV] END C=1888.9148509967113, gamma=0.739678838777267, kernel=linear; total time=   0.9s\n",
      "[CV] END C=1888.9148509967113, gamma=0.739678838777267, kernel=linear; total time=   0.4s\n",
      "[CV] END C=1888.9148509967113, gamma=0.739678838777267, kernel=linear; total time=   0.5s\n",
      "[CV] END C=55.53838911232773, gamma=0.578634378499143, kernel=linear; total time=   0.1s\n",
      "[CV] END C=55.53838911232773, gamma=0.578634378499143, kernel=linear; total time=   0.1s\n",
      "[CV] END C=55.53838911232773, gamma=0.578634378499143, kernel=linear; total time=   0.1s\n",
      "[CV] END C=55.53838911232773, gamma=0.578634378499143, kernel=linear; total time=   0.1s\n",
      "[CV] END C=55.53838911232773, gamma=0.578634378499143, kernel=linear; total time=   0.1s\n",
      "[CV] END C=26.714480823948186, gamma=1.0117295509275495, kernel=rbf; total time=   0.1s\n",
      "[CV] END C=26.714480823948186, gamma=1.0117295509275495, kernel=rbf; total time=   0.1s\n",
      "[CV] END C=26.714480823948186, gamma=1.0117295509275495, kernel=rbf; total time=   0.1s\n",
      "[CV] END C=26.714480823948186, gamma=1.0117295509275495, kernel=rbf; total time=   0.1s\n",
      "[CV] END C=26.714480823948186, gamma=1.0117295509275495, kernel=rbf; total time=   0.1s\n",
      "[CV] END C=3582.0552780489566, gamma=1.1891370222133257, kernel=linear; total time=   2.0s\n",
      "[CV] END C=3582.0552780489566, gamma=1.1891370222133257, kernel=linear; total time=   1.1s\n",
      "[CV] END C=3582.0552780489566, gamma=1.1891370222133257, kernel=linear; total time=   1.7s\n",
      "[CV] END C=3582.0552780489566, gamma=1.1891370222133257, kernel=linear; total time=   0.2s\n",
      "[CV] END C=3582.0552780489566, gamma=1.1891370222133257, kernel=linear; total time=   0.3s\n",
      "[CV] END C=198.7004781812736, gamma=0.5282819748826726, kernel=linear; total time=   0.1s\n",
      "[CV] END C=198.7004781812736, gamma=0.5282819748826726, kernel=linear; total time=   0.1s\n",
      "[CV] END C=198.7004781812736, gamma=0.5282819748826726, kernel=linear; total time=   0.1s\n",
      "[CV] END C=198.7004781812736, gamma=0.5282819748826726, kernel=linear; total time=   0.1s\n",
      "[CV] END C=198.7004781812736, gamma=0.5282819748826726, kernel=linear; total time=   0.1s\n",
      "[CV] END C=129.8000604143307, gamma=2.8621383676481322, kernel=linear; total time=   0.1s\n",
      "[CV] END C=129.8000604143307, gamma=2.8621383676481322, kernel=linear; total time=   0.1s\n",
      "[CV] END C=129.8000604143307, gamma=2.8621383676481322, kernel=linear; total time=   0.1s\n",
      "[CV] END C=129.8000604143307, gamma=2.8621383676481322, kernel=linear; total time=   0.1s\n",
      "[CV] END C=129.8000604143307, gamma=2.8621383676481322, kernel=linear; total time=   0.1s\n",
      "[CV] END C=288.4269299593897, gamma=0.17580835850006285, kernel=rbf; total time=   0.1s\n",
      "[CV] END C=288.4269299593897, gamma=0.17580835850006285, kernel=rbf; total time=   0.1s\n",
      "[CV] END C=288.4269299593897, gamma=0.17580835850006285, kernel=rbf; total time=   0.1s\n",
      "[CV] END C=288.4269299593897, gamma=0.17580835850006285, kernel=rbf; total time=   0.1s\n",
      "[CV] END C=288.4269299593897, gamma=0.17580835850006285, kernel=rbf; total time=   0.1s\n",
      "[CV] END C=6287.039489427172, gamma=0.3504567255332862, kernel=linear; total time=   3.1s\n",
      "[CV] END C=6287.039489427172, gamma=0.3504567255332862, kernel=linear; total time=   2.1s\n",
      "[CV] END C=6287.039489427172, gamma=0.3504567255332862, kernel=linear; total time=   4.7s\n",
      "[CV] END C=6287.039489427172, gamma=0.3504567255332862, kernel=linear; total time=   1.5s\n",
      "[CV] END C=6287.039489427172, gamma=0.3504567255332862, kernel=linear; total time=   1.0s\n",
      "[CV] END C=61217.04421344494, gamma=1.6279689407405564, kernel=rbf; total time=   0.1s\n",
      "[CV] END C=61217.04421344494, gamma=1.6279689407405564, kernel=rbf; total time=   0.1s\n",
      "[CV] END C=61217.04421344494, gamma=1.6279689407405564, kernel=rbf; total time=   0.1s\n",
      "[CV] END C=61217.04421344494, gamma=1.6279689407405564, kernel=rbf; total time=   0.1s\n",
      "[CV] END C=61217.04421344494, gamma=1.6279689407405564, kernel=rbf; total time=   0.1s\n",
      "[CV] END C=926.9787684096649, gamma=2.147979593060577, kernel=rbf; total time=   0.1s\n",
      "[CV] END C=926.9787684096649, gamma=2.147979593060577, kernel=rbf; total time=   0.1s\n",
      "[CV] END C=926.9787684096649, gamma=2.147979593060577, kernel=rbf; total time=   0.1s\n",
      "[CV] END C=926.9787684096649, gamma=2.147979593060577, kernel=rbf; total time=   0.1s\n",
      "[CV] END C=926.9787684096649, gamma=2.147979593060577, kernel=rbf; total time=   0.1s\n",
      "[CV] END C=33946.157064934, gamma=2.2642426492862313, kernel=linear; total time=   1.9s\n",
      "[CV] END C=33946.157064934, gamma=2.2642426492862313, kernel=linear; total time=   9.4s\n",
      "[CV] END C=33946.157064934, gamma=2.2642426492862313, kernel=linear; total time=  10.8s\n",
      "[CV] END C=33946.157064934, gamma=2.2642426492862313, kernel=linear; total time=  16.2s\n",
      "[CV] END C=33946.157064934, gamma=2.2642426492862313, kernel=linear; total time=   6.0s\n",
      "[CV] END C=84789.82947739525, gamma=0.3176359085304841, kernel=linear; total time= 1.1min\n",
      "[CV] END C=84789.82947739525, gamma=0.3176359085304841, kernel=linear; total time=  10.3s\n",
      "[CV] END C=84789.82947739525, gamma=0.3176359085304841, kernel=linear; total time=  11.3s\n",
      "[CV] END C=84789.82947739525, gamma=0.3176359085304841, kernel=linear; total time=   7.0s\n",
      "[CV] END C=84789.82947739525, gamma=0.3176359085304841, kernel=linear; total time=  35.2s\n"
     ]
    },
    {
     "data": {
      "text/plain": [
       "RandomizedSearchCV(cv=5, estimator=SVR(), n_iter=50,\n",
       "                   param_distributions={'C': <scipy.stats._distn_infrastructure.rv_frozen object at 0x7f55cec19f10>,\n",
       "                                        'gamma': <scipy.stats._distn_infrastructure.rv_frozen object at 0x7f55cec43490>,\n",
       "                                        'kernel': ['linear', 'rbf']},\n",
       "                   random_state=42, scoring='neg_mean_squared_error',\n",
       "                   verbose=2)"
      ]
     },
     "execution_count": 148,
     "metadata": {},
     "output_type": "execute_result"
    }
   ],
   "source": [
    "from sklearn.model_selection import RandomizedSearchCV\n",
    "from scipy.stats import expon, reciprocal\n",
    "\n",
    "param_distribs = {\n",
    "        'kernel': ['linear', 'rbf'],\n",
    "        'C': reciprocal(20, 200000),\n",
    "        'gamma': expon(scale=1.0),\n",
    "    }\n",
    "\n",
    "svm_reg = SVR()\n",
    "rnd_search = RandomizedSearchCV(svm_reg, param_distributions=param_distribs,\n",
    "                                n_iter=50, cv=5, scoring='neg_mean_squared_error',\n",
    "                                verbose=2, random_state=42)\n",
    "rnd_search.fit(housing_prepared, housing_labels)"
   ]
  },
  {
   "cell_type": "code",
   "execution_count": null,
   "id": "eafef05c",
   "metadata": {
    "id": "eafef05c",
    "outputId": "07c2d85f-d72d-4eb0-c121-a856fbafdb4a"
   },
   "outputs": [
    {
     "data": {
      "text/plain": [
       "31025.651991786446"
      ]
     },
     "execution_count": 150,
     "metadata": {},
     "output_type": "execute_result"
    }
   ],
   "source": [
    "rnd_nmse = rnd_search.best_score_\n",
    "rnd_rmse = np.sqrt(-rnd_nmse)\n",
    "rnd_rmse"
   ]
  },
  {
   "cell_type": "markdown",
   "id": "25ea7cab",
   "metadata": {
    "id": "25ea7cab"
   },
   "source": [
    "## 3"
   ]
  },
  {
   "cell_type": "code",
   "execution_count": null,
   "id": "5d434b1d",
   "metadata": {
    "id": "5d434b1d"
   },
   "outputs": [],
   "source": [
    "# futures = ['OverallQual', 'GrLivArea', 'GarageCars', 'TotalBsmtSF', 'KitchenQual',\n",
    "#           '1stFlrSF', 'YearBuilt', 'GarageArea', 'ExterQual', 'BsmtQual', 'FullBath',\n",
    "#           '2ndFlrSF', 'Fireplaces', 'LotArea', 'BsmtFinSF1', 'Foundation', 'GarageYrBlt',\n",
    "#           'LotFrontage', 'MasVnrArea', 'TotRmsAbvGrd', 'Neighborhood', 'YearRemodAdd', 'GarageFinish']\n",
    "\n",
    "class MainFuturesAdder(BaseEstimator, TransformerMixin):\n",
    "    def __init__(self, labeled_future_importances, k, attr_type=None):\n",
    "        self.attr_type = attr_type\n",
    "        self.labeled_future_importances = labeled_future_importances\n",
    "        self.k = k\n",
    "    def fit(self, X, y=None):\n",
    "        self.attribs = [i[1] for i in labeled_future_importances[:self.k]]\n",
    "        return self\n",
    "    def transform(self, X, y=None):\n",
    "        if self.attr_type == 'object':\n",
    "            obj_futures = set(obj_transform) & set(self.attribs)\n",
    "            return X[list(obj_futures)]\n",
    "        else:\n",
    "            other_futures = set(nums_transform) & set(self.attribs)\n",
    "            return X[list(other_futures)]"
   ]
  },
  {
   "cell_type": "code",
   "execution_count": null,
   "id": "7fb35315",
   "metadata": {
    "id": "7fb35315"
   },
   "outputs": [],
   "source": [
    "k = 20 # number of futures\n",
    "\n",
    "num_main_pipeline = Pipeline([\n",
    "    ('main_futures', MainFuturesAdder(labeled_future_importances, k)),\n",
    "    ('imputer', SimpleImputer(strategy='median')),\n",
    "    ('std_scaler', StandardScaler())\n",
    "])\n",
    "\n",
    "obj_main_pipeline = Pipeline([\n",
    "    ('main_futures', MainFuturesAdder(labeled_future_importances, k, 'object')),\n",
    "    ('ordinal_encoder', OrdinalEncoder(handle_unknown='use_encoded_value',\n",
    "                                       unknown_value=np.nan)),\n",
    "    ('imputer', SimpleImputer(strategy='median')),\n",
    "    ('std_scaler', StandardScaler(with_mean=False))\n",
    "])"
   ]
  },
  {
   "cell_type": "code",
   "execution_count": null,
   "id": "e9fb37fe",
   "metadata": {
    "id": "e9fb37fe"
   },
   "outputs": [],
   "source": [
    "full_main_pipeline = ColumnTransformer([\n",
    "    ('num', num_main_pipeline, nums_transform),\n",
    "    ('ord', obj_main_pipeline, obj_transform)\n",
    "])\n",
    "\n",
    "main_prepared = full_main_pipeline.fit_transform(housing)"
   ]
  },
  {
   "cell_type": "code",
   "execution_count": null,
   "id": "58b3b01a",
   "metadata": {
    "id": "58b3b01a"
   },
   "outputs": [],
   "source": [
    "def indices_of_top_k(arr, k):\n",
    "    return np.sort(np.argpartition(np.array(arr), -k)[-k:])\n",
    "\n",
    "class TopFeatureSelector(BaseEstimator, TransformerMixin):\n",
    "    def __init__(self, feature_importances, k):\n",
    "        self.feature_importances = feature_importances\n",
    "        self.k = k\n",
    "    def fit(self, X, y=None):\n",
    "        self.feature_indices_ = indices_of_top_k(self.feature_importances, self.k)\n",
    "        return self\n",
    "    def transform(self, X):\n",
    "        return X[:, self.feature_indices_]"
   ]
  },
  {
   "cell_type": "markdown",
   "id": "0e8dc407",
   "metadata": {
    "id": "0e8dc407"
   },
   "source": [
    "## 4"
   ]
  },
  {
   "cell_type": "code",
   "execution_count": null,
   "id": "6d84cc31",
   "metadata": {
    "id": "6d84cc31"
   },
   "outputs": [],
   "source": [
    "lin_reg = Pipeline([\n",
    "    ('full_data', full_main_pipeline),\n",
    "    ('lin_reg', LinearRegression())\n",
    "])\n",
    "\n",
    "lin_reg_test = lin_reg.fit(housing, housing_labels)"
   ]
  },
  {
   "cell_type": "code",
   "execution_count": null,
   "id": "580c7823",
   "metadata": {
    "id": "580c7823",
    "outputId": "6480d1a6-7f88-480b-f799-50fc9ae4f0e7"
   },
   "outputs": [
    {
     "name": "stdout",
     "output_type": "stream",
     "text": [
      "Predictions:  [206035.39048944 182379.16870785 220942.68939811 224468.29798811\n",
      " 333160.32349196]\n",
      "Labels:  [208500, 181500, 223500, 140000, 250000]\n"
     ]
    }
   ],
   "source": [
    "print('Predictions: ',lin_reg_test.predict(some_data))\n",
    "print('Labels: ', list(some_labels))"
   ]
  },
  {
   "cell_type": "markdown",
   "id": "8f651d36",
   "metadata": {
    "id": "8f651d36"
   },
   "source": [
    "## 5"
   ]
  },
  {
   "cell_type": "code",
   "execution_count": null,
   "id": "51de79dc",
   "metadata": {
    "id": "51de79dc"
   },
   "outputs": [],
   "source": []
  }
 ],
 "metadata": {
  "colab": {
   "name": "housing.ipynb",
   "provenance": []
  },
  "kernelspec": {
   "display_name": "env",
   "language": "python",
   "name": "env"
  },
  "language_info": {
   "codemirror_mode": {
    "name": "ipython",
    "version": 3
   },
   "file_extension": ".py",
   "mimetype": "text/x-python",
   "name": "python",
   "nbconvert_exporter": "python",
   "pygments_lexer": "ipython3",
   "version": "3.9.2"
  }
 },
 "nbformat": 4,
 "nbformat_minor": 5
}
